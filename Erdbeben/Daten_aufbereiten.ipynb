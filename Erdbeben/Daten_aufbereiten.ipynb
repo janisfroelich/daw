{
 "cells": [
  {
   "cell_type": "code",
   "execution_count": 2,
   "metadata": {
    "collapsed": true
   },
   "outputs": [],
   "source": [
    "import pandas as pd\n",
    "import geopandas as gpd\n",
    "import matplotlib.pyplot as plt\n",
    "import datetime\n",
    "import seaborn as sns"
   ]
  },
  {
   "cell_type": "code",
   "execution_count": 3,
   "outputs": [],
   "source": [
    "#Daten einlesen\n",
    "df_erdbeben = gpd.read_file(\"erdbeben.json\")"
   ],
   "metadata": {
    "collapsed": false,
    "pycharm": {
     "name": "#%%\n"
    }
   }
  },
  {
   "cell_type": "code",
   "execution_count": 4,
   "outputs": [
    {
     "name": "stdout",
     "output_type": "stream",
     "text": [
      "           id   mag                           place           time  \\\n",
      "0  ok2022fsoi  2.14      8 km SSE of Meno, Oklahoma  1648020119195   \n",
      "1  hv72959742  2.24  16 km S of Fern Forest, Hawaii  1648019829910   \n",
      "2  nc73709176  0.67      4km NNW of The Geysers, CA  1648019657830   \n",
      "3  hv72959727  2.27      9 km ENE of Pāhala, Hawaii  1648018848890   \n",
      "4  hv72959722  2.04       8 km NE of Pāhala, Hawaii  1648018716420   \n",
      "\n",
      "         updated    tz                                                url  \\\n",
      "0  1648020344741  None  https://earthquake.usgs.gov/earthquakes/eventp...   \n",
      "1  1648020159470  None  https://earthquake.usgs.gov/earthquakes/eventp...   \n",
      "2  1648019755019  None  https://earthquake.usgs.gov/earthquakes/eventp...   \n",
      "3  1648019178220  None  https://earthquake.usgs.gov/earthquakes/eventp...   \n",
      "4  1648018905350  None  https://earthquake.usgs.gov/earthquakes/eventp...   \n",
      "\n",
      "                                              detail  felt  cdi  ...  sources  \\\n",
      "0  https://earthquake.usgs.gov/earthquakes/feed/v...   NaN  NaN  ...     ,ok,   \n",
      "1  https://earthquake.usgs.gov/earthquakes/feed/v...   NaN  NaN  ...     ,hv,   \n",
      "2  https://earthquake.usgs.gov/earthquakes/feed/v...   NaN  NaN  ...     ,nc,   \n",
      "3  https://earthquake.usgs.gov/earthquakes/feed/v...   NaN  NaN  ...     ,hv,   \n",
      "4  https://earthquake.usgs.gov/earthquakes/feed/v...   NaN  NaN  ...     ,hv,   \n",
      "\n",
      "                               types   nst      dmin       rms         gap  \\\n",
      "0                ,origin,phase-data,  38.0  0.221780  0.588481   65.595261   \n",
      "1                ,origin,phase-data,  39.0       NaN  0.180000  158.000000   \n",
      "2  ,nearby-cities,origin,phase-data,  10.0  0.007653  0.010000   67.000000   \n",
      "3                ,origin,phase-data,  43.0       NaN  0.120000  133.000000   \n",
      "4                ,origin,phase-data,  29.0       NaN  0.110000  129.000000   \n",
      "\n",
      "  magType        type                                   title  \\\n",
      "0      ml  earthquake      M 2.1 - 8 km SSE of Meno, Oklahoma   \n",
      "1      ml  earthquake  M 2.2 - 16 km S of Fern Forest, Hawaii   \n",
      "2      md  earthquake      M 0.7 - 4km NNW of The Geysers, CA   \n",
      "3      ml  earthquake      M 2.3 - 9 km ENE of Pāhala, Hawaii   \n",
      "4      md  earthquake       M 2.0 - 8 km NE of Pāhala, Hawaii   \n",
      "\n",
      "                                 geometry  \n",
      "0    POINT Z (-98.13358 36.31862 2.74982)  \n",
      "1   POINT Z (-155.11250 19.32050 5.41000)  \n",
      "2   POINT Z (-122.77934 38.80567 2.21000)  \n",
      "3  POINT Z (-155.40350 19.24350 32.26000)  \n",
      "4  POINT Z (-155.41167 19.24950 32.39000)  \n",
      "\n",
      "[5 rows x 28 columns]\n"
     ]
    }
   ],
   "source": [
    "print(df_erdbeben.head())"
   ],
   "metadata": {
    "collapsed": false,
    "pycharm": {
     "name": "#%%\n"
    }
   }
  },
  {
   "cell_type": "code",
   "execution_count": 5,
   "outputs": [
    {
     "data": {
      "text/plain": "id             0\nmag            0\nplace          0\ntime           0\nupdated        0\ntz          1994\nurl            0\ndetail         0\nfelt        1818\ncdi         1818\nmmi         1966\nalert       1984\nstatus         0\ntsunami        0\nsig            0\nnet            0\ncode           0\nids            0\nsources        0\ntypes          0\nnst          480\ndmin         633\nrms            0\ngap          267\nmagType        0\ntype           0\ntitle          0\ngeometry       0\ndtype: int64"
     },
     "execution_count": 5,
     "metadata": {},
     "output_type": "execute_result"
    }
   ],
   "source": [
    "df_erdbeben.isna().sum()"
   ],
   "metadata": {
    "collapsed": false,
    "pycharm": {
     "name": "#%%\n"
    }
   }
  },
  {
   "cell_type": "code",
   "execution_count": 6,
   "outputs": [
    {
     "name": "stdout",
     "output_type": "stream",
     "text": [
      "green\n",
      "green\n",
      "green\n",
      "green\n",
      "green\n",
      "green\n",
      "yellow\n",
      "green\n",
      "orange\n",
      "green\n"
     ]
    }
   ],
   "source": [
    "for i in range(len(df_erdbeben)):\n",
    "    if df_erdbeben[\"alert\"][i] != None:\n",
    "        print(df_erdbeben[\"alert\"][i])"
   ],
   "metadata": {
    "collapsed": false,
    "pycharm": {
     "name": "#%%\n"
    }
   }
  },
  {
   "cell_type": "code",
   "execution_count": 24,
   "outputs": [
    {
     "data": {
      "text/plain": "           id   mag                           place           time  \\\n0  ok2022fsoi  2.14      8 km SSE of Meno, Oklahoma  1648020119195   \n1  hv72959742  2.24  16 km S of Fern Forest, Hawaii  1648019829910   \n2  nc73709176  0.67      4km NNW of The Geysers, CA  1648019657830   \n3  hv72959727  2.27      9 km ENE of Pāhala, Hawaii  1648018848890   \n4  hv72959722  2.04       8 km NE of Pāhala, Hawaii  1648018716420   \n\n         updated    tz  felt  cdi  mmi alert  ... sources  \\\n0  1648020344741  None   NaN  NaN  NaN  None  ...    ,ok,   \n1  1648020159470  None   NaN  NaN  NaN  None  ...    ,hv,   \n2  1648019755019  None   NaN  NaN  NaN  None  ...    ,nc,   \n3  1648019178220  None   NaN  NaN  NaN  None  ...    ,hv,   \n4  1648018905350  None   NaN  NaN  NaN  None  ...    ,hv,   \n\n                               types   nst      dmin       rms         gap  \\\n0                ,origin,phase-data,  38.0  0.221780  0.588481   65.595261   \n1                ,origin,phase-data,  39.0       NaN  0.180000  158.000000   \n2  ,nearby-cities,origin,phase-data,  10.0  0.007653  0.010000   67.000000   \n3                ,origin,phase-data,  43.0       NaN  0.120000  133.000000   \n4                ,origin,phase-data,  29.0       NaN  0.110000  129.000000   \n\n  magType        type                                   title  \\\n0      ml  earthquake      M 2.1 - 8 km SSE of Meno, Oklahoma   \n1      ml  earthquake  M 2.2 - 16 km S of Fern Forest, Hawaii   \n2      md  earthquake      M 0.7 - 4km NNW of The Geysers, CA   \n3      ml  earthquake      M 2.3 - 9 km ENE of Pāhala, Hawaii   \n4      md  earthquake       M 2.0 - 8 km NE of Pāhala, Hawaii   \n\n                                 geometry  \n0    POINT Z (-98.13358 36.31862 2.74982)  \n1   POINT Z (-155.11250 19.32050 5.41000)  \n2   POINT Z (-122.77934 38.80567 2.21000)  \n3  POINT Z (-155.40350 19.24350 32.26000)  \n4  POINT Z (-155.41167 19.24950 32.39000)  \n\n[5 rows x 26 columns]",
      "text/html": "<div>\n<style scoped>\n    .dataframe tbody tr th:only-of-type {\n        vertical-align: middle;\n    }\n\n    .dataframe tbody tr th {\n        vertical-align: top;\n    }\n\n    .dataframe thead th {\n        text-align: right;\n    }\n</style>\n<table border=\"1\" class=\"dataframe\">\n  <thead>\n    <tr style=\"text-align: right;\">\n      <th></th>\n      <th>id</th>\n      <th>mag</th>\n      <th>place</th>\n      <th>time</th>\n      <th>updated</th>\n      <th>tz</th>\n      <th>felt</th>\n      <th>cdi</th>\n      <th>mmi</th>\n      <th>alert</th>\n      <th>...</th>\n      <th>sources</th>\n      <th>types</th>\n      <th>nst</th>\n      <th>dmin</th>\n      <th>rms</th>\n      <th>gap</th>\n      <th>magType</th>\n      <th>type</th>\n      <th>title</th>\n      <th>geometry</th>\n    </tr>\n  </thead>\n  <tbody>\n    <tr>\n      <th>0</th>\n      <td>ok2022fsoi</td>\n      <td>2.14</td>\n      <td>8 km SSE of Meno, Oklahoma</td>\n      <td>1648020119195</td>\n      <td>1648020344741</td>\n      <td>None</td>\n      <td>NaN</td>\n      <td>NaN</td>\n      <td>NaN</td>\n      <td>None</td>\n      <td>...</td>\n      <td>,ok,</td>\n      <td>,origin,phase-data,</td>\n      <td>38.0</td>\n      <td>0.221780</td>\n      <td>0.588481</td>\n      <td>65.595261</td>\n      <td>ml</td>\n      <td>earthquake</td>\n      <td>M 2.1 - 8 km SSE of Meno, Oklahoma</td>\n      <td>POINT Z (-98.13358 36.31862 2.74982)</td>\n    </tr>\n    <tr>\n      <th>1</th>\n      <td>hv72959742</td>\n      <td>2.24</td>\n      <td>16 km S of Fern Forest, Hawaii</td>\n      <td>1648019829910</td>\n      <td>1648020159470</td>\n      <td>None</td>\n      <td>NaN</td>\n      <td>NaN</td>\n      <td>NaN</td>\n      <td>None</td>\n      <td>...</td>\n      <td>,hv,</td>\n      <td>,origin,phase-data,</td>\n      <td>39.0</td>\n      <td>NaN</td>\n      <td>0.180000</td>\n      <td>158.000000</td>\n      <td>ml</td>\n      <td>earthquake</td>\n      <td>M 2.2 - 16 km S of Fern Forest, Hawaii</td>\n      <td>POINT Z (-155.11250 19.32050 5.41000)</td>\n    </tr>\n    <tr>\n      <th>2</th>\n      <td>nc73709176</td>\n      <td>0.67</td>\n      <td>4km NNW of The Geysers, CA</td>\n      <td>1648019657830</td>\n      <td>1648019755019</td>\n      <td>None</td>\n      <td>NaN</td>\n      <td>NaN</td>\n      <td>NaN</td>\n      <td>None</td>\n      <td>...</td>\n      <td>,nc,</td>\n      <td>,nearby-cities,origin,phase-data,</td>\n      <td>10.0</td>\n      <td>0.007653</td>\n      <td>0.010000</td>\n      <td>67.000000</td>\n      <td>md</td>\n      <td>earthquake</td>\n      <td>M 0.7 - 4km NNW of The Geysers, CA</td>\n      <td>POINT Z (-122.77934 38.80567 2.21000)</td>\n    </tr>\n    <tr>\n      <th>3</th>\n      <td>hv72959727</td>\n      <td>2.27</td>\n      <td>9 km ENE of Pāhala, Hawaii</td>\n      <td>1648018848890</td>\n      <td>1648019178220</td>\n      <td>None</td>\n      <td>NaN</td>\n      <td>NaN</td>\n      <td>NaN</td>\n      <td>None</td>\n      <td>...</td>\n      <td>,hv,</td>\n      <td>,origin,phase-data,</td>\n      <td>43.0</td>\n      <td>NaN</td>\n      <td>0.120000</td>\n      <td>133.000000</td>\n      <td>ml</td>\n      <td>earthquake</td>\n      <td>M 2.3 - 9 km ENE of Pāhala, Hawaii</td>\n      <td>POINT Z (-155.40350 19.24350 32.26000)</td>\n    </tr>\n    <tr>\n      <th>4</th>\n      <td>hv72959722</td>\n      <td>2.04</td>\n      <td>8 km NE of Pāhala, Hawaii</td>\n      <td>1648018716420</td>\n      <td>1648018905350</td>\n      <td>None</td>\n      <td>NaN</td>\n      <td>NaN</td>\n      <td>NaN</td>\n      <td>None</td>\n      <td>...</td>\n      <td>,hv,</td>\n      <td>,origin,phase-data,</td>\n      <td>29.0</td>\n      <td>NaN</td>\n      <td>0.110000</td>\n      <td>129.000000</td>\n      <td>md</td>\n      <td>earthquake</td>\n      <td>M 2.0 - 8 km NE of Pāhala, Hawaii</td>\n      <td>POINT Z (-155.41167 19.24950 32.39000)</td>\n    </tr>\n  </tbody>\n</table>\n<p>5 rows × 26 columns</p>\n</div>"
     },
     "execution_count": 24,
     "metadata": {},
     "output_type": "execute_result"
    }
   ],
   "source": [
    "df_erdbeben.head()"
   ],
   "metadata": {
    "collapsed": false,
    "pycharm": {
     "name": "#%%\n"
    }
   }
  },
  {
   "cell_type": "code",
   "execution_count": 8,
   "outputs": [
    {
     "data": {
      "text/plain": "id            object\nmag          float64\nplace         object\ntime           int64\nupdated        int64\ntz            object\nurl           object\ndetail        object\nfelt         float64\ncdi          float64\nmmi          float64\nalert         object\nstatus        object\ntsunami        int64\nsig            int64\nnet           object\ncode          object\nids           object\nsources       object\ntypes         object\nnst          float64\ndmin         float64\nrms          float64\ngap          float64\nmagType       object\ntype          object\ntitle         object\ngeometry    geometry\ndtype: object"
     },
     "execution_count": 8,
     "metadata": {},
     "output_type": "execute_result"
    }
   ],
   "source": [
    "df_erdbeben.dtypes"
   ],
   "metadata": {
    "collapsed": false,
    "pycharm": {
     "name": "#%%\n"
    }
   }
  },
  {
   "cell_type": "code",
   "execution_count": 9,
   "outputs": [
    {
     "data": {
      "text/plain": "0"
     },
     "execution_count": 9,
     "metadata": {},
     "output_type": "execute_result"
    }
   ],
   "source": [
    "df_erdbeben.duplicated().sum()"
   ],
   "metadata": {
    "collapsed": false,
    "pycharm": {
     "name": "#%%\n"
    }
   }
  },
  {
   "cell_type": "code",
   "execution_count": 10,
   "outputs": [],
   "source": [
    "df_erdbeben = df_erdbeben.drop(columns=[\"url\", \"detail\"])"
   ],
   "metadata": {
    "collapsed": false,
    "pycharm": {
     "name": "#%%\n"
    }
   }
  },
  {
   "cell_type": "code",
   "execution_count": 11,
   "outputs": [],
   "source": [
    "df_erdbeben_factor = df_erdbeben.astype({\"type\": \"category\", \"alert\": \"category\", \"magType\": \"category\", \"sources\": \"category\", \"tsunami\":\"category\"})"
   ],
   "metadata": {
    "collapsed": false,
    "pycharm": {
     "name": "#%%\n"
    }
   }
  },
  {
   "cell_type": "code",
   "execution_count": 12,
   "outputs": [
    {
     "data": {
      "text/plain": "0       0\n1       0\n2       0\n3       0\n4       0\n       ..\n1989    0\n1990    0\n1991    0\n1992    0\n1993    0\nName: tsunami, Length: 1994, dtype: category\nCategories (2, int64): [0, 1]"
     },
     "execution_count": 12,
     "metadata": {},
     "output_type": "execute_result"
    }
   ],
   "source": [
    "df_erdbeben_factor[\"tsunami\"]"
   ],
   "metadata": {
    "collapsed": false,
    "pycharm": {
     "name": "#%%\n"
    }
   }
  },
  {
   "cell_type": "code",
   "execution_count": 13,
   "outputs": [
    {
     "data": {
      "text/plain": "               mag          time       updated        felt         cdi  \\\ncount  1994.000000  1.994000e+03  1.994000e+03  176.000000  176.000000   \nmean      1.673862  1.647714e+12  1.647761e+12   23.289773    2.601705   \nstd       1.238916  1.740024e+08  1.778807e+08  111.178986    1.424940   \nmin      -1.360000  1.647416e+12  1.647417e+12    0.000000    0.000000   \n25%       0.850000  1.647567e+12  1.647612e+12    1.000000    2.000000   \n50%       1.465000  1.647698e+12  1.647793e+12    2.000000    2.200000   \n75%       2.120000  1.647874e+12  1.647908e+12    5.000000    3.400000   \nmax       7.300000  1.648020e+12  1.648021e+12  984.000000    8.600000   \n\n             mmi          sig          nst         dmin          rms  \\\ncount  28.000000  1994.000000  1514.000000  1361.000000  1994.000000   \nmean    4.067464    67.695587    20.522457     0.586449     0.253422   \nstd     2.169704   103.762679    17.872792     2.253934     0.284587   \nmin     0.000000     0.000000     3.000000     0.000000     0.000000   \n25%     2.781000    11.000000     8.000000     0.017250     0.073050   \n50%     4.008500    33.000000    15.000000     0.054230     0.130000   \n75%     5.571500    70.000000    27.000000     0.155400     0.297500   \nmax     8.008000  1301.000000   198.000000    45.917000     2.330000   \n\n               gap  \ncount  1727.000000  \nmean    122.203205  \nstd      66.243840  \nmin      18.000000  \n25%      72.000000  \n50%     106.000000  \n75%     161.000000  \nmax     351.000000  ",
      "text/html": "<div>\n<style scoped>\n    .dataframe tbody tr th:only-of-type {\n        vertical-align: middle;\n    }\n\n    .dataframe tbody tr th {\n        vertical-align: top;\n    }\n\n    .dataframe thead th {\n        text-align: right;\n    }\n</style>\n<table border=\"1\" class=\"dataframe\">\n  <thead>\n    <tr style=\"text-align: right;\">\n      <th></th>\n      <th>mag</th>\n      <th>time</th>\n      <th>updated</th>\n      <th>felt</th>\n      <th>cdi</th>\n      <th>mmi</th>\n      <th>sig</th>\n      <th>nst</th>\n      <th>dmin</th>\n      <th>rms</th>\n      <th>gap</th>\n    </tr>\n  </thead>\n  <tbody>\n    <tr>\n      <th>count</th>\n      <td>1994.000000</td>\n      <td>1.994000e+03</td>\n      <td>1.994000e+03</td>\n      <td>176.000000</td>\n      <td>176.000000</td>\n      <td>28.000000</td>\n      <td>1994.000000</td>\n      <td>1514.000000</td>\n      <td>1361.000000</td>\n      <td>1994.000000</td>\n      <td>1727.000000</td>\n    </tr>\n    <tr>\n      <th>mean</th>\n      <td>1.673862</td>\n      <td>1.647714e+12</td>\n      <td>1.647761e+12</td>\n      <td>23.289773</td>\n      <td>2.601705</td>\n      <td>4.067464</td>\n      <td>67.695587</td>\n      <td>20.522457</td>\n      <td>0.586449</td>\n      <td>0.253422</td>\n      <td>122.203205</td>\n    </tr>\n    <tr>\n      <th>std</th>\n      <td>1.238916</td>\n      <td>1.740024e+08</td>\n      <td>1.778807e+08</td>\n      <td>111.178986</td>\n      <td>1.424940</td>\n      <td>2.169704</td>\n      <td>103.762679</td>\n      <td>17.872792</td>\n      <td>2.253934</td>\n      <td>0.284587</td>\n      <td>66.243840</td>\n    </tr>\n    <tr>\n      <th>min</th>\n      <td>-1.360000</td>\n      <td>1.647416e+12</td>\n      <td>1.647417e+12</td>\n      <td>0.000000</td>\n      <td>0.000000</td>\n      <td>0.000000</td>\n      <td>0.000000</td>\n      <td>3.000000</td>\n      <td>0.000000</td>\n      <td>0.000000</td>\n      <td>18.000000</td>\n    </tr>\n    <tr>\n      <th>25%</th>\n      <td>0.850000</td>\n      <td>1.647567e+12</td>\n      <td>1.647612e+12</td>\n      <td>1.000000</td>\n      <td>2.000000</td>\n      <td>2.781000</td>\n      <td>11.000000</td>\n      <td>8.000000</td>\n      <td>0.017250</td>\n      <td>0.073050</td>\n      <td>72.000000</td>\n    </tr>\n    <tr>\n      <th>50%</th>\n      <td>1.465000</td>\n      <td>1.647698e+12</td>\n      <td>1.647793e+12</td>\n      <td>2.000000</td>\n      <td>2.200000</td>\n      <td>4.008500</td>\n      <td>33.000000</td>\n      <td>15.000000</td>\n      <td>0.054230</td>\n      <td>0.130000</td>\n      <td>106.000000</td>\n    </tr>\n    <tr>\n      <th>75%</th>\n      <td>2.120000</td>\n      <td>1.647874e+12</td>\n      <td>1.647908e+12</td>\n      <td>5.000000</td>\n      <td>3.400000</td>\n      <td>5.571500</td>\n      <td>70.000000</td>\n      <td>27.000000</td>\n      <td>0.155400</td>\n      <td>0.297500</td>\n      <td>161.000000</td>\n    </tr>\n    <tr>\n      <th>max</th>\n      <td>7.300000</td>\n      <td>1.648020e+12</td>\n      <td>1.648021e+12</td>\n      <td>984.000000</td>\n      <td>8.600000</td>\n      <td>8.008000</td>\n      <td>1301.000000</td>\n      <td>198.000000</td>\n      <td>45.917000</td>\n      <td>2.330000</td>\n      <td>351.000000</td>\n    </tr>\n  </tbody>\n</table>\n</div>"
     },
     "execution_count": 13,
     "metadata": {},
     "output_type": "execute_result"
    }
   ],
   "source": [
    "df_erdbeben_factor.describe()"
   ],
   "metadata": {
    "collapsed": false,
    "pycharm": {
     "name": "#%%\n"
    }
   }
  },
  {
   "cell_type": "code",
   "execution_count": 14,
   "outputs": [],
   "source": [
    "df_erdbeben_factor[\"date\"]=0\n",
    "df_erdbeben_factor[\"depth\"]=0"
   ],
   "metadata": {
    "collapsed": false,
    "pycharm": {
     "name": "#%%\n"
    }
   }
  },
  {
   "cell_type": "code",
   "execution_count": 15,
   "outputs": [
    {
     "name": "stderr",
     "output_type": "stream",
     "text": [
      "/var/folders/f0/pqy2clvx0nv38xm_npv8fklm0000gn/T/ipykernel_10003/2326743471.py:2: SettingWithCopyWarning: \n",
      "A value is trying to be set on a copy of a slice from a DataFrame\n",
      "\n",
      "See the caveats in the documentation: https://pandas.pydata.org/pandas-docs/stable/user_guide/indexing.html#returning-a-view-versus-a-copy\n",
      "  df_erdbeben_factor[\"date\"][i] = datetime.datetime.fromtimestamp(df_erdbeben_factor[\"time\"][i] / 1000).strftime('%d/%m/%y %H:%M:%S')\n",
      "/Users/janisfrolich/opt/anaconda3/lib/python3.9/site-packages/pandas/core/indexing.py:1732: SettingWithCopyWarning: \n",
      "A value is trying to be set on a copy of a slice from a DataFrame\n",
      "\n",
      "See the caveats in the documentation: https://pandas.pydata.org/pandas-docs/stable/user_guide/indexing.html#returning-a-view-versus-a-copy\n",
      "  self._setitem_single_block(indexer, value, name)\n",
      "/var/folders/f0/pqy2clvx0nv38xm_npv8fklm0000gn/T/ipykernel_10003/2326743471.py:3: SettingWithCopyWarning: \n",
      "A value is trying to be set on a copy of a slice from a DataFrame\n",
      "\n",
      "See the caveats in the documentation: https://pandas.pydata.org/pandas-docs/stable/user_guide/indexing.html#returning-a-view-versus-a-copy\n",
      "  df_erdbeben_factor[\"depth\"][i] = df_erdbeben_factor[\"geometry\"][i].z\n"
     ]
    }
   ],
   "source": [
    "for i in range(len(df_erdbeben_factor)):\n",
    "    df_erdbeben_factor[\"date\"][i] = datetime.datetime.fromtimestamp(df_erdbeben_factor[\"time\"][i] / 1000).strftime('%d/%m/%y %H:%M:%S')\n",
    "    df_erdbeben_factor[\"depth\"][i] = df_erdbeben_factor[\"geometry\"][i].z"
   ],
   "metadata": {
    "collapsed": false,
    "pycharm": {
     "name": "#%%\n"
    }
   }
  },
  {
   "cell_type": "code",
   "execution_count": 16,
   "outputs": [
    {
     "data": {
      "text/plain": "           id   mag                           place           time  \\\n0  ok2022fsoi  2.14      8 km SSE of Meno, Oklahoma  1648020119195   \n1  hv72959742  2.24  16 km S of Fern Forest, Hawaii  1648019829910   \n2  nc73709176  0.67      4km NNW of The Geysers, CA  1648019657830   \n3  hv72959727  2.27      9 km ENE of Pāhala, Hawaii  1648018848890   \n4  hv72959722  2.04       8 km NE of Pāhala, Hawaii  1648018716420   \n\n         updated    tz  felt  cdi  mmi alert  ...   nst      dmin       rms  \\\n0  1648020344741  None   NaN  NaN  NaN   NaN  ...  38.0  0.221780  0.588481   \n1  1648020159470  None   NaN  NaN  NaN   NaN  ...  39.0       NaN  0.180000   \n2  1648019755019  None   NaN  NaN  NaN   NaN  ...  10.0  0.007653  0.010000   \n3  1648019178220  None   NaN  NaN  NaN   NaN  ...  43.0       NaN  0.120000   \n4  1648018905350  None   NaN  NaN  NaN   NaN  ...  29.0       NaN  0.110000   \n\n          gap magType        type                                   title  \\\n0   65.595261      ml  earthquake      M 2.1 - 8 km SSE of Meno, Oklahoma   \n1  158.000000      ml  earthquake  M 2.2 - 16 km S of Fern Forest, Hawaii   \n2   67.000000      md  earthquake      M 0.7 - 4km NNW of The Geysers, CA   \n3  133.000000      ml  earthquake      M 2.3 - 9 km ENE of Pāhala, Hawaii   \n4  129.000000      md  earthquake       M 2.0 - 8 km NE of Pāhala, Hawaii   \n\n                                 geometry               date  depth  \n0    POINT Z (-98.13358 36.31862 2.74982)  23/03/22 08:21:59      2  \n1   POINT Z (-155.11250 19.32050 5.41000)  23/03/22 08:17:09      5  \n2   POINT Z (-122.77934 38.80567 2.21000)  23/03/22 08:14:17      2  \n3  POINT Z (-155.40350 19.24350 32.26000)  23/03/22 08:00:48     32  \n4  POINT Z (-155.41167 19.24950 32.39000)  23/03/22 07:58:36     32  \n\n[5 rows x 28 columns]",
      "text/html": "<div>\n<style scoped>\n    .dataframe tbody tr th:only-of-type {\n        vertical-align: middle;\n    }\n\n    .dataframe tbody tr th {\n        vertical-align: top;\n    }\n\n    .dataframe thead th {\n        text-align: right;\n    }\n</style>\n<table border=\"1\" class=\"dataframe\">\n  <thead>\n    <tr style=\"text-align: right;\">\n      <th></th>\n      <th>id</th>\n      <th>mag</th>\n      <th>place</th>\n      <th>time</th>\n      <th>updated</th>\n      <th>tz</th>\n      <th>felt</th>\n      <th>cdi</th>\n      <th>mmi</th>\n      <th>alert</th>\n      <th>...</th>\n      <th>nst</th>\n      <th>dmin</th>\n      <th>rms</th>\n      <th>gap</th>\n      <th>magType</th>\n      <th>type</th>\n      <th>title</th>\n      <th>geometry</th>\n      <th>date</th>\n      <th>depth</th>\n    </tr>\n  </thead>\n  <tbody>\n    <tr>\n      <th>0</th>\n      <td>ok2022fsoi</td>\n      <td>2.14</td>\n      <td>8 km SSE of Meno, Oklahoma</td>\n      <td>1648020119195</td>\n      <td>1648020344741</td>\n      <td>None</td>\n      <td>NaN</td>\n      <td>NaN</td>\n      <td>NaN</td>\n      <td>NaN</td>\n      <td>...</td>\n      <td>38.0</td>\n      <td>0.221780</td>\n      <td>0.588481</td>\n      <td>65.595261</td>\n      <td>ml</td>\n      <td>earthquake</td>\n      <td>M 2.1 - 8 km SSE of Meno, Oklahoma</td>\n      <td>POINT Z (-98.13358 36.31862 2.74982)</td>\n      <td>23/03/22 08:21:59</td>\n      <td>2</td>\n    </tr>\n    <tr>\n      <th>1</th>\n      <td>hv72959742</td>\n      <td>2.24</td>\n      <td>16 km S of Fern Forest, Hawaii</td>\n      <td>1648019829910</td>\n      <td>1648020159470</td>\n      <td>None</td>\n      <td>NaN</td>\n      <td>NaN</td>\n      <td>NaN</td>\n      <td>NaN</td>\n      <td>...</td>\n      <td>39.0</td>\n      <td>NaN</td>\n      <td>0.180000</td>\n      <td>158.000000</td>\n      <td>ml</td>\n      <td>earthquake</td>\n      <td>M 2.2 - 16 km S of Fern Forest, Hawaii</td>\n      <td>POINT Z (-155.11250 19.32050 5.41000)</td>\n      <td>23/03/22 08:17:09</td>\n      <td>5</td>\n    </tr>\n    <tr>\n      <th>2</th>\n      <td>nc73709176</td>\n      <td>0.67</td>\n      <td>4km NNW of The Geysers, CA</td>\n      <td>1648019657830</td>\n      <td>1648019755019</td>\n      <td>None</td>\n      <td>NaN</td>\n      <td>NaN</td>\n      <td>NaN</td>\n      <td>NaN</td>\n      <td>...</td>\n      <td>10.0</td>\n      <td>0.007653</td>\n      <td>0.010000</td>\n      <td>67.000000</td>\n      <td>md</td>\n      <td>earthquake</td>\n      <td>M 0.7 - 4km NNW of The Geysers, CA</td>\n      <td>POINT Z (-122.77934 38.80567 2.21000)</td>\n      <td>23/03/22 08:14:17</td>\n      <td>2</td>\n    </tr>\n    <tr>\n      <th>3</th>\n      <td>hv72959727</td>\n      <td>2.27</td>\n      <td>9 km ENE of Pāhala, Hawaii</td>\n      <td>1648018848890</td>\n      <td>1648019178220</td>\n      <td>None</td>\n      <td>NaN</td>\n      <td>NaN</td>\n      <td>NaN</td>\n      <td>NaN</td>\n      <td>...</td>\n      <td>43.0</td>\n      <td>NaN</td>\n      <td>0.120000</td>\n      <td>133.000000</td>\n      <td>ml</td>\n      <td>earthquake</td>\n      <td>M 2.3 - 9 km ENE of Pāhala, Hawaii</td>\n      <td>POINT Z (-155.40350 19.24350 32.26000)</td>\n      <td>23/03/22 08:00:48</td>\n      <td>32</td>\n    </tr>\n    <tr>\n      <th>4</th>\n      <td>hv72959722</td>\n      <td>2.04</td>\n      <td>8 km NE of Pāhala, Hawaii</td>\n      <td>1648018716420</td>\n      <td>1648018905350</td>\n      <td>None</td>\n      <td>NaN</td>\n      <td>NaN</td>\n      <td>NaN</td>\n      <td>NaN</td>\n      <td>...</td>\n      <td>29.0</td>\n      <td>NaN</td>\n      <td>0.110000</td>\n      <td>129.000000</td>\n      <td>md</td>\n      <td>earthquake</td>\n      <td>M 2.0 - 8 km NE of Pāhala, Hawaii</td>\n      <td>POINT Z (-155.41167 19.24950 32.39000)</td>\n      <td>23/03/22 07:58:36</td>\n      <td>32</td>\n    </tr>\n  </tbody>\n</table>\n<p>5 rows × 28 columns</p>\n</div>"
     },
     "execution_count": 16,
     "metadata": {},
     "output_type": "execute_result"
    }
   ],
   "source": [
    "df_erdbeben_factor.head()"
   ],
   "metadata": {
    "collapsed": false,
    "pycharm": {
     "name": "#%%\n"
    }
   }
  },
  {
   "cell_type": "code",
   "execution_count": 17,
   "outputs": [
    {
     "data": {
      "text/plain": "               mag          time       updated        felt         cdi  \\\ncount  1994.000000  1.994000e+03  1.994000e+03  176.000000  176.000000   \nmean      1.673862  1.647714e+12  1.647761e+12   23.289773    2.601705   \nstd       1.238916  1.740024e+08  1.778807e+08  111.178986    1.424940   \nmin      -1.360000  1.647416e+12  1.647417e+12    0.000000    0.000000   \n25%       0.850000  1.647567e+12  1.647612e+12    1.000000    2.000000   \n50%       1.465000  1.647698e+12  1.647793e+12    2.000000    2.200000   \n75%       2.120000  1.647874e+12  1.647908e+12    5.000000    3.400000   \nmax       7.300000  1.648020e+12  1.648021e+12  984.000000    8.600000   \n\n             mmi          sig          nst         dmin          rms  \\\ncount  28.000000  1994.000000  1514.000000  1361.000000  1994.000000   \nmean    4.067464    67.695587    20.522457     0.586449     0.253422   \nstd     2.169704   103.762679    17.872792     2.253934     0.284587   \nmin     0.000000     0.000000     3.000000     0.000000     0.000000   \n25%     2.781000    11.000000     8.000000     0.017250     0.073050   \n50%     4.008500    33.000000    15.000000     0.054230     0.130000   \n75%     5.571500    70.000000    27.000000     0.155400     0.297500   \nmax     8.008000  1301.000000   198.000000    45.917000     2.330000   \n\n               gap        depth  \ncount  1727.000000  1994.000000  \nmean    122.203205    19.812939  \nstd      66.243840    48.987353  \nmin      18.000000    -3.000000  \n25%      72.000000     2.000000  \n50%     106.000000     7.000000  \n75%     161.000000    15.000000  \nmax     351.000000   616.000000  ",
      "text/html": "<div>\n<style scoped>\n    .dataframe tbody tr th:only-of-type {\n        vertical-align: middle;\n    }\n\n    .dataframe tbody tr th {\n        vertical-align: top;\n    }\n\n    .dataframe thead th {\n        text-align: right;\n    }\n</style>\n<table border=\"1\" class=\"dataframe\">\n  <thead>\n    <tr style=\"text-align: right;\">\n      <th></th>\n      <th>mag</th>\n      <th>time</th>\n      <th>updated</th>\n      <th>felt</th>\n      <th>cdi</th>\n      <th>mmi</th>\n      <th>sig</th>\n      <th>nst</th>\n      <th>dmin</th>\n      <th>rms</th>\n      <th>gap</th>\n      <th>depth</th>\n    </tr>\n  </thead>\n  <tbody>\n    <tr>\n      <th>count</th>\n      <td>1994.000000</td>\n      <td>1.994000e+03</td>\n      <td>1.994000e+03</td>\n      <td>176.000000</td>\n      <td>176.000000</td>\n      <td>28.000000</td>\n      <td>1994.000000</td>\n      <td>1514.000000</td>\n      <td>1361.000000</td>\n      <td>1994.000000</td>\n      <td>1727.000000</td>\n      <td>1994.000000</td>\n    </tr>\n    <tr>\n      <th>mean</th>\n      <td>1.673862</td>\n      <td>1.647714e+12</td>\n      <td>1.647761e+12</td>\n      <td>23.289773</td>\n      <td>2.601705</td>\n      <td>4.067464</td>\n      <td>67.695587</td>\n      <td>20.522457</td>\n      <td>0.586449</td>\n      <td>0.253422</td>\n      <td>122.203205</td>\n      <td>19.812939</td>\n    </tr>\n    <tr>\n      <th>std</th>\n      <td>1.238916</td>\n      <td>1.740024e+08</td>\n      <td>1.778807e+08</td>\n      <td>111.178986</td>\n      <td>1.424940</td>\n      <td>2.169704</td>\n      <td>103.762679</td>\n      <td>17.872792</td>\n      <td>2.253934</td>\n      <td>0.284587</td>\n      <td>66.243840</td>\n      <td>48.987353</td>\n    </tr>\n    <tr>\n      <th>min</th>\n      <td>-1.360000</td>\n      <td>1.647416e+12</td>\n      <td>1.647417e+12</td>\n      <td>0.000000</td>\n      <td>0.000000</td>\n      <td>0.000000</td>\n      <td>0.000000</td>\n      <td>3.000000</td>\n      <td>0.000000</td>\n      <td>0.000000</td>\n      <td>18.000000</td>\n      <td>-3.000000</td>\n    </tr>\n    <tr>\n      <th>25%</th>\n      <td>0.850000</td>\n      <td>1.647567e+12</td>\n      <td>1.647612e+12</td>\n      <td>1.000000</td>\n      <td>2.000000</td>\n      <td>2.781000</td>\n      <td>11.000000</td>\n      <td>8.000000</td>\n      <td>0.017250</td>\n      <td>0.073050</td>\n      <td>72.000000</td>\n      <td>2.000000</td>\n    </tr>\n    <tr>\n      <th>50%</th>\n      <td>1.465000</td>\n      <td>1.647698e+12</td>\n      <td>1.647793e+12</td>\n      <td>2.000000</td>\n      <td>2.200000</td>\n      <td>4.008500</td>\n      <td>33.000000</td>\n      <td>15.000000</td>\n      <td>0.054230</td>\n      <td>0.130000</td>\n      <td>106.000000</td>\n      <td>7.000000</td>\n    </tr>\n    <tr>\n      <th>75%</th>\n      <td>2.120000</td>\n      <td>1.647874e+12</td>\n      <td>1.647908e+12</td>\n      <td>5.000000</td>\n      <td>3.400000</td>\n      <td>5.571500</td>\n      <td>70.000000</td>\n      <td>27.000000</td>\n      <td>0.155400</td>\n      <td>0.297500</td>\n      <td>161.000000</td>\n      <td>15.000000</td>\n    </tr>\n    <tr>\n      <th>max</th>\n      <td>7.300000</td>\n      <td>1.648020e+12</td>\n      <td>1.648021e+12</td>\n      <td>984.000000</td>\n      <td>8.600000</td>\n      <td>8.008000</td>\n      <td>1301.000000</td>\n      <td>198.000000</td>\n      <td>45.917000</td>\n      <td>2.330000</td>\n      <td>351.000000</td>\n      <td>616.000000</td>\n    </tr>\n  </tbody>\n</table>\n</div>"
     },
     "execution_count": 17,
     "metadata": {},
     "output_type": "execute_result"
    }
   ],
   "source": [
    "df_erdbeben_factor.describe()"
   ],
   "metadata": {
    "collapsed": false,
    "pycharm": {
     "name": "#%%\n"
    }
   }
  },
  {
   "cell_type": "code",
   "execution_count": 18,
   "outputs": [],
   "source": [
    "koordinaten_check = gpd.GeoSeries(df_erdbeben_factor[\"geometry\"])"
   ],
   "metadata": {
    "collapsed": false,
    "pycharm": {
     "name": "#%%\n"
    }
   }
  },
  {
   "cell_type": "code",
   "execution_count": 19,
   "outputs": [
    {
     "data": {
      "text/plain": "1994"
     },
     "execution_count": 19,
     "metadata": {},
     "output_type": "execute_result"
    }
   ],
   "source": [
    "koordinaten_check.is_valid.sum()"
   ],
   "metadata": {
    "collapsed": false,
    "pycharm": {
     "name": "#%%\n"
    }
   }
  },
  {
   "cell_type": "code",
   "execution_count": 20,
   "outputs": [
    {
     "data": {
      "text/plain": "{'whiskers': [<matplotlib.lines.Line2D at 0x7fdd59585160>,\n  <matplotlib.lines.Line2D at 0x7fdd59585430>],\n 'caps': [<matplotlib.lines.Line2D at 0x7fdd595857c0>,\n  <matplotlib.lines.Line2D at 0x7fdd59585b50>],\n 'boxes': [<matplotlib.lines.Line2D at 0x7fdd69543b80>],\n 'medians': [<matplotlib.lines.Line2D at 0x7fdd59585ee0>],\n 'fliers': [<matplotlib.lines.Line2D at 0x7fdd5958d2b0>],\n 'means': []}"
     },
     "execution_count": 20,
     "metadata": {},
     "output_type": "execute_result"
    },
    {
     "data": {
      "text/plain": "<Figure size 432x288 with 1 Axes>",
      "image/png": "[encoded data removed]"
     },
     "metadata": {
      "needs_background": "light"
     },
     "output_type": "display_data"
    }
   ],
   "source": [
    "plt.boxplot(x=df_erdbeben_factor[\"mag\"])"
   ],
   "metadata": {
    "collapsed": false,
    "pycharm": {
     "name": "#%%\n"
    }
   }
  },
  {
   "cell_type": "code",
   "execution_count": 26,
   "outputs": [
    {
     "name": "stderr",
     "output_type": "stream",
     "text": [
      "/Users/janisfrolich/opt/anaconda3/lib/python3.9/site-packages/seaborn/distributions.py:2619: FutureWarning: `distplot` is a deprecated function and will be removed in a future version. Please adapt your code to use either `displot` (a figure-level function with similar flexibility) or `kdeplot` (an axes-level function for kernel density plots).\n",
      "  warnings.warn(msg, FutureWarning)\n"
     ]
    },
    {
     "data": {
      "text/plain": "Text(0.5, 1.0, 'Distribution of Magnitude')"
     },
     "execution_count": 26,
     "metadata": {},
     "output_type": "execute_result"
    },
    {
     "data": {
      "text/plain": "<Figure size 432x288 with 1 Axes>",
      "image/png": "[encoded data removed]"
     },
     "metadata": {
      "needs_background": "light"
     },
     "output_type": "display_data"
    }
   ],
   "source": [
    "sns.distplot(df_erdbeben_factor[\"mag\"], hist=False)\n",
    "plt.xlabel(\"Magnitude\")\n",
    "plt.title(\"Distribution of Magnitude\")"
   ],
   "metadata": {
    "collapsed": false,
    "pycharm": {
     "name": "#%%\n"
    }
   }
  },
  {
   "cell_type": "code",
   "execution_count": 22,
   "outputs": [
    {
     "data": {
      "text/plain": "{'whiskers': [<matplotlib.lines.Line2D at 0x7fdd695b9ca0>,\n  <matplotlib.lines.Line2D at 0x7fdd695c5070>],\n 'caps': [<matplotlib.lines.Line2D at 0x7fdd695c5400>,\n  <matplotlib.lines.Line2D at 0x7fdd695c5790>],\n 'boxes': [<matplotlib.lines.Line2D at 0x7fdd695b9910>],\n 'medians': [<matplotlib.lines.Line2D at 0x7fdd695c5b20>],\n 'fliers': [<matplotlib.lines.Line2D at 0x7fdd695c5eb0>],\n 'means': []}"
     },
     "execution_count": 22,
     "metadata": {},
     "output_type": "execute_result"
    },
    {
     "data": {
      "text/plain": "<Figure size 432x288 with 1 Axes>",
      "image/png": "[encoded data removed]"
     },
     "metadata": {
      "needs_background": "light"
     },
     "output_type": "display_data"
    }
   ],
   "source": [
    "plt.boxplot(x=df_erdbeben_factor[\"depth\"])"
   ],
   "metadata": {
    "collapsed": false,
    "pycharm": {
     "name": "#%%\n"
    }
   }
  },
  {
   "cell_type": "code",
   "execution_count": 23,
   "outputs": [
    {
     "name": "stderr",
     "output_type": "stream",
     "text": [
      "/Users/janisfrolich/opt/anaconda3/lib/python3.9/site-packages/seaborn/distributions.py:2619: FutureWarning: `distplot` is a deprecated function and will be removed in a future version. Please adapt your code to use either `displot` (a figure-level function with similar flexibility) or `kdeplot` (an axes-level function for kernel density plots).\n",
      "  warnings.warn(msg, FutureWarning)\n"
     ]
    },
    {
     "data": {
      "text/plain": "Text(0.5, 1.0, 'Distribution of depth')"
     },
     "execution_count": 23,
     "metadata": {},
     "output_type": "execute_result"
    },
    {
     "data": {
      "text/plain": "<Figure size 432x288 with 1 Axes>",
      "image/png": "[encoded data removed]"
     },
     "metadata": {
      "needs_background": "light"
     },
     "output_type": "display_data"
    }
   ],
   "source": [
    "sns.distplot(df_erdbeben_factor[\"depth\"], hist=False)\n",
    "plt.xlabel(\"depth of the start\")\n",
    "plt.title(\"Distribution of depth\")"
   ],
   "metadata": {
    "collapsed": false,
    "pycharm": {
     "name": "#%%\n"
    }
   }
  },
  {
   "cell_type": "code",
   "execution_count": 23,
   "outputs": [],
   "source": [],
   "metadata": {
    "collapsed": false,
    "pycharm": {
     "name": "#%%\n"
    }
   }
  }
 ],
 "metadata": {
  "kernelspec": {
   "display_name": "Python 3",
   "language": "python",
   "name": "python3"
  },
  "language_info": {
   "codemirror_mode": {
    "name": "ipython",
    "version": 2
   },
   "file_extension": ".py",
   "mimetype": "text/x-python",
   "name": "python",
   "nbconvert_exporter": "python",
   "pygments_lexer": "ipython2",
   "version": "2.7.6"
  }
 },
 "nbformat": 4,
 "nbformat_minor": 0
}