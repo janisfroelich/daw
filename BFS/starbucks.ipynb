{
 "cells": [
  {
   "cell_type": "code",
   "execution_count": 43,
   "outputs": [],
   "source": [
    "import pandas as pd\n",
    "import numpy as np\n",
    "import matplotlib.pyplot as plt\n",
    "import seaborn as sns"
   ],
   "metadata": {
    "collapsed": false,
    "pycharm": {
     "name": "#%%\n"
    }
   }
  },
  {
   "cell_type": "code",
   "execution_count": 44,
   "outputs": [],
   "source": [
    "# read starbucks-menu-nutrition-drinks.csv with sep=','\n",
    "df_drink = pd.read_csv('starbucks-menu-nutrition-drinks.csv', sep=',')\n",
    "\n",
    "# read starbucks-menu-nutrition-foods.csv with sep=','\n",
    "df_food = pd.read_csv('starbucks-menu-nutrition-food.csv', sep=',', encoding=\"utf-16\")"
   ],
   "metadata": {
    "collapsed": false,
    "pycharm": {
     "name": "#%%\n"
    }
   }
  },
  {
   "cell_type": "code",
   "execution_count": 45,
   "outputs": [
    {
     "data": {
      "text/plain": "                                            Unnamed: 0 Calories Fat (g)  \\\n0             Cool Lime Starbucks Refreshers™ Beverage       45       0   \n1                                     Ombré Pink Drink        -       -   \n2                                           Pink Drink        -       -   \n3       Strawberry Acai Starbucks Refreshers™ Beverage       80       0   \n4    Very Berry Hibiscus Starbucks Refreshers™ Beve...       60       0   \n..                                                 ...      ...     ...   \n172                                 Chocolate Smoothie      320       5   \n173                                Strawberry Smoothie      300       2   \n174                                         Ginger Ale        -       -   \n175                                          Lemon Ale        -       -   \n176                                  Orange Cream Soda        -       -   \n\n    Carb. (g) Fiber (g) Protein Sodium  \n0          11         0       0     10  \n1           -         -       -      -  \n2           -         -       -      -  \n3          18         1       0     10  \n4          14         1       0     10  \n..        ...       ...     ...    ...  \n172        53         8      20    170  \n173        60         7      16    130  \n174         -         -       -      -  \n175         -         -       -      -  \n176         -         -       -      -  \n\n[177 rows x 7 columns]",
      "text/html": "<div>\n<style scoped>\n    .dataframe tbody tr th:only-of-type {\n        vertical-align: middle;\n    }\n\n    .dataframe tbody tr th {\n        vertical-align: top;\n    }\n\n    .dataframe thead th {\n        text-align: right;\n    }\n</style>\n<table border=\"1\" class=\"dataframe\">\n  <thead>\n    <tr style=\"text-align: right;\">\n      <th></th>\n      <th>Unnamed: 0</th>\n      <th>Calories</th>\n      <th>Fat (g)</th>\n      <th>Carb. (g)</th>\n      <th>Fiber (g)</th>\n      <th>Protein</th>\n      <th>Sodium</th>\n    </tr>\n  </thead>\n  <tbody>\n    <tr>\n      <th>0</th>\n      <td>Cool Lime Starbucks Refreshers™ Beverage</td>\n      <td>45</td>\n      <td>0</td>\n      <td>11</td>\n      <td>0</td>\n      <td>0</td>\n      <td>10</td>\n    </tr>\n    <tr>\n      <th>1</th>\n      <td>Ombré Pink Drink</td>\n      <td>-</td>\n      <td>-</td>\n      <td>-</td>\n      <td>-</td>\n      <td>-</td>\n      <td>-</td>\n    </tr>\n    <tr>\n      <th>2</th>\n      <td>Pink Drink</td>\n      <td>-</td>\n      <td>-</td>\n      <td>-</td>\n      <td>-</td>\n      <td>-</td>\n      <td>-</td>\n    </tr>\n    <tr>\n      <th>3</th>\n      <td>Strawberry Acai Starbucks Refreshers™ Beverage</td>\n      <td>80</td>\n      <td>0</td>\n      <td>18</td>\n      <td>1</td>\n      <td>0</td>\n      <td>10</td>\n    </tr>\n    <tr>\n      <th>4</th>\n      <td>Very Berry Hibiscus Starbucks Refreshers™ Beve...</td>\n      <td>60</td>\n      <td>0</td>\n      <td>14</td>\n      <td>1</td>\n      <td>0</td>\n      <td>10</td>\n    </tr>\n    <tr>\n      <th>...</th>\n      <td>...</td>\n      <td>...</td>\n      <td>...</td>\n      <td>...</td>\n      <td>...</td>\n      <td>...</td>\n      <td>...</td>\n    </tr>\n    <tr>\n      <th>172</th>\n      <td>Chocolate Smoothie</td>\n      <td>320</td>\n      <td>5</td>\n      <td>53</td>\n      <td>8</td>\n      <td>20</td>\n      <td>170</td>\n    </tr>\n    <tr>\n      <th>173</th>\n      <td>Strawberry Smoothie</td>\n      <td>300</td>\n      <td>2</td>\n      <td>60</td>\n      <td>7</td>\n      <td>16</td>\n      <td>130</td>\n    </tr>\n    <tr>\n      <th>174</th>\n      <td>Ginger Ale</td>\n      <td>-</td>\n      <td>-</td>\n      <td>-</td>\n      <td>-</td>\n      <td>-</td>\n      <td>-</td>\n    </tr>\n    <tr>\n      <th>175</th>\n      <td>Lemon Ale</td>\n      <td>-</td>\n      <td>-</td>\n      <td>-</td>\n      <td>-</td>\n      <td>-</td>\n      <td>-</td>\n    </tr>\n    <tr>\n      <th>176</th>\n      <td>Orange Cream Soda</td>\n      <td>-</td>\n      <td>-</td>\n      <td>-</td>\n      <td>-</td>\n      <td>-</td>\n      <td>-</td>\n    </tr>\n  </tbody>\n</table>\n<p>177 rows × 7 columns</p>\n</div>"
     },
     "execution_count": 45,
     "metadata": {},
     "output_type": "execute_result"
    }
   ],
   "source": [
    "df_drink"
   ],
   "metadata": {
    "collapsed": false,
    "pycharm": {
     "name": "#%%\n"
    }
   }
  },
  {
   "cell_type": "code",
   "execution_count": 46,
   "outputs": [
    {
     "data": {
      "text/plain": "                             Unnamed: 0  Calories   Fat (g)   Carb. (g)  \\\n0                          Chonga Bagel       300       5.0          50   \n1                          8-Grain Roll       380       6.0          70   \n2                      Almond Croissant       410      22.0          45   \n3                         Apple Fritter       460      23.0          56   \n4                      Banana Nut Bread       420      22.0          52   \n..                                  ...       ...       ...         ...   \n108  Justin's Chocolate Hazelnut Butter       180      14.0          12   \n109      Justin's Classic Almond Butter       190      18.0           6   \n110                Lemon Chiffon Yogurt       340      13.0          38   \n111            Organic Avocado (Spread)        90       8.0           5   \n112                Seasonal Fruit Blend        90       0.0          24   \n\n      Fiber (g)   Protein (g)  \n0             3            12  \n1             7            10  \n2             3            10  \n3             2             7  \n4             2             6  \n..          ...           ...  \n108           3             4  \n109           3             7  \n110           0            18  \n111           4             1  \n112           4             1  \n\n[113 rows x 6 columns]",
      "text/html": "<div>\n<style scoped>\n    .dataframe tbody tr th:only-of-type {\n        vertical-align: middle;\n    }\n\n    .dataframe tbody tr th {\n        vertical-align: top;\n    }\n\n    .dataframe thead th {\n        text-align: right;\n    }\n</style>\n<table border=\"1\" class=\"dataframe\">\n  <thead>\n    <tr style=\"text-align: right;\">\n      <th></th>\n      <th>Unnamed: 0</th>\n      <th>Calories</th>\n      <th>Fat (g)</th>\n      <th>Carb. (g)</th>\n      <th>Fiber (g)</th>\n      <th>Protein (g)</th>\n    </tr>\n  </thead>\n  <tbody>\n    <tr>\n      <th>0</th>\n      <td>Chonga Bagel</td>\n      <td>300</td>\n      <td>5.0</td>\n      <td>50</td>\n      <td>3</td>\n      <td>12</td>\n    </tr>\n    <tr>\n      <th>1</th>\n      <td>8-Grain Roll</td>\n      <td>380</td>\n      <td>6.0</td>\n      <td>70</td>\n      <td>7</td>\n      <td>10</td>\n    </tr>\n    <tr>\n      <th>2</th>\n      <td>Almond Croissant</td>\n      <td>410</td>\n      <td>22.0</td>\n      <td>45</td>\n      <td>3</td>\n      <td>10</td>\n    </tr>\n    <tr>\n      <th>3</th>\n      <td>Apple Fritter</td>\n      <td>460</td>\n      <td>23.0</td>\n      <td>56</td>\n      <td>2</td>\n      <td>7</td>\n    </tr>\n    <tr>\n      <th>4</th>\n      <td>Banana Nut Bread</td>\n      <td>420</td>\n      <td>22.0</td>\n      <td>52</td>\n      <td>2</td>\n      <td>6</td>\n    </tr>\n    <tr>\n      <th>...</th>\n      <td>...</td>\n      <td>...</td>\n      <td>...</td>\n      <td>...</td>\n      <td>...</td>\n      <td>...</td>\n    </tr>\n    <tr>\n      <th>108</th>\n      <td>Justin's Chocolate Hazelnut Butter</td>\n      <td>180</td>\n      <td>14.0</td>\n      <td>12</td>\n      <td>3</td>\n      <td>4</td>\n    </tr>\n    <tr>\n      <th>109</th>\n      <td>Justin's Classic Almond Butter</td>\n      <td>190</td>\n      <td>18.0</td>\n      <td>6</td>\n      <td>3</td>\n      <td>7</td>\n    </tr>\n    <tr>\n      <th>110</th>\n      <td>Lemon Chiffon Yogurt</td>\n      <td>340</td>\n      <td>13.0</td>\n      <td>38</td>\n      <td>0</td>\n      <td>18</td>\n    </tr>\n    <tr>\n      <th>111</th>\n      <td>Organic Avocado (Spread)</td>\n      <td>90</td>\n      <td>8.0</td>\n      <td>5</td>\n      <td>4</td>\n      <td>1</td>\n    </tr>\n    <tr>\n      <th>112</th>\n      <td>Seasonal Fruit Blend</td>\n      <td>90</td>\n      <td>0.0</td>\n      <td>24</td>\n      <td>4</td>\n      <td>1</td>\n    </tr>\n  </tbody>\n</table>\n<p>113 rows × 6 columns</p>\n</div>"
     },
     "execution_count": 46,
     "metadata": {},
     "output_type": "execute_result"
    }
   ],
   "source": [
    "df_food"
   ],
   "metadata": {
    "collapsed": false,
    "pycharm": {
     "name": "#%%\n"
    }
   }
  },
  {
   "cell_type": "code",
   "execution_count": 68,
   "outputs": [
    {
     "name": "stderr",
     "output_type": "stream",
     "text": [
      "/Users/janisfrolich/opt/anaconda3/lib/python3.9/site-packages/pandas/core/frame.py:4906: SettingWithCopyWarning: \n",
      "A value is trying to be set on a copy of a slice from a DataFrame\n",
      "\n",
      "See the caveats in the documentation: https://pandas.pydata.org/pandas-docs/stable/user_guide/indexing.html#returning-a-view-versus-a-copy\n",
      "  return super().drop(\n"
     ]
    }
   ],
   "source": [
    "df_drink.drop(columns=[\"Sodium\"], inplace=True)"
   ],
   "metadata": {
    "collapsed": false,
    "pycharm": {
     "name": "#%%\n"
    }
   }
  },
  {
   "cell_type": "code",
   "execution_count": 69,
   "outputs": [
    {
     "name": "stderr",
     "output_type": "stream",
     "text": [
      "/Users/janisfrolich/opt/anaconda3/lib/python3.9/site-packages/pandas/core/frame.py:5238: SettingWithCopyWarning: \n",
      "A value is trying to be set on a copy of a slice from a DataFrame\n",
      "\n",
      "See the caveats in the documentation: https://pandas.pydata.org/pandas-docs/stable/user_guide/indexing.html#returning-a-view-versus-a-copy\n",
      "  return super().replace(\n"
     ]
    }
   ],
   "source": [
    "df_drink.replace(\"-\", np.nan, inplace=True)"
   ],
   "metadata": {
    "collapsed": false,
    "pycharm": {
     "name": "#%%\n"
    }
   }
  },
  {
   "cell_type": "code",
   "execution_count": 70,
   "outputs": [],
   "source": [
    "df_drink.index = df_drink[\"Unnamed: 0\"]"
   ],
   "metadata": {
    "collapsed": false,
    "pycharm": {
     "name": "#%%\n"
    }
   }
  },
  {
   "cell_type": "code",
   "execution_count": 71,
   "outputs": [
    {
     "name": "stderr",
     "output_type": "stream",
     "text": [
      "/Users/janisfrolich/opt/anaconda3/lib/python3.9/site-packages/pandas/core/frame.py:4906: SettingWithCopyWarning: \n",
      "A value is trying to be set on a copy of a slice from a DataFrame\n",
      "\n",
      "See the caveats in the documentation: https://pandas.pydata.org/pandas-docs/stable/user_guide/indexing.html#returning-a-view-versus-a-copy\n",
      "  return super().drop(\n"
     ]
    }
   ],
   "source": [
    "df_drink.drop(columns=[\"Unnamed: 0\"], inplace=True)"
   ],
   "metadata": {
    "collapsed": false,
    "pycharm": {
     "name": "#%%\n"
    }
   }
  },
  {
   "cell_type": "code",
   "execution_count": 72,
   "outputs": [],
   "source": [
    "df_drink = df_drink.dropna(axis=0, how='all')"
   ],
   "metadata": {
    "collapsed": false,
    "pycharm": {
     "name": "#%%\n"
    }
   }
  },
  {
   "cell_type": "code",
   "execution_count": 73,
   "outputs": [],
   "source": [
    "# index values of df_drink in new column\n",
    "df_drink['Unnamed: 0'] = df_drink.index"
   ],
   "metadata": {
    "collapsed": false,
    "pycharm": {
     "name": "#%%\n"
    }
   }
  },
  {
   "cell_type": "code",
   "execution_count": 74,
   "outputs": [],
   "source": [
    "# new index\n",
    "df_drink.index = range(0, len(df_drink))"
   ],
   "metadata": {
    "collapsed": false,
    "pycharm": {
     "name": "#%%\n"
    }
   }
  },
  {
   "cell_type": "code",
   "execution_count": 75,
   "outputs": [],
   "source": [
    "df_drink.rename(columns={\"Protein\": \"Protein (g)\"}, inplace=True)"
   ],
   "metadata": {
    "collapsed": false,
    "pycharm": {
     "name": "#%%\n"
    }
   }
  },
  {
   "cell_type": "code",
   "execution_count": 76,
   "outputs": [
    {
     "data": {
      "text/plain": "                             Unnamed: 0  Calories   Fat (g)   Carb. (g)  \\\n0                          Chonga Bagel       300       5.0          50   \n1                          8-Grain Roll       380       6.0          70   \n2                      Almond Croissant       410      22.0          45   \n3                         Apple Fritter       460      23.0          56   \n4                      Banana Nut Bread       420      22.0          52   \n..                                  ...       ...       ...         ...   \n108  Justin's Chocolate Hazelnut Butter       180      14.0          12   \n109      Justin's Classic Almond Butter       190      18.0           6   \n110                Lemon Chiffon Yogurt       340      13.0          38   \n111            Organic Avocado (Spread)        90       8.0           5   \n112                Seasonal Fruit Blend        90       0.0          24   \n\n      Fiber (g)   Protein (g)  \n0             3            12  \n1             7            10  \n2             3            10  \n3             2             7  \n4             2             6  \n..          ...           ...  \n108           3             4  \n109           3             7  \n110           0            18  \n111           4             1  \n112           4             1  \n\n[113 rows x 6 columns]",
      "text/html": "<div>\n<style scoped>\n    .dataframe tbody tr th:only-of-type {\n        vertical-align: middle;\n    }\n\n    .dataframe tbody tr th {\n        vertical-align: top;\n    }\n\n    .dataframe thead th {\n        text-align: right;\n    }\n</style>\n<table border=\"1\" class=\"dataframe\">\n  <thead>\n    <tr style=\"text-align: right;\">\n      <th></th>\n      <th>Unnamed: 0</th>\n      <th>Calories</th>\n      <th>Fat (g)</th>\n      <th>Carb. (g)</th>\n      <th>Fiber (g)</th>\n      <th>Protein (g)</th>\n    </tr>\n  </thead>\n  <tbody>\n    <tr>\n      <th>0</th>\n      <td>Chonga Bagel</td>\n      <td>300</td>\n      <td>5.0</td>\n      <td>50</td>\n      <td>3</td>\n      <td>12</td>\n    </tr>\n    <tr>\n      <th>1</th>\n      <td>8-Grain Roll</td>\n      <td>380</td>\n      <td>6.0</td>\n      <td>70</td>\n      <td>7</td>\n      <td>10</td>\n    </tr>\n    <tr>\n      <th>2</th>\n      <td>Almond Croissant</td>\n      <td>410</td>\n      <td>22.0</td>\n      <td>45</td>\n      <td>3</td>\n      <td>10</td>\n    </tr>\n    <tr>\n      <th>3</th>\n      <td>Apple Fritter</td>\n      <td>460</td>\n      <td>23.0</td>\n      <td>56</td>\n      <td>2</td>\n      <td>7</td>\n    </tr>\n    <tr>\n      <th>4</th>\n      <td>Banana Nut Bread</td>\n      <td>420</td>\n      <td>22.0</td>\n      <td>52</td>\n      <td>2</td>\n      <td>6</td>\n    </tr>\n    <tr>\n      <th>...</th>\n      <td>...</td>\n      <td>...</td>\n      <td>...</td>\n      <td>...</td>\n      <td>...</td>\n      <td>...</td>\n    </tr>\n    <tr>\n      <th>108</th>\n      <td>Justin's Chocolate Hazelnut Butter</td>\n      <td>180</td>\n      <td>14.0</td>\n      <td>12</td>\n      <td>3</td>\n      <td>4</td>\n    </tr>\n    <tr>\n      <th>109</th>\n      <td>Justin's Classic Almond Butter</td>\n      <td>190</td>\n      <td>18.0</td>\n      <td>6</td>\n      <td>3</td>\n      <td>7</td>\n    </tr>\n    <tr>\n      <th>110</th>\n      <td>Lemon Chiffon Yogurt</td>\n      <td>340</td>\n      <td>13.0</td>\n      <td>38</td>\n      <td>0</td>\n      <td>18</td>\n    </tr>\n    <tr>\n      <th>111</th>\n      <td>Organic Avocado (Spread)</td>\n      <td>90</td>\n      <td>8.0</td>\n      <td>5</td>\n      <td>4</td>\n      <td>1</td>\n    </tr>\n    <tr>\n      <th>112</th>\n      <td>Seasonal Fruit Blend</td>\n      <td>90</td>\n      <td>0.0</td>\n      <td>24</td>\n      <td>4</td>\n      <td>1</td>\n    </tr>\n  </tbody>\n</table>\n<p>113 rows × 6 columns</p>\n</div>"
     },
     "execution_count": 76,
     "metadata": {},
     "output_type": "execute_result"
    }
   ],
   "source": [
    "df_food"
   ],
   "metadata": {
    "collapsed": false,
    "pycharm": {
     "name": "#%%\n"
    }
   }
  },
  {
   "cell_type": "code",
   "execution_count": 77,
   "outputs": [
    {
     "data": {
      "text/plain": "Unnamed: 0       object\nCalories          int64\n Fat (g)        float64\n Carb. (g)        int64\n Fiber (g)        int64\n Protein (g)      int64\ndtype: object"
     },
     "execution_count": 77,
     "metadata": {},
     "output_type": "execute_result"
    }
   ],
   "source": [
    "df_food.dtypes"
   ],
   "metadata": {
    "collapsed": false,
    "pycharm": {
     "name": "#%%\n"
    }
   }
  },
  {
   "cell_type": "code",
   "execution_count": 78,
   "outputs": [
    {
     "data": {
      "text/plain": "Calories       object\nFat (g)        object\nCarb. (g)      object\nFiber (g)      object\nProtein (g)    object\nUnnamed: 0     object\ndtype: object"
     },
     "execution_count": 78,
     "metadata": {},
     "output_type": "execute_result"
    }
   ],
   "source": [
    "df_drink.dtypes"
   ],
   "metadata": {
    "collapsed": false,
    "pycharm": {
     "name": "#%%\n"
    }
   }
  },
  {
   "cell_type": "code",
   "execution_count": 82,
   "outputs": [],
   "source": [
    "# change data type of columns Calories, Fat (g), Protein (g), Carbs (g) to float\n",
    "df_drink[['Calories', 'Fat (g)', 'Protein (g)', 'Carb. (g)', 'Fiber (g)']] = df_drink[['Calories', 'Fat (g)', 'Protein (g)', 'Carb. (g)', 'Fiber (g)']].astype(float)"
   ],
   "metadata": {
    "collapsed": false,
    "pycharm": {
     "name": "#%%\n"
    }
   }
  },
  {
   "cell_type": "code",
   "execution_count": 83,
   "outputs": [
    {
     "data": {
      "text/plain": "Calories       float64\nFat (g)        float64\nCarb. (g)      float64\nFiber (g)      float64\nProtein (g)    float64\nUnnamed: 0      object\ndtype: object"
     },
     "execution_count": 83,
     "metadata": {},
     "output_type": "execute_result"
    }
   ],
   "source": [
    "df_drink.dtypes"
   ],
   "metadata": {
    "collapsed": false,
    "pycharm": {
     "name": "#%%\n"
    }
   }
  },
  {
   "cell_type": "code",
   "execution_count": 84,
   "outputs": [
    {
     "data": {
      "text/plain": "         Calories    Fat (g)  Carb. (g)  Fiber (g)  Protein (g)\ncount   92.000000  92.000000  92.000000  92.000000    92.000000\nmean   135.163043   2.336957  24.739130   0.445652     4.152174\nstd     93.853554   3.887928  15.214849   1.417040     5.691588\nmin      0.000000   0.000000   0.000000   0.000000     0.000000\n25%     60.000000   0.000000  14.750000   0.000000     0.000000\n50%    130.000000   0.000000  25.500000   0.000000     1.000000\n75%    190.000000   4.125000  35.000000   0.000000     8.250000\nmax    430.000000  26.000000  64.000000   8.000000    20.000000",
      "text/html": "<div>\n<style scoped>\n    .dataframe tbody tr th:only-of-type {\n        vertical-align: middle;\n    }\n\n    .dataframe tbody tr th {\n        vertical-align: top;\n    }\n\n    .dataframe thead th {\n        text-align: right;\n    }\n</style>\n<table border=\"1\" class=\"dataframe\">\n  <thead>\n    <tr style=\"text-align: right;\">\n      <th></th>\n      <th>Calories</th>\n      <th>Fat (g)</th>\n      <th>Carb. (g)</th>\n      <th>Fiber (g)</th>\n      <th>Protein (g)</th>\n    </tr>\n  </thead>\n  <tbody>\n    <tr>\n      <th>count</th>\n      <td>92.000000</td>\n      <td>92.000000</td>\n      <td>92.000000</td>\n      <td>92.000000</td>\n      <td>92.000000</td>\n    </tr>\n    <tr>\n      <th>mean</th>\n      <td>135.163043</td>\n      <td>2.336957</td>\n      <td>24.739130</td>\n      <td>0.445652</td>\n      <td>4.152174</td>\n    </tr>\n    <tr>\n      <th>std</th>\n      <td>93.853554</td>\n      <td>3.887928</td>\n      <td>15.214849</td>\n      <td>1.417040</td>\n      <td>5.691588</td>\n    </tr>\n    <tr>\n      <th>min</th>\n      <td>0.000000</td>\n      <td>0.000000</td>\n      <td>0.000000</td>\n      <td>0.000000</td>\n      <td>0.000000</td>\n    </tr>\n    <tr>\n      <th>25%</th>\n      <td>60.000000</td>\n      <td>0.000000</td>\n      <td>14.750000</td>\n      <td>0.000000</td>\n      <td>0.000000</td>\n    </tr>\n    <tr>\n      <th>50%</th>\n      <td>130.000000</td>\n      <td>0.000000</td>\n      <td>25.500000</td>\n      <td>0.000000</td>\n      <td>1.000000</td>\n    </tr>\n    <tr>\n      <th>75%</th>\n      <td>190.000000</td>\n      <td>4.125000</td>\n      <td>35.000000</td>\n      <td>0.000000</td>\n      <td>8.250000</td>\n    </tr>\n    <tr>\n      <th>max</th>\n      <td>430.000000</td>\n      <td>26.000000</td>\n      <td>64.000000</td>\n      <td>8.000000</td>\n      <td>20.000000</td>\n    </tr>\n  </tbody>\n</table>\n</div>"
     },
     "execution_count": 84,
     "metadata": {},
     "output_type": "execute_result"
    }
   ],
   "source": [
    "df_drink.describe()"
   ],
   "metadata": {
    "collapsed": false,
    "pycharm": {
     "name": "#%%\n"
    }
   }
  },
  {
   "cell_type": "code",
   "execution_count": null,
   "outputs": [],
   "source": [],
   "metadata": {
    "collapsed": false,
    "pycharm": {
     "name": "#%%\n"
    }
   }
  }
 ],
 "metadata": {
  "kernelspec": {
   "display_name": "Python 3",
   "language": "python",
   "name": "python3"
  },
  "language_info": {
   "codemirror_mode": {
    "name": "ipython",
    "version": 2
   },
   "file_extension": ".py",
   "mimetype": "text/x-python",
   "name": "python",
   "nbconvert_exporter": "python",
   "pygments_lexer": "ipython2",
   "version": "2.7.6"
  }
 },
 "nbformat": 4,
 "nbformat_minor": 0
}