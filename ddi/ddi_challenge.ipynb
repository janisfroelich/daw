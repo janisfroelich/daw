{
 "cells": [
  {
   "cell_type": "code",
   "execution_count": 214,
   "outputs": [],
   "source": [
    "import pandas as pd\n",
    "import numpy as np\n",
    "import matplotlib.pyplot as plt\n",
    "import seaborn as sns"
   ],
   "metadata": {
    "collapsed": false,
    "pycharm": {
     "name": "#%%\n"
    }
   }
  },
  {
   "cell_type": "code",
   "execution_count": 215,
   "outputs": [],
   "source": [
    "df_rat = pd.read_excel(\"Ratsmitglieder_1848_DE-1645541118.xlsx\")"
   ],
   "metadata": {
    "collapsed": false,
    "pycharm": {
     "name": "#%%\n"
    }
   }
  },
  {
   "cell_type": "code",
   "execution_count": 216,
   "outputs": [
    {
     "data": {
      "text/plain": "      Active      FirstName  LastName GenderAsString  CantonName  \\\n0      False       Giuseppe   a Marca              m  Graubünden   \n1      False          Alois  Ab Yberg              m      Schwyz   \n2      False          Fabio     Abate              m      Tessin   \n3      False          Fabio     Abate              m      Tessin   \n4      False          Fabio     Abate              m      Tessin   \n...      ...            ...       ...            ...         ...   \n6425   False  Otto (senior)   Zwygart              m        Bern   \n6426   False           Otto   Zwygart              m        Bern   \n6427   False      Carl Sam.      Zyro              m        Bern   \n6428   False      Carl Sam.      Zyro              m        Bern   \n6429   False      Carl Sam.      Zyro              m        Bern   \n\n     CantonAbbreviation  CouncilName                            ParlGroupName  \\\n0                    GR    Ständerat                                    Mitte   \n1                    SZ  Nationalrat           Radikal-demokratische Fraktion   \n2                    TI  Nationalrat        Freisinnig-demokratische Fraktion   \n3                    TI  Nationalrat        Freisinnig-demokratische Fraktion   \n4                    TI    Ständerat                    FDP-Liberale Fraktion   \n...                 ...          ...                                      ...   \n6425                 BE  Nationalrat  Demokratische und Evangelische Fraktion   \n6426                 BE  Nationalrat                         LdU/EVP-Fraktion   \n6427                 BE  Nationalrat                                    Linke   \n6428                 BE  Nationalrat                                    Linke   \n6429                 BE  Nationalrat                                    Linke   \n\n     ParlGroupAbbreviation                                    PartyName  \\\n0                       MC                                 Konservative   \n1                        R  Freisinnig-Demokratische Partei der Schweiz   \n2                       RL  Freisinnig-Demokratische Partei der Schweiz   \n3                        R  Freisinnig-Demokratische Partei der Schweiz   \n4                       RL                            FDP.Die Liberalen   \n...                    ...                                          ...   \n6425                    DE         Evangelische Volkspartei der Schweiz   \n6426                     U         Evangelische Volkspartei der Schweiz   \n6427                    LG  Freisinnig-Demokratische Partei der Schweiz   \n6428                    LG  Freisinnig-Demokratische Partei der Schweiz   \n6429                    LG  Freisinnig-Demokratische Partei der Schweiz   \n\n     PartyAbbreviation MaritalStatusText BirthPlace_City BirthPlace_Canton  \\\n0                Kons*               NaN             NaN               NaN   \n1                  FDP               NaN             NaN               NaN   \n2                  FDP               NaN         Locarno            Tessin   \n3                  FDP               NaN         Locarno            Tessin   \n4         FDP-Liberale               NaN         Locarno            Tessin   \n...                ...               ...             ...               ...   \n6425               EVP               NaN             NaN               NaN   \n6426               EVP               NaN        Schliern              Bern   \n6427               FDP               NaN             NaN               NaN   \n6428               FDP               NaN             NaN               NaN   \n6429               FDP               NaN             NaN               NaN   \n\n                                               Mandates DateJoining  \\\n0                                                   NaN  01.12.1849   \n1                                                   NaN  03.12.1928   \n2     incarichi esecutivi presso il comune di Locarn...  03.12.2007   \n3     incarichi esecutivi presso il comune di Locarn...  25.09.2000   \n4     incarichi esecutivi presso il comune di Locarn...  05.12.2011   \n...                                                 ...         ...   \n6425                                                NaN  01.06.1971   \n6426  Grosser Gemeinderat Bolligen von 1970 bis 1974...  28.11.1983   \n6427                                                NaN  03.12.1866   \n6428                                                NaN  03.12.1866   \n6429                                                NaN  03.12.1866   \n\n     DateLeaving                  Citizenship DateOfBirth DateOfDeath  \n0     01.07.1851                  Soazza (GR)  29.07.1799  16.07.1866  \n1     01.12.1935                  Schwyz (SZ)  06.10.1878  17.10.1959  \n2     04.12.2011                  Cabbio (TI)  04.01.1966         NaN  \n3     30.11.2003                  Cabbio (TI)  04.01.1966         NaN  \n4     29.11.2015                  Cabbio (TI)  04.01.1966         NaN  \n...          ...                          ...         ...         ...  \n6425  27.11.1983                Meikirch (BE)  30.05.1911  05.04.1986  \n6426  03.12.1995  Bolligen (BE),Meikirch (BE)  16.01.1940         NaN  \n6427  03.12.1893                    Thun (BE)  17.07.1834  26.08.1896  \n6428  03.12.1893                    Thun (BE)  17.07.1834  26.08.1896  \n6429  03.12.1893                    Thun (BE)  17.07.1834  26.08.1896  \n\n[6430 rows x 20 columns]",
      "text/html": "<div>\n<style scoped>\n    .dataframe tbody tr th:only-of-type {\n        vertical-align: middle;\n    }\n\n    .dataframe tbody tr th {\n        vertical-align: top;\n    }\n\n    .dataframe thead th {\n        text-align: right;\n    }\n</style>\n<table border=\"1\" class=\"dataframe\">\n  <thead>\n    <tr style=\"text-align: right;\">\n      <th></th>\n      <th>Active</th>\n      <th>FirstName</th>\n      <th>LastName</th>\n      <th>GenderAsString</th>\n      <th>CantonName</th>\n      <th>CantonAbbreviation</th>\n      <th>CouncilName</th>\n      <th>ParlGroupName</th>\n      <th>ParlGroupAbbreviation</th>\n      <th>PartyName</th>\n      <th>PartyAbbreviation</th>\n      <th>MaritalStatusText</th>\n      <th>BirthPlace_City</th>\n      <th>BirthPlace_Canton</th>\n      <th>Mandates</th>\n      <th>DateJoining</th>\n      <th>DateLeaving</th>\n      <th>Citizenship</th>\n      <th>DateOfBirth</th>\n      <th>DateOfDeath</th>\n    </tr>\n  </thead>\n  <tbody>\n    <tr>\n      <th>0</th>\n      <td>False</td>\n      <td>Giuseppe</td>\n      <td>a Marca</td>\n      <td>m</td>\n      <td>Graubünden</td>\n      <td>GR</td>\n      <td>Ständerat</td>\n      <td>Mitte</td>\n      <td>MC</td>\n      <td>Konservative</td>\n      <td>Kons*</td>\n      <td>NaN</td>\n      <td>NaN</td>\n      <td>NaN</td>\n      <td>NaN</td>\n      <td>01.12.1849</td>\n      <td>01.07.1851</td>\n      <td>Soazza (GR)</td>\n      <td>29.07.1799</td>\n      <td>16.07.1866</td>\n    </tr>\n    <tr>\n      <th>1</th>\n      <td>False</td>\n      <td>Alois</td>\n      <td>Ab Yberg</td>\n      <td>m</td>\n      <td>Schwyz</td>\n      <td>SZ</td>\n      <td>Nationalrat</td>\n      <td>Radikal-demokratische Fraktion</td>\n      <td>R</td>\n      <td>Freisinnig-Demokratische Partei der Schweiz</td>\n      <td>FDP</td>\n      <td>NaN</td>\n      <td>NaN</td>\n      <td>NaN</td>\n      <td>NaN</td>\n      <td>03.12.1928</td>\n      <td>01.12.1935</td>\n      <td>Schwyz (SZ)</td>\n      <td>06.10.1878</td>\n      <td>17.10.1959</td>\n    </tr>\n    <tr>\n      <th>2</th>\n      <td>False</td>\n      <td>Fabio</td>\n      <td>Abate</td>\n      <td>m</td>\n      <td>Tessin</td>\n      <td>TI</td>\n      <td>Nationalrat</td>\n      <td>Freisinnig-demokratische Fraktion</td>\n      <td>RL</td>\n      <td>Freisinnig-Demokratische Partei der Schweiz</td>\n      <td>FDP</td>\n      <td>NaN</td>\n      <td>Locarno</td>\n      <td>Tessin</td>\n      <td>incarichi esecutivi presso il comune di Locarn...</td>\n      <td>03.12.2007</td>\n      <td>04.12.2011</td>\n      <td>Cabbio (TI)</td>\n      <td>04.01.1966</td>\n      <td>NaN</td>\n    </tr>\n    <tr>\n      <th>3</th>\n      <td>False</td>\n      <td>Fabio</td>\n      <td>Abate</td>\n      <td>m</td>\n      <td>Tessin</td>\n      <td>TI</td>\n      <td>Nationalrat</td>\n      <td>Freisinnig-demokratische Fraktion</td>\n      <td>R</td>\n      <td>Freisinnig-Demokratische Partei der Schweiz</td>\n      <td>FDP</td>\n      <td>NaN</td>\n      <td>Locarno</td>\n      <td>Tessin</td>\n      <td>incarichi esecutivi presso il comune di Locarn...</td>\n      <td>25.09.2000</td>\n      <td>30.11.2003</td>\n      <td>Cabbio (TI)</td>\n      <td>04.01.1966</td>\n      <td>NaN</td>\n    </tr>\n    <tr>\n      <th>4</th>\n      <td>False</td>\n      <td>Fabio</td>\n      <td>Abate</td>\n      <td>m</td>\n      <td>Tessin</td>\n      <td>TI</td>\n      <td>Ständerat</td>\n      <td>FDP-Liberale Fraktion</td>\n      <td>RL</td>\n      <td>FDP.Die Liberalen</td>\n      <td>FDP-Liberale</td>\n      <td>NaN</td>\n      <td>Locarno</td>\n      <td>Tessin</td>\n      <td>incarichi esecutivi presso il comune di Locarn...</td>\n      <td>05.12.2011</td>\n      <td>29.11.2015</td>\n      <td>Cabbio (TI)</td>\n      <td>04.01.1966</td>\n      <td>NaN</td>\n    </tr>\n    <tr>\n      <th>...</th>\n      <td>...</td>\n      <td>...</td>\n      <td>...</td>\n      <td>...</td>\n      <td>...</td>\n      <td>...</td>\n      <td>...</td>\n      <td>...</td>\n      <td>...</td>\n      <td>...</td>\n      <td>...</td>\n      <td>...</td>\n      <td>...</td>\n      <td>...</td>\n      <td>...</td>\n      <td>...</td>\n      <td>...</td>\n      <td>...</td>\n      <td>...</td>\n      <td>...</td>\n    </tr>\n    <tr>\n      <th>6425</th>\n      <td>False</td>\n      <td>Otto (senior)</td>\n      <td>Zwygart</td>\n      <td>m</td>\n      <td>Bern</td>\n      <td>BE</td>\n      <td>Nationalrat</td>\n      <td>Demokratische und Evangelische Fraktion</td>\n      <td>DE</td>\n      <td>Evangelische Volkspartei der Schweiz</td>\n      <td>EVP</td>\n      <td>NaN</td>\n      <td>NaN</td>\n      <td>NaN</td>\n      <td>NaN</td>\n      <td>01.06.1971</td>\n      <td>27.11.1983</td>\n      <td>Meikirch (BE)</td>\n      <td>30.05.1911</td>\n      <td>05.04.1986</td>\n    </tr>\n    <tr>\n      <th>6426</th>\n      <td>False</td>\n      <td>Otto</td>\n      <td>Zwygart</td>\n      <td>m</td>\n      <td>Bern</td>\n      <td>BE</td>\n      <td>Nationalrat</td>\n      <td>LdU/EVP-Fraktion</td>\n      <td>U</td>\n      <td>Evangelische Volkspartei der Schweiz</td>\n      <td>EVP</td>\n      <td>NaN</td>\n      <td>Schliern</td>\n      <td>Bern</td>\n      <td>Grosser Gemeinderat Bolligen von 1970 bis 1974...</td>\n      <td>28.11.1983</td>\n      <td>03.12.1995</td>\n      <td>Bolligen (BE),Meikirch (BE)</td>\n      <td>16.01.1940</td>\n      <td>NaN</td>\n    </tr>\n    <tr>\n      <th>6427</th>\n      <td>False</td>\n      <td>Carl Sam.</td>\n      <td>Zyro</td>\n      <td>m</td>\n      <td>Bern</td>\n      <td>BE</td>\n      <td>Nationalrat</td>\n      <td>Linke</td>\n      <td>LG</td>\n      <td>Freisinnig-Demokratische Partei der Schweiz</td>\n      <td>FDP</td>\n      <td>NaN</td>\n      <td>NaN</td>\n      <td>NaN</td>\n      <td>NaN</td>\n      <td>03.12.1866</td>\n      <td>03.12.1893</td>\n      <td>Thun (BE)</td>\n      <td>17.07.1834</td>\n      <td>26.08.1896</td>\n    </tr>\n    <tr>\n      <th>6428</th>\n      <td>False</td>\n      <td>Carl Sam.</td>\n      <td>Zyro</td>\n      <td>m</td>\n      <td>Bern</td>\n      <td>BE</td>\n      <td>Nationalrat</td>\n      <td>Linke</td>\n      <td>LG</td>\n      <td>Freisinnig-Demokratische Partei der Schweiz</td>\n      <td>FDP</td>\n      <td>NaN</td>\n      <td>NaN</td>\n      <td>NaN</td>\n      <td>NaN</td>\n      <td>03.12.1866</td>\n      <td>03.12.1893</td>\n      <td>Thun (BE)</td>\n      <td>17.07.1834</td>\n      <td>26.08.1896</td>\n    </tr>\n    <tr>\n      <th>6429</th>\n      <td>False</td>\n      <td>Carl Sam.</td>\n      <td>Zyro</td>\n      <td>m</td>\n      <td>Bern</td>\n      <td>BE</td>\n      <td>Nationalrat</td>\n      <td>Linke</td>\n      <td>LG</td>\n      <td>Freisinnig-Demokratische Partei der Schweiz</td>\n      <td>FDP</td>\n      <td>NaN</td>\n      <td>NaN</td>\n      <td>NaN</td>\n      <td>NaN</td>\n      <td>03.12.1866</td>\n      <td>03.12.1893</td>\n      <td>Thun (BE)</td>\n      <td>17.07.1834</td>\n      <td>26.08.1896</td>\n    </tr>\n  </tbody>\n</table>\n<p>6430 rows × 20 columns</p>\n</div>"
     },
     "execution_count": 216,
     "metadata": {},
     "output_type": "execute_result"
    }
   ],
   "source": [
    "df_rat"
   ],
   "metadata": {
    "collapsed": false,
    "pycharm": {
     "name": "#%%\n"
    }
   }
  },
  {
   "cell_type": "code",
   "execution_count": 217,
   "outputs": [
    {
     "name": "stdout",
     "output_type": "stream",
     "text": [
      "<class 'pandas.core.frame.DataFrame'>\n",
      "RangeIndex: 6430 entries, 0 to 6429\n",
      "Data columns (total 20 columns):\n",
      " #   Column                 Non-Null Count  Dtype \n",
      "---  ------                 --------------  ----- \n",
      " 0   Active                 6430 non-null   bool  \n",
      " 1   FirstName              6430 non-null   object\n",
      " 2   LastName               6430 non-null   object\n",
      " 3   GenderAsString         6430 non-null   object\n",
      " 4   CantonName             6428 non-null   object\n",
      " 5   CantonAbbreviation     6428 non-null   object\n",
      " 6   CouncilName            6425 non-null   object\n",
      " 7   ParlGroupName          4952 non-null   object\n",
      " 8   ParlGroupAbbreviation  4952 non-null   object\n",
      " 9   PartyName              6352 non-null   object\n",
      " 10  PartyAbbreviation      6350 non-null   object\n",
      " 11  MaritalStatusText      240 non-null    object\n",
      " 12  BirthPlace_City        2165 non-null   object\n",
      " 13  BirthPlace_Canton      2087 non-null   object\n",
      " 14  Mandates               1882 non-null   object\n",
      " 15  DateJoining            6430 non-null   object\n",
      " 16  DateLeaving            6174 non-null   object\n",
      " 17  Citizenship            6423 non-null   object\n",
      " 18  DateOfBirth            6430 non-null   object\n",
      " 19  DateOfDeath            4270 non-null   object\n",
      "dtypes: bool(1), object(19)\n",
      "memory usage: 960.9+ KB\n"
     ]
    }
   ],
   "source": [
    "df_rat.info()"
   ],
   "metadata": {
    "collapsed": false,
    "pycharm": {
     "name": "#%%\n"
    }
   }
  },
  {
   "cell_type": "code",
   "execution_count": 218,
   "outputs": [
    {
     "data": {
      "text/plain": "Active                      0\nFirstName                   0\nLastName                    0\nGenderAsString              0\nCantonName                  2\nCantonAbbreviation          2\nCouncilName                 5\nParlGroupName            1478\nParlGroupAbbreviation    1478\nPartyName                  78\nPartyAbbreviation          80\nMaritalStatusText        6190\nBirthPlace_City          4265\nBirthPlace_Canton        4343\nMandates                 4548\nDateJoining                 0\nDateLeaving               256\nCitizenship                 7\nDateOfBirth                 0\nDateOfDeath              2160\ndtype: int64"
     },
     "execution_count": 218,
     "metadata": {},
     "output_type": "execute_result"
    }
   ],
   "source": [
    "# count missing values in each column\n",
    "df_rat.isnull().sum()"
   ],
   "metadata": {
    "collapsed": false,
    "pycharm": {
     "name": "#%%\n"
    }
   }
  },
  {
   "cell_type": "code",
   "execution_count": 219,
   "outputs": [],
   "source": [
    "# change data type of columns DateJoining, DateLeaving, DateOfBirth and DateOfDeath to datetime\n",
    "df_rat['DateJoining'] = pd.to_datetime(df_rat['DateJoining'])\n",
    "df_rat['DateLeaving'] = pd.to_datetime(df_rat['DateLeaving'])\n",
    "df_rat['DateOfBirth'] = pd.to_datetime(df_rat['DateOfBirth'])\n",
    "df_rat['DateOfDeath'] = pd.to_datetime(df_rat['DateOfDeath'])"
   ],
   "metadata": {
    "collapsed": false,
    "pycharm": {
     "name": "#%%\n"
    }
   }
  },
  {
   "cell_type": "code",
   "execution_count": 220,
   "outputs": [],
   "source": [
    "# change data type of column 'GenderAsString', \"CantonName\", \"CantonAbbreviation\", \"CouncilName\", \"ParlGroupName\", \"ParlGroupAbbreviation\", \"PartyName\", \"PartyAbbreviation\" to categorical datatype\n",
    "df_rat[['GenderAsString', \"CantonName\", \"CantonAbbreviation\", \"CouncilName\", \"ParlGroupName\", \"ParlGroupAbbreviation\", \"PartyName\", \"PartyAbbreviation\"]] = df_rat[['GenderAsString', \"CantonName\", \"CantonAbbreviation\", \"CouncilName\", \"ParlGroupName\", \"ParlGroupAbbreviation\", \"PartyName\", \"PartyAbbreviation\"]].astype('category')\n",
    "#df_rat['CantonName'] = df_rat['CantonName'].astype('category')\n"
   ],
   "metadata": {
    "collapsed": false,
    "pycharm": {
     "name": "#%%\n"
    }
   }
  },
  {
   "cell_type": "code",
   "execution_count": 221,
   "outputs": [
    {
     "name": "stdout",
     "output_type": "stream",
     "text": [
      "<class 'pandas.core.frame.DataFrame'>\n",
      "RangeIndex: 6430 entries, 0 to 6429\n",
      "Data columns (total 20 columns):\n",
      " #   Column                 Non-Null Count  Dtype         \n",
      "---  ------                 --------------  -----         \n",
      " 0   Active                 6430 non-null   bool          \n",
      " 1   FirstName              6430 non-null   object        \n",
      " 2   LastName               6430 non-null   object        \n",
      " 3   GenderAsString         6430 non-null   category      \n",
      " 4   CantonName             6428 non-null   category      \n",
      " 5   CantonAbbreviation     6428 non-null   category      \n",
      " 6   CouncilName            6425 non-null   category      \n",
      " 7   ParlGroupName          4952 non-null   category      \n",
      " 8   ParlGroupAbbreviation  4952 non-null   category      \n",
      " 9   PartyName              6352 non-null   category      \n",
      " 10  PartyAbbreviation      6350 non-null   category      \n",
      " 11  MaritalStatusText      240 non-null    object        \n",
      " 12  BirthPlace_City        2165 non-null   object        \n",
      " 13  BirthPlace_Canton      2087 non-null   object        \n",
      " 14  Mandates               1882 non-null   object        \n",
      " 15  DateJoining            6430 non-null   datetime64[ns]\n",
      " 16  DateLeaving            6174 non-null   datetime64[ns]\n",
      " 17  Citizenship            6423 non-null   object        \n",
      " 18  DateOfBirth            6430 non-null   datetime64[ns]\n",
      " 19  DateOfDeath            4270 non-null   datetime64[ns]\n",
      "dtypes: bool(1), category(8), datetime64[ns](4), object(7)\n",
      "memory usage: 620.1+ KB\n"
     ]
    }
   ],
   "source": [
    "df_rat.info()"
   ],
   "metadata": {
    "collapsed": false,
    "pycharm": {
     "name": "#%%\n"
    }
   }
  },
  {
   "cell_type": "code",
   "execution_count": 222,
   "outputs": [
    {
     "data": {
      "text/plain": "Active                      2\nFirstName                1340\nLastName                 2298\nGenderAsString              2\nCantonName                 26\nCantonAbbreviation         26\nCouncilName                 3\nParlGroupName              44\nParlGroupAbbreviation      35\nPartyName                  84\nPartyAbbreviation          82\nMaritalStatusText           4\nBirthPlace_City           340\nBirthPlace_Canton          26\nMandates                  704\nDateJoining               992\nDateLeaving              1487\nCitizenship              2001\nDateOfBirth              3510\nDateOfDeath              2671\ndtype: int64"
     },
     "execution_count": 222,
     "metadata": {},
     "output_type": "execute_result"
    }
   ],
   "source": [
    "# show all different unique values of each column\n",
    "df_rat.nunique()"
   ],
   "metadata": {
    "collapsed": false,
    "pycharm": {
     "name": "#%%\n"
    }
   }
  },
  {
   "cell_type": "markdown",
   "source": [
    "# 5. Duplikate droppen"
   ],
   "metadata": {
    "collapsed": false,
    "pycharm": {
     "name": "#%% md\n"
    }
   }
  },
  {
   "cell_type": "code",
   "execution_count": 223,
   "outputs": [
    {
     "data": {
      "text/plain": "732"
     },
     "execution_count": 223,
     "metadata": {},
     "output_type": "execute_result"
    }
   ],
   "source": [
    "# find all duplicate rows\n",
    "df_rat.duplicated().sum()"
   ],
   "metadata": {
    "collapsed": false,
    "pycharm": {
     "name": "#%%\n"
    }
   }
  },
  {
   "cell_type": "code",
   "execution_count": 224,
   "outputs": [],
   "source": [
    "# drop all duplicate rows\n",
    "df_rat.drop_duplicates(inplace=True)"
   ],
   "metadata": {
    "collapsed": false,
    "pycharm": {
     "name": "#%%\n"
    }
   }
  },
  {
   "cell_type": "markdown",
   "source": [
    "# 2. Gleiche vor und Nachnamen"
   ],
   "metadata": {
    "collapsed": false,
    "pycharm": {
     "name": "#%% md\n"
    }
   }
  },
  {
   "cell_type": "code",
   "execution_count": 225,
   "outputs": [],
   "source": [
    "# subset with columns \"FirstName\", \"LastName\", \"GenderAsString\", \"CantonName\", \"Citizenship\", \"DateOfBirth\", \"DateOfDeath\"\n",
    "df_rat_name = df_rat[[\"FirstName\", \"LastName\"]]"
   ],
   "metadata": {
    "collapsed": false,
    "pycharm": {
     "name": "#%%\n"
    }
   }
  },
  {
   "cell_type": "code",
   "execution_count": 226,
   "outputs": [
    {
     "data": {
      "text/plain": "2103"
     },
     "execution_count": 226,
     "metadata": {},
     "output_type": "execute_result"
    }
   ],
   "source": [
    "# find all unique values of each column\n",
    "df_rat_name.duplicated().sum()"
   ],
   "metadata": {
    "collapsed": false,
    "pycharm": {
     "name": "#%%\n"
    }
   }
  },
  {
   "cell_type": "code",
   "execution_count": 227,
   "outputs": [
    {
     "data": {
      "text/plain": "['Kons*', 'FDP', 'FDP-Liberale', 'Lib*', 'SP', ..., 'csp-ow', 'VKons(BE)*', 'Dem->Freis', 'Kons->Lib', 'AJU (BE)*']\nLength: 83\nCategories (82, object): ['-', '?', 'AJU (BE)*', 'AVL (SG)', ..., 'Vig./GE', 'Zent (BS)*', 'csp-ow', 'glp']"
     },
     "execution_count": 227,
     "metadata": {},
     "output_type": "execute_result"
    }
   ],
   "source": [
    "df_rat.PartyAbbreviation.unique()"
   ],
   "metadata": {
    "collapsed": false,
    "pycharm": {
     "name": "#%%\n"
    }
   }
  },
  {
   "cell_type": "code",
   "execution_count": 228,
   "outputs": [
    {
     "data": {
      "text/plain": "      Active       FirstName      LastName GenderAsString        CantonName  \\\n2224   False  Charles-Amédée         Girod              m              Genf   \n3072   False     Johann Karl      Kappeler              m           Thurgau   \n3107   False           Jakob  Kellenberger              m  Appenzell A.-Rh.   \n3225   False     Karl Gustav         König              m              Bern   \n4732   False          Arnold          Roth              m  Appenzell A.-Rh.   \n5700   False           Titus        Tobler              m  Appenzell A.-Rh.   \n5951   False           Nazar    von Reding              m            Schwyz   \n\n     CantonAbbreviation  CouncilName ParlGroupName ParlGroupAbbreviation  \\\n2224                 GE    Ständerat     Unbekannt                     ?   \n3072                 TG    Ständerat         Mitte                    MC   \n3107                 AR  Nationalrat  Fraktionslos                     -   \n3225                 BE    Ständerat  Fraktionslos                     -   \n4732                 AR    Ständerat         Mitte                    MC   \n5700                 AR  Nationalrat     Unbekannt                     ?   \n5951                 SZ    Ständerat         Mitte                    MC   \n\n          PartyName PartyAbbreviation MaritalStatusText BirthPlace_City  \\\n2224  Undefinierbar                 ?               NaN             NaN   \n3072  Undefinierbar                 ?               NaN             NaN   \n3107  Undefinierbar                 ?               NaN             NaN   \n3225  Undefinierbar                 ?               NaN             NaN   \n4732  Undefinierbar                 ?               NaN             NaN   \n5700  Undefinierbar                 ?               NaN             NaN   \n5951  Undefinierbar                 ?               NaN             NaN   \n\n     BirthPlace_Canton Mandates DateJoining DateLeaving        Citizenship  \\\n2224               NaN      NaN  1872-01-11  1872-01-12          Genf (GE)   \n3072               NaN      NaN  1848-06-11  1881-04-12    Frauenfeld (TG)   \n3107               NaN      NaN  1853-04-07  1857-06-12  Walzenhausen (AR)   \n3225               NaN      NaN  1867-01-03  1868-01-11          Bern (BE)   \n4732               NaN      NaN  1871-03-07  1876-01-12        Teufen (AR)   \n5700               NaN      NaN  1854-09-01  1857-06-12    Wolfhalden (AR)   \n5951               NaN      NaN  1853-04-07  1854-03-12        Schwyz (SZ)   \n\n     DateOfBirth DateOfDeath  \n2224  1835-01-01  1905-01-01  \n3072  1816-03-23  1888-10-20  \n3107  1793-07-29  1873-10-20  \n3225  1828-12-19  1892-05-23  \n4732  1836-01-24  1904-07-04  \n5700  1806-06-25  1877-01-21  \n5951  1806-06-30  1865-12-28  ",
      "text/html": "<div>\n<style scoped>\n    .dataframe tbody tr th:only-of-type {\n        vertical-align: middle;\n    }\n\n    .dataframe tbody tr th {\n        vertical-align: top;\n    }\n\n    .dataframe thead th {\n        text-align: right;\n    }\n</style>\n<table border=\"1\" class=\"dataframe\">\n  <thead>\n    <tr style=\"text-align: right;\">\n      <th></th>\n      <th>Active</th>\n      <th>FirstName</th>\n      <th>LastName</th>\n      <th>GenderAsString</th>\n      <th>CantonName</th>\n      <th>CantonAbbreviation</th>\n      <th>CouncilName</th>\n      <th>ParlGroupName</th>\n      <th>ParlGroupAbbreviation</th>\n      <th>PartyName</th>\n      <th>PartyAbbreviation</th>\n      <th>MaritalStatusText</th>\n      <th>BirthPlace_City</th>\n      <th>BirthPlace_Canton</th>\n      <th>Mandates</th>\n      <th>DateJoining</th>\n      <th>DateLeaving</th>\n      <th>Citizenship</th>\n      <th>DateOfBirth</th>\n      <th>DateOfDeath</th>\n    </tr>\n  </thead>\n  <tbody>\n    <tr>\n      <th>2224</th>\n      <td>False</td>\n      <td>Charles-Amédée</td>\n      <td>Girod</td>\n      <td>m</td>\n      <td>Genf</td>\n      <td>GE</td>\n      <td>Ständerat</td>\n      <td>Unbekannt</td>\n      <td>?</td>\n      <td>Undefinierbar</td>\n      <td>?</td>\n      <td>NaN</td>\n      <td>NaN</td>\n      <td>NaN</td>\n      <td>NaN</td>\n      <td>1872-01-11</td>\n      <td>1872-01-12</td>\n      <td>Genf (GE)</td>\n      <td>1835-01-01</td>\n      <td>1905-01-01</td>\n    </tr>\n    <tr>\n      <th>3072</th>\n      <td>False</td>\n      <td>Johann Karl</td>\n      <td>Kappeler</td>\n      <td>m</td>\n      <td>Thurgau</td>\n      <td>TG</td>\n      <td>Ständerat</td>\n      <td>Mitte</td>\n      <td>MC</td>\n      <td>Undefinierbar</td>\n      <td>?</td>\n      <td>NaN</td>\n      <td>NaN</td>\n      <td>NaN</td>\n      <td>NaN</td>\n      <td>1848-06-11</td>\n      <td>1881-04-12</td>\n      <td>Frauenfeld (TG)</td>\n      <td>1816-03-23</td>\n      <td>1888-10-20</td>\n    </tr>\n    <tr>\n      <th>3107</th>\n      <td>False</td>\n      <td>Jakob</td>\n      <td>Kellenberger</td>\n      <td>m</td>\n      <td>Appenzell A.-Rh.</td>\n      <td>AR</td>\n      <td>Nationalrat</td>\n      <td>Fraktionslos</td>\n      <td>-</td>\n      <td>Undefinierbar</td>\n      <td>?</td>\n      <td>NaN</td>\n      <td>NaN</td>\n      <td>NaN</td>\n      <td>NaN</td>\n      <td>1853-04-07</td>\n      <td>1857-06-12</td>\n      <td>Walzenhausen (AR)</td>\n      <td>1793-07-29</td>\n      <td>1873-10-20</td>\n    </tr>\n    <tr>\n      <th>3225</th>\n      <td>False</td>\n      <td>Karl Gustav</td>\n      <td>König</td>\n      <td>m</td>\n      <td>Bern</td>\n      <td>BE</td>\n      <td>Ständerat</td>\n      <td>Fraktionslos</td>\n      <td>-</td>\n      <td>Undefinierbar</td>\n      <td>?</td>\n      <td>NaN</td>\n      <td>NaN</td>\n      <td>NaN</td>\n      <td>NaN</td>\n      <td>1867-01-03</td>\n      <td>1868-01-11</td>\n      <td>Bern (BE)</td>\n      <td>1828-12-19</td>\n      <td>1892-05-23</td>\n    </tr>\n    <tr>\n      <th>4732</th>\n      <td>False</td>\n      <td>Arnold</td>\n      <td>Roth</td>\n      <td>m</td>\n      <td>Appenzell A.-Rh.</td>\n      <td>AR</td>\n      <td>Ständerat</td>\n      <td>Mitte</td>\n      <td>MC</td>\n      <td>Undefinierbar</td>\n      <td>?</td>\n      <td>NaN</td>\n      <td>NaN</td>\n      <td>NaN</td>\n      <td>NaN</td>\n      <td>1871-03-07</td>\n      <td>1876-01-12</td>\n      <td>Teufen (AR)</td>\n      <td>1836-01-24</td>\n      <td>1904-07-04</td>\n    </tr>\n    <tr>\n      <th>5700</th>\n      <td>False</td>\n      <td>Titus</td>\n      <td>Tobler</td>\n      <td>m</td>\n      <td>Appenzell A.-Rh.</td>\n      <td>AR</td>\n      <td>Nationalrat</td>\n      <td>Unbekannt</td>\n      <td>?</td>\n      <td>Undefinierbar</td>\n      <td>?</td>\n      <td>NaN</td>\n      <td>NaN</td>\n      <td>NaN</td>\n      <td>NaN</td>\n      <td>1854-09-01</td>\n      <td>1857-06-12</td>\n      <td>Wolfhalden (AR)</td>\n      <td>1806-06-25</td>\n      <td>1877-01-21</td>\n    </tr>\n    <tr>\n      <th>5951</th>\n      <td>False</td>\n      <td>Nazar</td>\n      <td>von Reding</td>\n      <td>m</td>\n      <td>Schwyz</td>\n      <td>SZ</td>\n      <td>Ständerat</td>\n      <td>Mitte</td>\n      <td>MC</td>\n      <td>Undefinierbar</td>\n      <td>?</td>\n      <td>NaN</td>\n      <td>NaN</td>\n      <td>NaN</td>\n      <td>NaN</td>\n      <td>1853-04-07</td>\n      <td>1854-03-12</td>\n      <td>Schwyz (SZ)</td>\n      <td>1806-06-30</td>\n      <td>1865-12-28</td>\n    </tr>\n  </tbody>\n</table>\n</div>"
     },
     "execution_count": 228,
     "metadata": {},
     "output_type": "execute_result"
    }
   ],
   "source": [
    "df_rat[df_rat[\"PartyAbbreviation\"] == \"?\"]"
   ],
   "metadata": {
    "collapsed": false,
    "pycharm": {
     "name": "#%%\n"
    }
   }
  },
  {
   "cell_type": "code",
   "execution_count": 229,
   "outputs": [],
   "source": [
    "# Change values in ParlGroupName == Unbekannt or Fraktionslos zu np.nan\n",
    "df_rat[\"ParlGroupName\"].replace([\"Unbekannt\", \"Fraktionslos\"], np.nan, inplace=True)\n",
    "df_rat[\"ParlGroupAbbreviation\"].replace([\"?\", \"-\"], np.nan, inplace=True)"
   ],
   "metadata": {
    "collapsed": false,
    "pycharm": {
     "name": "#%%\n"
    }
   }
  },
  {
   "cell_type": "markdown",
   "source": [
    "# 1. Fehlende Werte"
   ],
   "metadata": {
    "collapsed": false,
    "pycharm": {
     "name": "#%% md\n"
    }
   }
  },
  {
   "cell_type": "code",
   "execution_count": 230,
   "outputs": [
    {
     "data": {
      "text/plain": "Active                      0\nFirstName                   0\nLastName                    0\nGenderAsString              0\nCantonName                  2\nCantonAbbreviation          2\nCouncilName                 5\nParlGroupName            1359\nParlGroupAbbreviation    1359\nPartyName                  56\nPartyAbbreviation          58\nMaritalStatusText        5460\nBirthPlace_City          3674\nBirthPlace_Canton        3745\nMandates                 3947\nDateJoining                 0\nDateLeaving               254\nCitizenship                 7\nDateOfBirth                 0\nDateOfDeath              2038\ndtype: int64"
     },
     "execution_count": 230,
     "metadata": {},
     "output_type": "execute_result"
    }
   ],
   "source": [
    "df_rat.isna().sum()"
   ],
   "metadata": {
    "collapsed": false,
    "pycharm": {
     "name": "#%%\n"
    }
   }
  },
  {
   "cell_type": "code",
   "execution_count": 231,
   "outputs": [
    {
     "data": {
      "text/plain": "Active                   0.000000\nFirstName                0.000000\nLastName                 0.000000\nGenderAsString           0.000000\nCantonName               0.000351\nCantonAbbreviation       0.000351\nCouncilName              0.000878\nParlGroupName            0.238505\nParlGroupAbbreviation    0.238505\nPartyName                0.009828\nPartyAbbreviation        0.010179\nMaritalStatusText        0.958231\nBirthPlace_City          0.644788\nBirthPlace_Canton        0.657248\nMandates                 0.692699\nDateJoining              0.000000\nDateLeaving              0.044577\nCitizenship              0.001229\nDateOfBirth              0.000000\nDateOfDeath              0.357669\ndtype: float64"
     },
     "execution_count": 231,
     "metadata": {},
     "output_type": "execute_result"
    }
   ],
   "source": [
    "df_rat.isna().mean()"
   ],
   "metadata": {
    "collapsed": false,
    "pycharm": {
     "name": "#%%\n"
    }
   }
  },
  {
   "cell_type": "code",
   "execution_count": 232,
   "outputs": [
    {
     "data": {
      "text/plain": "      Active     FirstName LastName GenderAsString CantonName  \\\n2641   False  Jean-Jacques     Hegg              m     Zürich   \n5449   False          Hans  Steffen              m     Zürich   \n\n     CantonAbbreviation  CouncilName  \\\n2641                 ZH  Nationalrat   \n5449                 ZH  Nationalrat   \n\n                                          ParlGroupName ParlGroupAbbreviation  \\\n2641                     Fraktion der Nationalen Aktion                     N   \n5449  Fraktion der Schweizer Demokraten und der Lega...                     D   \n\n             PartyName PartyAbbreviation MaritalStatusText BirthPlace_City  \\\n2641  Nationale Aktion               NaN               NaN             NaN   \n5449  Nationale Aktion               NaN               NaN          Zürich   \n\n     BirthPlace_Canton                       Mandates DateJoining DateLeaving  \\\n2641               NaN                            NaN  1983-11-28  1985-01-02   \n5449            Zürich  Gemeinderat von 1964 bis 1973  1985-04-02  1995-03-12   \n\n                                   Citizenship DateOfBirth DateOfDeath  \n2641                            Dübendorf (ZH)  1930-10-11  2021-03-24  \n5449  Zürich (ZH),Kloten (ZH),Fischenthal (ZH)  1931-09-29         NaT  ",
      "text/html": "<div>\n<style scoped>\n    .dataframe tbody tr th:only-of-type {\n        vertical-align: middle;\n    }\n\n    .dataframe tbody tr th {\n        vertical-align: top;\n    }\n\n    .dataframe thead th {\n        text-align: right;\n    }\n</style>\n<table border=\"1\" class=\"dataframe\">\n  <thead>\n    <tr style=\"text-align: right;\">\n      <th></th>\n      <th>Active</th>\n      <th>FirstName</th>\n      <th>LastName</th>\n      <th>GenderAsString</th>\n      <th>CantonName</th>\n      <th>CantonAbbreviation</th>\n      <th>CouncilName</th>\n      <th>ParlGroupName</th>\n      <th>ParlGroupAbbreviation</th>\n      <th>PartyName</th>\n      <th>PartyAbbreviation</th>\n      <th>MaritalStatusText</th>\n      <th>BirthPlace_City</th>\n      <th>BirthPlace_Canton</th>\n      <th>Mandates</th>\n      <th>DateJoining</th>\n      <th>DateLeaving</th>\n      <th>Citizenship</th>\n      <th>DateOfBirth</th>\n      <th>DateOfDeath</th>\n    </tr>\n  </thead>\n  <tbody>\n    <tr>\n      <th>2641</th>\n      <td>False</td>\n      <td>Jean-Jacques</td>\n      <td>Hegg</td>\n      <td>m</td>\n      <td>Zürich</td>\n      <td>ZH</td>\n      <td>Nationalrat</td>\n      <td>Fraktion der Nationalen Aktion</td>\n      <td>N</td>\n      <td>Nationale Aktion</td>\n      <td>NaN</td>\n      <td>NaN</td>\n      <td>NaN</td>\n      <td>NaN</td>\n      <td>NaN</td>\n      <td>1983-11-28</td>\n      <td>1985-01-02</td>\n      <td>Dübendorf (ZH)</td>\n      <td>1930-10-11</td>\n      <td>2021-03-24</td>\n    </tr>\n    <tr>\n      <th>5449</th>\n      <td>False</td>\n      <td>Hans</td>\n      <td>Steffen</td>\n      <td>m</td>\n      <td>Zürich</td>\n      <td>ZH</td>\n      <td>Nationalrat</td>\n      <td>Fraktion der Schweizer Demokraten und der Lega...</td>\n      <td>D</td>\n      <td>Nationale Aktion</td>\n      <td>NaN</td>\n      <td>NaN</td>\n      <td>Zürich</td>\n      <td>Zürich</td>\n      <td>Gemeinderat von 1964 bis 1973</td>\n      <td>1985-04-02</td>\n      <td>1995-03-12</td>\n      <td>Zürich (ZH),Kloten (ZH),Fischenthal (ZH)</td>\n      <td>1931-09-29</td>\n      <td>NaT</td>\n    </tr>\n  </tbody>\n</table>\n</div>"
     },
     "execution_count": 232,
     "metadata": {},
     "output_type": "execute_result"
    }
   ],
   "source": [
    "# show all rows where PartyAbbreviation is nan and PartyName is not nan\n",
    "df_rat[df_rat[\"PartyAbbreviation\"].isna() & ~df_rat[\"PartyName\"].isna()]"
   ],
   "metadata": {
    "collapsed": false,
    "pycharm": {
     "name": "#%%\n"
    }
   }
  },
  {
   "cell_type": "code",
   "execution_count": 233,
   "outputs": [],
   "source": [
    "# In column PartyAbbreviation insert new category \"NA\"\n",
    "df_rat[\"PartyAbbreviation\"] = df_rat[\"PartyAbbreviation\"].cat.add_categories(\"NA\")"
   ],
   "metadata": {
    "collapsed": false,
    "pycharm": {
     "name": "#%%\n"
    }
   }
  },
  {
   "cell_type": "code",
   "execution_count": 234,
   "outputs": [],
   "source": [
    "# Show all rows where PartyName == Nationale Aktion\n",
    "df_rat[\"PartyAbbreviation\"][2641] = \"NA\"\n",
    "df_rat[\"PartyAbbreviation\"][5449] = \"NA\""
   ],
   "metadata": {
    "collapsed": false,
    "pycharm": {
     "name": "#%%\n"
    }
   }
  },
  {
   "cell_type": "markdown",
   "source": [
    "# 7. Personen die Aktiv sind jedoch Austritt oder umgekehrt"
   ],
   "metadata": {
    "collapsed": false,
    "pycharm": {
     "name": "#%% md\n"
    }
   }
  },
  {
   "cell_type": "code",
   "execution_count": 235,
   "outputs": [
    {
     "data": {
      "text/plain": "(3, 20)"
     },
     "execution_count": 235,
     "metadata": {},
     "output_type": "execute_result"
    }
   ],
   "source": [
    "# Check if DateLeaving is nan and Active is False\n",
    "df_rat[df_rat[\"DateLeaving\"].isna() & ~df_rat[\"Active\"].values].shape"
   ],
   "metadata": {
    "collapsed": false,
    "pycharm": {
     "name": "#%%\n"
    }
   }
  },
  {
   "cell_type": "code",
   "execution_count": 236,
   "outputs": [
    {
     "data": {
      "text/plain": "(22, 20)"
     },
     "execution_count": 236,
     "metadata": {},
     "output_type": "execute_result"
    }
   ],
   "source": [
    "# Check if DateLeaving is not nan and Active is True$\n",
    "df_rat[~df_rat[\"DateLeaving\"].isna() & df_rat[\"Active\"].values].shape"
   ],
   "metadata": {
    "collapsed": false,
    "pycharm": {
     "name": "#%%\n"
    }
   }
  },
  {
   "cell_type": "markdown",
   "source": [
    "# 4. Grösse der Stände"
   ],
   "metadata": {
    "collapsed": false,
    "pycharm": {
     "name": "#%% md\n"
    }
   }
  },
  {
   "cell_type": "code",
   "execution_count": 237,
   "outputs": [],
   "source": [
    "df_aktiv = df_rat[[\"Active\", \"FirstName\", \"LastName\", \"CouncilName\"]]"
   ],
   "metadata": {
    "collapsed": false,
    "pycharm": {
     "name": "#%%\n"
    }
   }
  },
  {
   "cell_type": "code",
   "execution_count": 238,
   "outputs": [],
   "source": [
    "df_aktiv = df_aktiv[df_aktiv[\"Active\"] == True]"
   ],
   "metadata": {
    "collapsed": false,
    "pycharm": {
     "name": "#%%\n"
    }
   }
  },
  {
   "cell_type": "code",
   "execution_count": 239,
   "outputs": [],
   "source": [
    "# check in df_aktiv if there are duplicated rows in columns \"FirstName\", \"LastName\"\n",
    "df_aktiv_unique = df_aktiv.drop_duplicates(subset=[\"FirstName\", \"LastName\", \"CouncilName\"])"
   ],
   "metadata": {
    "collapsed": false,
    "pycharm": {
     "name": "#%%\n"
    }
   }
  },
  {
   "cell_type": "code",
   "execution_count": 240,
   "outputs": [
    {
     "data": {
      "text/plain": "253"
     },
     "execution_count": 240,
     "metadata": {},
     "output_type": "execute_result"
    }
   ],
   "source": [
    "len(df_aktiv_unique)"
   ],
   "metadata": {
    "collapsed": false,
    "pycharm": {
     "name": "#%%\n"
    }
   }
  },
  {
   "cell_type": "code",
   "execution_count": 241,
   "outputs": [
    {
     "data": {
      "text/plain": "      Active FirstName   LastName CouncilName\n5692    True    Walter  Thurnherr         NaN",
      "text/html": "<div>\n<style scoped>\n    .dataframe tbody tr th:only-of-type {\n        vertical-align: middle;\n    }\n\n    .dataframe tbody tr th {\n        vertical-align: top;\n    }\n\n    .dataframe thead th {\n        text-align: right;\n    }\n</style>\n<table border=\"1\" class=\"dataframe\">\n  <thead>\n    <tr style=\"text-align: right;\">\n      <th></th>\n      <th>Active</th>\n      <th>FirstName</th>\n      <th>LastName</th>\n      <th>CouncilName</th>\n    </tr>\n  </thead>\n  <tbody>\n    <tr>\n      <th>5692</th>\n      <td>True</td>\n      <td>Walter</td>\n      <td>Thurnherr</td>\n      <td>NaN</td>\n    </tr>\n  </tbody>\n</table>\n</div>"
     },
     "execution_count": 241,
     "metadata": {},
     "output_type": "execute_result"
    }
   ],
   "source": [
    "df_aktiv_unique[df_aktiv_unique[\"CouncilName\"].isna()]"
   ],
   "metadata": {
    "collapsed": false,
    "pycharm": {
     "name": "#%%\n"
    }
   }
  },
  {
   "cell_type": "code",
   "execution_count": 242,
   "outputs": [
    {
     "data": {
      "text/plain": "Active         0\nFirstName      0\nLastName       0\nCouncilName    1\ndtype: int64"
     },
     "execution_count": 242,
     "metadata": {},
     "output_type": "execute_result"
    }
   ],
   "source": [
    "df_aktiv_unique.isna().sum()"
   ],
   "metadata": {
    "collapsed": false,
    "pycharm": {
     "name": "#%%\n"
    }
   }
  },
  {
   "cell_type": "code",
   "execution_count": 243,
   "outputs": [],
   "source": [
    "# group by CouncilName and count the number of rows\n",
    "df_rat_council = df_aktiv_unique.groupby(\"CouncilName\").count()"
   ],
   "metadata": {
    "collapsed": false,
    "pycharm": {
     "name": "#%%\n"
    }
   }
  },
  {
   "cell_type": "code",
   "execution_count": 244,
   "outputs": [
    {
     "data": {
      "text/plain": "             Active  FirstName  LastName\nCouncilName                             \nBundesrat         7          7         7\nNationalrat     200        200       200\nStänderat        45         45        45",
      "text/html": "<div>\n<style scoped>\n    .dataframe tbody tr th:only-of-type {\n        vertical-align: middle;\n    }\n\n    .dataframe tbody tr th {\n        vertical-align: top;\n    }\n\n    .dataframe thead th {\n        text-align: right;\n    }\n</style>\n<table border=\"1\" class=\"dataframe\">\n  <thead>\n    <tr style=\"text-align: right;\">\n      <th></th>\n      <th>Active</th>\n      <th>FirstName</th>\n      <th>LastName</th>\n    </tr>\n    <tr>\n      <th>CouncilName</th>\n      <th></th>\n      <th></th>\n      <th></th>\n    </tr>\n  </thead>\n  <tbody>\n    <tr>\n      <th>Bundesrat</th>\n      <td>7</td>\n      <td>7</td>\n      <td>7</td>\n    </tr>\n    <tr>\n      <th>Nationalrat</th>\n      <td>200</td>\n      <td>200</td>\n      <td>200</td>\n    </tr>\n    <tr>\n      <th>Ständerat</th>\n      <td>45</td>\n      <td>45</td>\n      <td>45</td>\n    </tr>\n  </tbody>\n</table>\n</div>"
     },
     "execution_count": 244,
     "metadata": {},
     "output_type": "execute_result"
    }
   ],
   "source": [
    "df_rat_council"
   ],
   "metadata": {
    "collapsed": false,
    "pycharm": {
     "name": "#%%\n"
    }
   }
  },
  {
   "cell_type": "markdown",
   "source": [
    "# 2.2 Fragestellungen"
   ],
   "metadata": {
    "collapsed": false,
    "pycharm": {
     "name": "#%% md\n"
    }
   }
  },
  {
   "cell_type": "markdown",
   "source": [
    "## Wer war wann bis wann in welchem Rat?"
   ],
   "metadata": {
    "collapsed": false,
    "pycharm": {
     "name": "#%% md\n"
    }
   }
  },
  {
   "cell_type": "code",
   "execution_count": 245,
   "outputs": [
    {
     "name": "stdout",
     "output_type": "stream",
     "text": [
      "CouncilName              Bundesrat_x Nationalrat_x Ständerat_x Bundesrat_y  \\\n",
      "FirstName      LastName                                                      \n",
      "A. Domenico    Galli             NaT           NaT  1851-07-07         NaT   \n",
      "A. Eduard      Fehr              NaT    1920-02-02         NaT         NaT   \n",
      "A. Frédéric E. Soguel            NaT    1902-01-12  1875-07-06         NaT   \n",
      "A. Giovanni    Jauch             NaT    1848-06-11  1874-05-28         NaT   \n",
      "A. Otto        Aepli             NaT           NaT  1919-01-27         NaT   \n",
      "...                              ...           ...         ...         ...   \n",
      "Yvette         Estermann         NaT    2007-03-12         NaT         NaT   \n",
      "Yvonne         Feri              NaT    2011-05-12         NaT         NaT   \n",
      "               Gilli             NaT    2007-03-12         NaT         NaT   \n",
      "Zacharias      Gysel             NaT           NaT  1848-06-11         NaT   \n",
      "Zélim          Perret            NaT    1869-06-12         NaT         NaT   \n",
      "\n",
      "CouncilName              Nationalrat_y Ständerat_y  \n",
      "FirstName      LastName                             \n",
      "A. Domenico    Galli               NaT  1851-01-10  \n",
      "A. Eduard      Fehr         1922-03-12         NaT  \n",
      "A. Frédéric E. Soguel       1903-11-21  1876-01-07  \n",
      "A. Giovanni    Jauch        1873-01-03  1875-01-03  \n",
      "A. Otto        Aepli               NaT  1921-04-11  \n",
      "...                                ...         ...  \n",
      "Yvette         Estermann    2019-01-12         NaT  \n",
      "Yvonne         Feri         2019-01-12         NaT  \n",
      "               Gilli        2015-11-29         NaT  \n",
      "Zacharias      Gysel               NaT  1857-01-07  \n",
      "Zélim          Perret       1875-05-12         NaT  \n",
      "\n",
      "[3508 rows x 6 columns]\n"
     ]
    }
   ],
   "source": [
    "df_rat_pivot_council_joining = df_rat.pivot_table(index=[\"FirstName\", \"LastName\"], columns=\"CouncilName\", values=\"DateJoining\", aggfunc=min)\n",
    "df_rat_pivot_council_leaving = df_rat.pivot_table(index=[\"FirstName\", \"LastName\"], columns=\"CouncilName\", values=\"DateLeaving\", aggfunc=max)\n",
    "# merge the two pivot tables\n",
    "df_rat_pivot_council = pd.merge(df_rat_pivot_council_joining, df_rat_pivot_council_leaving, left_index=True, right_index=True)\n",
    "print(df_rat_pivot_council)"
   ],
   "metadata": {
    "collapsed": false,
    "pycharm": {
     "name": "#%%\n"
    }
   }
  },
  {
   "cell_type": "code",
   "execution_count": 246,
   "outputs": [],
   "source": [
    "# subset with columns \"FirstName\", \"LastName\", \"CouncilName\"\n",
    "df_rat_council = df_rat[[\"Active\", \"FirstName\", \"LastName\", \"CouncilName\"]]"
   ],
   "metadata": {
    "collapsed": false,
    "pycharm": {
     "name": "#%%\n"
    }
   }
  },
  {
   "cell_type": "code",
   "execution_count": 247,
   "outputs": [],
   "source": [
    "df_rat_council = df_rat_council[df_rat_council[\"Active\"] == False]"
   ],
   "metadata": {
    "collapsed": false,
    "pycharm": {
     "name": "#%%\n"
    }
   }
  },
  {
   "cell_type": "code",
   "execution_count": 248,
   "outputs": [],
   "source": [
    "# group by CouncilName and count the number of rows\n",
    "df_rat_council = df_rat_council.groupby(\"CouncilName\").count()"
   ],
   "metadata": {
    "collapsed": false,
    "pycharm": {
     "name": "#%%\n"
    }
   }
  },
  {
   "cell_type": "code",
   "execution_count": 249,
   "outputs": [
    {
     "data": {
      "text/plain": "             Active  FirstName  LastName\nCouncilName                             \nBundesrat       327        327       327\nNationalrat    3970       3970      3970\nStänderat      1124       1124      1124",
      "text/html": "<div>\n<style scoped>\n    .dataframe tbody tr th:only-of-type {\n        vertical-align: middle;\n    }\n\n    .dataframe tbody tr th {\n        vertical-align: top;\n    }\n\n    .dataframe thead th {\n        text-align: right;\n    }\n</style>\n<table border=\"1\" class=\"dataframe\">\n  <thead>\n    <tr style=\"text-align: right;\">\n      <th></th>\n      <th>Active</th>\n      <th>FirstName</th>\n      <th>LastName</th>\n    </tr>\n    <tr>\n      <th>CouncilName</th>\n      <th></th>\n      <th></th>\n      <th></th>\n    </tr>\n  </thead>\n  <tbody>\n    <tr>\n      <th>Bundesrat</th>\n      <td>327</td>\n      <td>327</td>\n      <td>327</td>\n    </tr>\n    <tr>\n      <th>Nationalrat</th>\n      <td>3970</td>\n      <td>3970</td>\n      <td>3970</td>\n    </tr>\n    <tr>\n      <th>Ständerat</th>\n      <td>1124</td>\n      <td>1124</td>\n      <td>1124</td>\n    </tr>\n  </tbody>\n</table>\n</div>"
     },
     "execution_count": 249,
     "metadata": {},
     "output_type": "execute_result"
    }
   ],
   "source": [
    "df_rat_council"
   ],
   "metadata": {
    "collapsed": false,
    "pycharm": {
     "name": "#%%\n"
    }
   }
  },
  {
   "cell_type": "code",
   "execution_count": 250,
   "outputs": [],
   "source": [
    "# new dataframe with columns \"FirstName\", \"LastName\", \"Nationalrat\"[\"DateJoining\", \"DateLeaving\"], \"Ständerat\"[\"DateJoining\", \"DateLeaving\"], \"Bundesrat\"[\"DateJoining\", \"DateLeaving\"]\n",
    "df_rat_name_join = df_rat[[\"FirstName\", \"LastName\", \"CouncilName\", \"DateJoining\", \"DateLeaving\"]]"
   ],
   "metadata": {
    "collapsed": false,
    "pycharm": {
     "name": "#%%\n"
    }
   }
  },
  {
   "cell_type": "code",
   "execution_count": 251,
   "outputs": [],
   "source": [
    "# three new data frames\n",
    "df_rat_bundesrat = df_rat_name_join[df_rat_name_join[\"CouncilName\"] == \"Bundesrat\"]\n",
    "df_rat_staederrat = df_rat_name_join[df_rat_name_join[\"CouncilName\"] == \"Ständerat\"]\n",
    "df_rat_nationalrat = df_rat_name_join[df_rat_name_join[\"CouncilName\"] == \"Nationalrat\"]"
   ],
   "metadata": {
    "collapsed": false,
    "pycharm": {
     "name": "#%%\n"
    }
   }
  },
  {
   "cell_type": "code",
   "execution_count": 252,
   "outputs": [
    {
     "data": {
      "text/plain": "          FirstName         LastName CouncilName DateJoining DateLeaving\n23          Gustave             Ador   Bundesrat  1917-06-26  1919-12-31\n28          Gustave             Ador   Bundesrat  1919-01-01  1919-12-31\n122           Viola           Amherd   Bundesrat  2019-01-01         NaT\n158   Jos. Fridolin        Anderwert   Bundesrat  1875-10-12  1880-12-25\n196          Pierre           Aubert   Bundesrat  1983-01-01  1983-12-31\n...             ...              ...         ...         ...         ...\n6204        Eveline  Widmer-Schlumpf   Bundesrat  2012-01-01  2012-12-31\n6205        Eveline  Widmer-Schlumpf   Bundesrat  2013-01-01  2015-12-31\n6335         Joseph             Zemp   Bundesrat  1902-01-01  1902-12-31\n6336         Joseph             Zemp   Bundesrat  1891-12-17  1908-06-17\n6338         Joseph             Zemp   Bundesrat  1895-01-01  1895-12-31\n\n[354 rows x 5 columns]",
      "text/html": "<div>\n<style scoped>\n    .dataframe tbody tr th:only-of-type {\n        vertical-align: middle;\n    }\n\n    .dataframe tbody tr th {\n        vertical-align: top;\n    }\n\n    .dataframe thead th {\n        text-align: right;\n    }\n</style>\n<table border=\"1\" class=\"dataframe\">\n  <thead>\n    <tr style=\"text-align: right;\">\n      <th></th>\n      <th>FirstName</th>\n      <th>LastName</th>\n      <th>CouncilName</th>\n      <th>DateJoining</th>\n      <th>DateLeaving</th>\n    </tr>\n  </thead>\n  <tbody>\n    <tr>\n      <th>23</th>\n      <td>Gustave</td>\n      <td>Ador</td>\n      <td>Bundesrat</td>\n      <td>1917-06-26</td>\n      <td>1919-12-31</td>\n    </tr>\n    <tr>\n      <th>28</th>\n      <td>Gustave</td>\n      <td>Ador</td>\n      <td>Bundesrat</td>\n      <td>1919-01-01</td>\n      <td>1919-12-31</td>\n    </tr>\n    <tr>\n      <th>122</th>\n      <td>Viola</td>\n      <td>Amherd</td>\n      <td>Bundesrat</td>\n      <td>2019-01-01</td>\n      <td>NaT</td>\n    </tr>\n    <tr>\n      <th>158</th>\n      <td>Jos. Fridolin</td>\n      <td>Anderwert</td>\n      <td>Bundesrat</td>\n      <td>1875-10-12</td>\n      <td>1880-12-25</td>\n    </tr>\n    <tr>\n      <th>196</th>\n      <td>Pierre</td>\n      <td>Aubert</td>\n      <td>Bundesrat</td>\n      <td>1983-01-01</td>\n      <td>1983-12-31</td>\n    </tr>\n    <tr>\n      <th>...</th>\n      <td>...</td>\n      <td>...</td>\n      <td>...</td>\n      <td>...</td>\n      <td>...</td>\n    </tr>\n    <tr>\n      <th>6204</th>\n      <td>Eveline</td>\n      <td>Widmer-Schlumpf</td>\n      <td>Bundesrat</td>\n      <td>2012-01-01</td>\n      <td>2012-12-31</td>\n    </tr>\n    <tr>\n      <th>6205</th>\n      <td>Eveline</td>\n      <td>Widmer-Schlumpf</td>\n      <td>Bundesrat</td>\n      <td>2013-01-01</td>\n      <td>2015-12-31</td>\n    </tr>\n    <tr>\n      <th>6335</th>\n      <td>Joseph</td>\n      <td>Zemp</td>\n      <td>Bundesrat</td>\n      <td>1902-01-01</td>\n      <td>1902-12-31</td>\n    </tr>\n    <tr>\n      <th>6336</th>\n      <td>Joseph</td>\n      <td>Zemp</td>\n      <td>Bundesrat</td>\n      <td>1891-12-17</td>\n      <td>1908-06-17</td>\n    </tr>\n    <tr>\n      <th>6338</th>\n      <td>Joseph</td>\n      <td>Zemp</td>\n      <td>Bundesrat</td>\n      <td>1895-01-01</td>\n      <td>1895-12-31</td>\n    </tr>\n  </tbody>\n</table>\n<p>354 rows × 5 columns</p>\n</div>"
     },
     "execution_count": 252,
     "metadata": {},
     "output_type": "execute_result"
    }
   ],
   "source": [
    "df_rat_bundesrat"
   ],
   "metadata": {
    "collapsed": false,
    "pycharm": {
     "name": "#%%\n"
    }
   }
  },
  {
   "cell_type": "code",
   "execution_count": 253,
   "outputs": [
    {
     "name": "stderr",
     "output_type": "stream",
     "text": [
      "/Users/janisfrolich/opt/anaconda3/lib/python3.9/site-packages/pandas/core/frame.py:5039: SettingWithCopyWarning: \n",
      "A value is trying to be set on a copy of a slice from a DataFrame\n",
      "\n",
      "See the caveats in the documentation: https://pandas.pydata.org/pandas-docs/stable/user_guide/indexing.html#returning-a-view-versus-a-copy\n",
      "  return super().rename(\n"
     ]
    }
   ],
   "source": [
    "df_rat_bundesrat.rename(columns={\"DateJoining\": \"B_DateJoining\", \"DateLeaving\": \"B_DateLeaving\"}, inplace=True)\n",
    "df_rat_nationalrat.rename(columns={\"DateJoining\": \"N_DateJoining\", \"DateLeaving\": \"N_DateLeaving\"}, inplace=True)\n",
    "df_rat_staederrat.rename(columns={\"DateJoining\": \"S_DateJoining\", \"DateLeaving\": \"S_DateLeaving\"}, inplace=True)"
   ],
   "metadata": {
    "collapsed": false,
    "pycharm": {
     "name": "#%%\n"
    }
   }
  },
  {
   "cell_type": "code",
   "execution_count": 254,
   "outputs": [],
   "source": [
    "df_rat_bundesrat = df_rat_bundesrat.groupby([\"LastName\", \"FirstName\"], as_index=False).agg({\"B_DateJoining\": \"min\", \"B_DateLeaving\": \"max\"})\n",
    "df_rat_nationalrat = df_rat_nationalrat.groupby([\"LastName\", \"FirstName\"], as_index=False).agg({\"N_DateJoining\": \"min\", \"N_DateLeaving\": \"max\"})\n",
    "df_rat_staederrat = df_rat_staederrat.groupby([\"LastName\", \"FirstName\"], as_index=False).agg({\"S_DateJoining\": \"min\", \"S_DateLeaving\": \"max\"})"
   ],
   "metadata": {
    "collapsed": false,
    "pycharm": {
     "name": "#%%\n"
    }
   }
  },
  {
   "cell_type": "code",
   "execution_count": 255,
   "outputs": [
    {
     "data": {
      "text/plain": "            LastName      FirstName B_DateJoining B_DateLeaving\n0               Ador        Gustave    1917-06-26    1919-12-31\n1             Amherd          Viola    2019-01-01           NaT\n2          Anderwert  Jos. Fridolin    1875-10-12    1880-12-25\n3             Aubert         Pierre    1977-07-12    1987-12-31\n4            Baumann       Johannes    1934-03-22    1940-12-31\n..               ...            ...           ...           ...\n114           Wetter          Ernst    1938-12-15    1943-12-31\n115  Widmer-Schlumpf        Eveline    2008-01-01    2015-12-31\n116             Zemp         Joseph    1891-12-17    1908-06-17\n117         von Moos         Ludwig    1959-12-17    1971-12-31\n118      von Steiger         Eduard    1940-10-12    1951-12-31\n\n[119 rows x 4 columns]",
      "text/html": "<div>\n<style scoped>\n    .dataframe tbody tr th:only-of-type {\n        vertical-align: middle;\n    }\n\n    .dataframe tbody tr th {\n        vertical-align: top;\n    }\n\n    .dataframe thead th {\n        text-align: right;\n    }\n</style>\n<table border=\"1\" class=\"dataframe\">\n  <thead>\n    <tr style=\"text-align: right;\">\n      <th></th>\n      <th>LastName</th>\n      <th>FirstName</th>\n      <th>B_DateJoining</th>\n      <th>B_DateLeaving</th>\n    </tr>\n  </thead>\n  <tbody>\n    <tr>\n      <th>0</th>\n      <td>Ador</td>\n      <td>Gustave</td>\n      <td>1917-06-26</td>\n      <td>1919-12-31</td>\n    </tr>\n    <tr>\n      <th>1</th>\n      <td>Amherd</td>\n      <td>Viola</td>\n      <td>2019-01-01</td>\n      <td>NaT</td>\n    </tr>\n    <tr>\n      <th>2</th>\n      <td>Anderwert</td>\n      <td>Jos. Fridolin</td>\n      <td>1875-10-12</td>\n      <td>1880-12-25</td>\n    </tr>\n    <tr>\n      <th>3</th>\n      <td>Aubert</td>\n      <td>Pierre</td>\n      <td>1977-07-12</td>\n      <td>1987-12-31</td>\n    </tr>\n    <tr>\n      <th>4</th>\n      <td>Baumann</td>\n      <td>Johannes</td>\n      <td>1934-03-22</td>\n      <td>1940-12-31</td>\n    </tr>\n    <tr>\n      <th>...</th>\n      <td>...</td>\n      <td>...</td>\n      <td>...</td>\n      <td>...</td>\n    </tr>\n    <tr>\n      <th>114</th>\n      <td>Wetter</td>\n      <td>Ernst</td>\n      <td>1938-12-15</td>\n      <td>1943-12-31</td>\n    </tr>\n    <tr>\n      <th>115</th>\n      <td>Widmer-Schlumpf</td>\n      <td>Eveline</td>\n      <td>2008-01-01</td>\n      <td>2015-12-31</td>\n    </tr>\n    <tr>\n      <th>116</th>\n      <td>Zemp</td>\n      <td>Joseph</td>\n      <td>1891-12-17</td>\n      <td>1908-06-17</td>\n    </tr>\n    <tr>\n      <th>117</th>\n      <td>von Moos</td>\n      <td>Ludwig</td>\n      <td>1959-12-17</td>\n      <td>1971-12-31</td>\n    </tr>\n    <tr>\n      <th>118</th>\n      <td>von Steiger</td>\n      <td>Eduard</td>\n      <td>1940-10-12</td>\n      <td>1951-12-31</td>\n    </tr>\n  </tbody>\n</table>\n<p>119 rows × 4 columns</p>\n</div>"
     },
     "execution_count": 255,
     "metadata": {},
     "output_type": "execute_result"
    }
   ],
   "source": [
    "df_rat_bundesrat"
   ],
   "metadata": {
    "collapsed": false,
    "pycharm": {
     "name": "#%%\n"
    }
   }
  },
  {
   "cell_type": "code",
   "execution_count": 256,
   "outputs": [],
   "source": [
    "# merge all data frames by \"LastName\" and \"FirstName\"\n",
    "df_rat_merge = pd.merge(df_rat_bundesrat, df_rat_nationalrat, on=[\"LastName\", \"FirstName\"], how=\"outer\")"
   ],
   "metadata": {
    "collapsed": false,
    "pycharm": {
     "name": "#%%\n"
    }
   }
  },
  {
   "cell_type": "code",
   "execution_count": 257,
   "outputs": [],
   "source": [
    "df_rat_merge = pd.merge(df_rat_merge, df_rat_staederrat, on=[\"LastName\", \"FirstName\"], how=\"outer\")"
   ],
   "metadata": {
    "collapsed": false,
    "pycharm": {
     "name": "#%%\n"
    }
   }
  },
  {
   "cell_type": "code",
   "execution_count": 258,
   "outputs": [
    {
     "data": {
      "text/plain": "            LastName        FirstName B_DateJoining B_DateLeaving  \\\n0               Ador          Gustave    1917-06-26    1919-12-31   \n1             Amherd            Viola    2019-01-01           NaT   \n2          Anderwert    Jos. Fridolin    1875-10-12    1880-12-25   \n3             Aubert           Pierre    1977-07-12    1987-12-31   \n4            Baumann         Johannes    1934-03-22    1940-12-31   \n...              ...              ...           ...           ...   \n3585     von Schorno             Karl           NaT           NaT   \n3586  von Schumacher           Edmund           NaT           NaT   \n3587     von Steiger      Adolf A. A.           NaT           NaT   \n3588     von Tschudi  Nikl. Friedrich           NaT           NaT   \n3589     von Ziegler             Hans           NaT           NaT   \n\n     N_DateJoining N_DateLeaving S_DateJoining S_DateLeaving  \n0       1889-03-25    1917-01-06    1878-02-12    1880-01-09  \n1       2005-05-31    2018-12-31           NaT           NaT  \n2       1863-07-12    1874-01-10           NaT           NaT  \n3              NaT           NaT    1971-11-29    1977-07-12  \n4              NaT           NaT    1911-04-12    1934-03-22  \n...            ...           ...           ...           ...  \n3585           NaT           NaT    1848-06-11    1852-01-11  \n3586           NaT           NaT    1895-02-12    1908-08-30  \n3587           NaT           NaT    1908-09-28    1918-01-06  \n3588           NaT           NaT    1877-03-12    1885-01-11  \n3589           NaT           NaT    1859-04-07    1865-01-06  \n\n[3590 rows x 8 columns]",
      "text/html": "<div>\n<style scoped>\n    .dataframe tbody tr th:only-of-type {\n        vertical-align: middle;\n    }\n\n    .dataframe tbody tr th {\n        vertical-align: top;\n    }\n\n    .dataframe thead th {\n        text-align: right;\n    }\n</style>\n<table border=\"1\" class=\"dataframe\">\n  <thead>\n    <tr style=\"text-align: right;\">\n      <th></th>\n      <th>LastName</th>\n      <th>FirstName</th>\n      <th>B_DateJoining</th>\n      <th>B_DateLeaving</th>\n      <th>N_DateJoining</th>\n      <th>N_DateLeaving</th>\n      <th>S_DateJoining</th>\n      <th>S_DateLeaving</th>\n    </tr>\n  </thead>\n  <tbody>\n    <tr>\n      <th>0</th>\n      <td>Ador</td>\n      <td>Gustave</td>\n      <td>1917-06-26</td>\n      <td>1919-12-31</td>\n      <td>1889-03-25</td>\n      <td>1917-01-06</td>\n      <td>1878-02-12</td>\n      <td>1880-01-09</td>\n    </tr>\n    <tr>\n      <th>1</th>\n      <td>Amherd</td>\n      <td>Viola</td>\n      <td>2019-01-01</td>\n      <td>NaT</td>\n      <td>2005-05-31</td>\n      <td>2018-12-31</td>\n      <td>NaT</td>\n      <td>NaT</td>\n    </tr>\n    <tr>\n      <th>2</th>\n      <td>Anderwert</td>\n      <td>Jos. Fridolin</td>\n      <td>1875-10-12</td>\n      <td>1880-12-25</td>\n      <td>1863-07-12</td>\n      <td>1874-01-10</td>\n      <td>NaT</td>\n      <td>NaT</td>\n    </tr>\n    <tr>\n      <th>3</th>\n      <td>Aubert</td>\n      <td>Pierre</td>\n      <td>1977-07-12</td>\n      <td>1987-12-31</td>\n      <td>NaT</td>\n      <td>NaT</td>\n      <td>1971-11-29</td>\n      <td>1977-07-12</td>\n    </tr>\n    <tr>\n      <th>4</th>\n      <td>Baumann</td>\n      <td>Johannes</td>\n      <td>1934-03-22</td>\n      <td>1940-12-31</td>\n      <td>NaT</td>\n      <td>NaT</td>\n      <td>1911-04-12</td>\n      <td>1934-03-22</td>\n    </tr>\n    <tr>\n      <th>...</th>\n      <td>...</td>\n      <td>...</td>\n      <td>...</td>\n      <td>...</td>\n      <td>...</td>\n      <td>...</td>\n      <td>...</td>\n      <td>...</td>\n    </tr>\n    <tr>\n      <th>3585</th>\n      <td>von Schorno</td>\n      <td>Karl</td>\n      <td>NaT</td>\n      <td>NaT</td>\n      <td>NaT</td>\n      <td>NaT</td>\n      <td>1848-06-11</td>\n      <td>1852-01-11</td>\n    </tr>\n    <tr>\n      <th>3586</th>\n      <td>von Schumacher</td>\n      <td>Edmund</td>\n      <td>NaT</td>\n      <td>NaT</td>\n      <td>NaT</td>\n      <td>NaT</td>\n      <td>1895-02-12</td>\n      <td>1908-08-30</td>\n    </tr>\n    <tr>\n      <th>3587</th>\n      <td>von Steiger</td>\n      <td>Adolf A. A.</td>\n      <td>NaT</td>\n      <td>NaT</td>\n      <td>NaT</td>\n      <td>NaT</td>\n      <td>1908-09-28</td>\n      <td>1918-01-06</td>\n    </tr>\n    <tr>\n      <th>3588</th>\n      <td>von Tschudi</td>\n      <td>Nikl. Friedrich</td>\n      <td>NaT</td>\n      <td>NaT</td>\n      <td>NaT</td>\n      <td>NaT</td>\n      <td>1877-03-12</td>\n      <td>1885-01-11</td>\n    </tr>\n    <tr>\n      <th>3589</th>\n      <td>von Ziegler</td>\n      <td>Hans</td>\n      <td>NaT</td>\n      <td>NaT</td>\n      <td>NaT</td>\n      <td>NaT</td>\n      <td>1859-04-07</td>\n      <td>1865-01-06</td>\n    </tr>\n  </tbody>\n</table>\n<p>3590 rows × 8 columns</p>\n</div>"
     },
     "execution_count": 258,
     "metadata": {},
     "output_type": "execute_result"
    }
   ],
   "source": [
    "df_rat_merge"
   ],
   "metadata": {
    "collapsed": false,
    "pycharm": {
     "name": "#%%\n"
    }
   }
  },
  {
   "cell_type": "markdown",
   "source": [
    "# Anzahl der Dienstjahre ohne Unterbrechungen"
   ],
   "metadata": {
    "collapsed": false,
    "pycharm": {
     "name": "#%% md\n"
    }
   }
  },
  {
   "cell_type": "code",
   "execution_count": 259,
   "outputs": [],
   "source": [
    "# calculate the number of years without interruption between the dates \"DateJoining\" and \"DateLeaving\"\n",
    "df_rat_bundesrat[\"Years\"] = (df_rat_bundesrat[\"B_DateLeaving\"] - df_rat_bundesrat[\"B_DateJoining\"]).dt.days / 365\n",
    "df_rat_nationalrat[\"Years\"] = (df_rat_nationalrat[\"N_DateLeaving\"] - df_rat_nationalrat[\"N_DateJoining\"]).dt.days / 365\n",
    "df_rat_staederrat[\"Years\"] = (df_rat_staederrat[\"S_DateLeaving\"] - df_rat_staederrat[\"S_DateJoining\"]).dt.days / 365"
   ],
   "metadata": {
    "collapsed": false,
    "pycharm": {
     "name": "#%%\n"
    }
   }
  },
  {
   "cell_type": "code",
   "execution_count": 260,
   "outputs": [],
   "source": [
    "df_rat_bundesrat_longest = df_rat_bundesrat.groupby([\"LastName\", \"FirstName\"], as_index=False).agg({\"Years\": \"max\"})\n",
    "df_rat_nationalrat_longest = df_rat_nationalrat.groupby([\"LastName\", \"FirstName\"], as_index=False).agg({\"Years\": \"max\"})\n",
    "df_rat_staederrat_longest = df_rat_staederrat.groupby([\"LastName\", \"FirstName\"], as_index=False).agg({\"Years\": \"max\"})"
   ],
   "metadata": {
    "collapsed": false,
    "pycharm": {
     "name": "#%%\n"
    }
   }
  },
  {
   "cell_type": "code",
   "execution_count": 261,
   "outputs": [
    {
     "data": {
      "text/plain": "            LastName      FirstName      Years\n0               Ador        Gustave   2.515068\n1             Amherd          Viola        NaN\n2          Anderwert  Jos. Fridolin   5.208219\n3             Aubert         Pierre  10.476712\n4            Baumann       Johannes   6.783562\n..               ...            ...        ...\n114           Wetter          Ernst   5.046575\n115  Widmer-Schlumpf        Eveline   8.002740\n116             Zemp         Joseph  16.509589\n117         von Moos         Ludwig  12.046575\n118      von Steiger         Eduard  11.224658\n\n[119 rows x 3 columns]",
      "text/html": "<div>\n<style scoped>\n    .dataframe tbody tr th:only-of-type {\n        vertical-align: middle;\n    }\n\n    .dataframe tbody tr th {\n        vertical-align: top;\n    }\n\n    .dataframe thead th {\n        text-align: right;\n    }\n</style>\n<table border=\"1\" class=\"dataframe\">\n  <thead>\n    <tr style=\"text-align: right;\">\n      <th></th>\n      <th>LastName</th>\n      <th>FirstName</th>\n      <th>Years</th>\n    </tr>\n  </thead>\n  <tbody>\n    <tr>\n      <th>0</th>\n      <td>Ador</td>\n      <td>Gustave</td>\n      <td>2.515068</td>\n    </tr>\n    <tr>\n      <th>1</th>\n      <td>Amherd</td>\n      <td>Viola</td>\n      <td>NaN</td>\n    </tr>\n    <tr>\n      <th>2</th>\n      <td>Anderwert</td>\n      <td>Jos. Fridolin</td>\n      <td>5.208219</td>\n    </tr>\n    <tr>\n      <th>3</th>\n      <td>Aubert</td>\n      <td>Pierre</td>\n      <td>10.476712</td>\n    </tr>\n    <tr>\n      <th>4</th>\n      <td>Baumann</td>\n      <td>Johannes</td>\n      <td>6.783562</td>\n    </tr>\n    <tr>\n      <th>...</th>\n      <td>...</td>\n      <td>...</td>\n      <td>...</td>\n    </tr>\n    <tr>\n      <th>114</th>\n      <td>Wetter</td>\n      <td>Ernst</td>\n      <td>5.046575</td>\n    </tr>\n    <tr>\n      <th>115</th>\n      <td>Widmer-Schlumpf</td>\n      <td>Eveline</td>\n      <td>8.002740</td>\n    </tr>\n    <tr>\n      <th>116</th>\n      <td>Zemp</td>\n      <td>Joseph</td>\n      <td>16.509589</td>\n    </tr>\n    <tr>\n      <th>117</th>\n      <td>von Moos</td>\n      <td>Ludwig</td>\n      <td>12.046575</td>\n    </tr>\n    <tr>\n      <th>118</th>\n      <td>von Steiger</td>\n      <td>Eduard</td>\n      <td>11.224658</td>\n    </tr>\n  </tbody>\n</table>\n<p>119 rows × 3 columns</p>\n</div>"
     },
     "execution_count": 261,
     "metadata": {},
     "output_type": "execute_result"
    }
   ],
   "source": [
    "df_rat_bundesrat_longest"
   ],
   "metadata": {
    "collapsed": false,
    "pycharm": {
     "name": "#%%\n"
    }
   }
  },
  {
   "cell_type": "code",
   "execution_count": 262,
   "outputs": [
    {
     "data": {
      "text/plain": "         LastName        FirstName      Years\n0           Abate            Fabio   7.676712\n1       Ackermann           Walter  27.934247\n2            Ador          Gustave   1.906849\n3            Aeby           Pierre   4.084932\n4           Aepli          A. Otto   2.205479\n..            ...              ...        ...\n894  von Sprecher   Johann Andreas   7.271233\n895   von Steiger      Adolf A. A.   9.279452\n896    von Streng   Johann Baptist   1.569863\n897   von Tschudi  Nikl. Friedrich   7.841096\n898   von Ziegler             Hans   5.756164\n\n[899 rows x 3 columns]",
      "text/html": "<div>\n<style scoped>\n    .dataframe tbody tr th:only-of-type {\n        vertical-align: middle;\n    }\n\n    .dataframe tbody tr th {\n        vertical-align: top;\n    }\n\n    .dataframe thead th {\n        text-align: right;\n    }\n</style>\n<table border=\"1\" class=\"dataframe\">\n  <thead>\n    <tr style=\"text-align: right;\">\n      <th></th>\n      <th>LastName</th>\n      <th>FirstName</th>\n      <th>Years</th>\n    </tr>\n  </thead>\n  <tbody>\n    <tr>\n      <th>0</th>\n      <td>Abate</td>\n      <td>Fabio</td>\n      <td>7.676712</td>\n    </tr>\n    <tr>\n      <th>1</th>\n      <td>Ackermann</td>\n      <td>Walter</td>\n      <td>27.934247</td>\n    </tr>\n    <tr>\n      <th>2</th>\n      <td>Ador</td>\n      <td>Gustave</td>\n      <td>1.906849</td>\n    </tr>\n    <tr>\n      <th>3</th>\n      <td>Aeby</td>\n      <td>Pierre</td>\n      <td>4.084932</td>\n    </tr>\n    <tr>\n      <th>4</th>\n      <td>Aepli</td>\n      <td>A. Otto</td>\n      <td>2.205479</td>\n    </tr>\n    <tr>\n      <th>...</th>\n      <td>...</td>\n      <td>...</td>\n      <td>...</td>\n    </tr>\n    <tr>\n      <th>894</th>\n      <td>von Sprecher</td>\n      <td>Johann Andreas</td>\n      <td>7.271233</td>\n    </tr>\n    <tr>\n      <th>895</th>\n      <td>von Steiger</td>\n      <td>Adolf A. A.</td>\n      <td>9.279452</td>\n    </tr>\n    <tr>\n      <th>896</th>\n      <td>von Streng</td>\n      <td>Johann Baptist</td>\n      <td>1.569863</td>\n    </tr>\n    <tr>\n      <th>897</th>\n      <td>von Tschudi</td>\n      <td>Nikl. Friedrich</td>\n      <td>7.841096</td>\n    </tr>\n    <tr>\n      <th>898</th>\n      <td>von Ziegler</td>\n      <td>Hans</td>\n      <td>5.756164</td>\n    </tr>\n  </tbody>\n</table>\n<p>899 rows × 3 columns</p>\n</div>"
     },
     "execution_count": 262,
     "metadata": {},
     "output_type": "execute_result"
    }
   ],
   "source": [
    "df_rat_staederrat_longest"
   ],
   "metadata": {
    "collapsed": false,
    "pycharm": {
     "name": "#%%\n"
    }
   }
  },
  {
   "cell_type": "code",
   "execution_count": 263,
   "outputs": [
    {
     "data": {
      "text/plain": "           LastName        FirstName      Years\n0          Ab Yberg            Alois   6.841096\n1             Abate            Fabio  10.550685\n2             Abegg           Alfred   8.797260\n3             Abegg     Johann Jakob  24.783562\n4               Abt         H. Roman  23.249315\n...             ...              ...        ...\n2999  von Wattenwyl             Jean   1.331507\n3000      von Weber             Karl  18.167123\n3001      von Werdt  Friedrich K. G.   9.169863\n3002     von der Aa           Albert   3.189041\n3003   von der Weid           Alfred  17.764384\n\n[3004 rows x 3 columns]",
      "text/html": "<div>\n<style scoped>\n    .dataframe tbody tr th:only-of-type {\n        vertical-align: middle;\n    }\n\n    .dataframe tbody tr th {\n        vertical-align: top;\n    }\n\n    .dataframe thead th {\n        text-align: right;\n    }\n</style>\n<table border=\"1\" class=\"dataframe\">\n  <thead>\n    <tr style=\"text-align: right;\">\n      <th></th>\n      <th>LastName</th>\n      <th>FirstName</th>\n      <th>Years</th>\n    </tr>\n  </thead>\n  <tbody>\n    <tr>\n      <th>0</th>\n      <td>Ab Yberg</td>\n      <td>Alois</td>\n      <td>6.841096</td>\n    </tr>\n    <tr>\n      <th>1</th>\n      <td>Abate</td>\n      <td>Fabio</td>\n      <td>10.550685</td>\n    </tr>\n    <tr>\n      <th>2</th>\n      <td>Abegg</td>\n      <td>Alfred</td>\n      <td>8.797260</td>\n    </tr>\n    <tr>\n      <th>3</th>\n      <td>Abegg</td>\n      <td>Johann Jakob</td>\n      <td>24.783562</td>\n    </tr>\n    <tr>\n      <th>4</th>\n      <td>Abt</td>\n      <td>H. Roman</td>\n      <td>23.249315</td>\n    </tr>\n    <tr>\n      <th>...</th>\n      <td>...</td>\n      <td>...</td>\n      <td>...</td>\n    </tr>\n    <tr>\n      <th>2999</th>\n      <td>von Wattenwyl</td>\n      <td>Jean</td>\n      <td>1.331507</td>\n    </tr>\n    <tr>\n      <th>3000</th>\n      <td>von Weber</td>\n      <td>Karl</td>\n      <td>18.167123</td>\n    </tr>\n    <tr>\n      <th>3001</th>\n      <td>von Werdt</td>\n      <td>Friedrich K. G.</td>\n      <td>9.169863</td>\n    </tr>\n    <tr>\n      <th>3002</th>\n      <td>von der Aa</td>\n      <td>Albert</td>\n      <td>3.189041</td>\n    </tr>\n    <tr>\n      <th>3003</th>\n      <td>von der Weid</td>\n      <td>Alfred</td>\n      <td>17.764384</td>\n    </tr>\n  </tbody>\n</table>\n<p>3004 rows × 3 columns</p>\n</div>"
     },
     "execution_count": 263,
     "metadata": {},
     "output_type": "execute_result"
    }
   ],
   "source": [
    "df_rat_nationalrat_longest"
   ],
   "metadata": {
    "collapsed": false,
    "pycharm": {
     "name": "#%%\n"
    }
   }
  },
  {
   "cell_type": "code",
   "execution_count": 264,
   "outputs": [],
   "source": [
    "df_rat_bundesrat_longest = pd.merge(df_rat_bundesrat_longest, df_rat_bundesrat, on=[\"LastName\", \"FirstName\", \"Years\"], how=\"outer\")\n",
    "df_rat_staederrat_longest = pd.merge(df_rat_staederrat_longest, df_rat_staederrat, on=[\"LastName\", \"FirstName\", \"Years\"], how=\"outer\")\n",
    "df_rat_nationalrat_longest = pd.merge(df_rat_nationalrat_longest, df_rat_nationalrat, on=[\"LastName\", \"FirstName\", \"Years\"], how=\"outer\")"
   ],
   "metadata": {
    "collapsed": false,
    "pycharm": {
     "name": "#%%\n"
    }
   }
  },
  {
   "cell_type": "code",
   "execution_count": 265,
   "outputs": [],
   "source": [
    "df_rat_bundesrat_longest.rename(columns={\"Years_y\": \"Years\"}, inplace=True)\n",
    "df_rat_nationalrat_longest.rename(columns={\"Years_y\": \"Years\"}, inplace=True)\n",
    "df_rat_staederrat_longest.rename(columns={\"Years_y\": \"Years\"}, inplace=True)"
   ],
   "metadata": {
    "collapsed": false,
    "pycharm": {
     "name": "#%%\n"
    }
   }
  },
  {
   "cell_type": "code",
   "execution_count": 266,
   "outputs": [
    {
     "data": {
      "text/plain": "             LastName   FirstName      Years N_DateJoining N_DateLeaving\n2761            Weber        Hans  99.857534    1872-02-12    1971-11-28\n2495          Steiner       Jakob  84.969863    1854-04-12    1939-03-12\n295           Borella     Achille  78.679452    1893-04-12    1971-11-28\n1551      Leuenberger       Jakob  76.479452    1855-01-06    1931-06-12\n2015            Polar    Giovanni  68.882192    1866-03-12    1935-01-12\n...               ...         ...        ...           ...           ...\n2836    Wismer-Felder      Priska        NaN    2019-02-12           NaT\n2855             Wyss       Sarah        NaN    2020-12-18           NaT\n2940    de Montmollin      Simone        NaN    2019-02-12           NaT\n2943       de Quattro  Jacqueline        NaN    2019-02-12           NaT\n2967  von Falkenstein    Patricia        NaN    2021-11-29           NaT\n\n[3004 rows x 5 columns]",
      "text/html": "<div>\n<style scoped>\n    .dataframe tbody tr th:only-of-type {\n        vertical-align: middle;\n    }\n\n    .dataframe tbody tr th {\n        vertical-align: top;\n    }\n\n    .dataframe thead th {\n        text-align: right;\n    }\n</style>\n<table border=\"1\" class=\"dataframe\">\n  <thead>\n    <tr style=\"text-align: right;\">\n      <th></th>\n      <th>LastName</th>\n      <th>FirstName</th>\n      <th>Years</th>\n      <th>N_DateJoining</th>\n      <th>N_DateLeaving</th>\n    </tr>\n  </thead>\n  <tbody>\n    <tr>\n      <th>2761</th>\n      <td>Weber</td>\n      <td>Hans</td>\n      <td>99.857534</td>\n      <td>1872-02-12</td>\n      <td>1971-11-28</td>\n    </tr>\n    <tr>\n      <th>2495</th>\n      <td>Steiner</td>\n      <td>Jakob</td>\n      <td>84.969863</td>\n      <td>1854-04-12</td>\n      <td>1939-03-12</td>\n    </tr>\n    <tr>\n      <th>295</th>\n      <td>Borella</td>\n      <td>Achille</td>\n      <td>78.679452</td>\n      <td>1893-04-12</td>\n      <td>1971-11-28</td>\n    </tr>\n    <tr>\n      <th>1551</th>\n      <td>Leuenberger</td>\n      <td>Jakob</td>\n      <td>76.479452</td>\n      <td>1855-01-06</td>\n      <td>1931-06-12</td>\n    </tr>\n    <tr>\n      <th>2015</th>\n      <td>Polar</td>\n      <td>Giovanni</td>\n      <td>68.882192</td>\n      <td>1866-03-12</td>\n      <td>1935-01-12</td>\n    </tr>\n    <tr>\n      <th>...</th>\n      <td>...</td>\n      <td>...</td>\n      <td>...</td>\n      <td>...</td>\n      <td>...</td>\n    </tr>\n    <tr>\n      <th>2836</th>\n      <td>Wismer-Felder</td>\n      <td>Priska</td>\n      <td>NaN</td>\n      <td>2019-02-12</td>\n      <td>NaT</td>\n    </tr>\n    <tr>\n      <th>2855</th>\n      <td>Wyss</td>\n      <td>Sarah</td>\n      <td>NaN</td>\n      <td>2020-12-18</td>\n      <td>NaT</td>\n    </tr>\n    <tr>\n      <th>2940</th>\n      <td>de Montmollin</td>\n      <td>Simone</td>\n      <td>NaN</td>\n      <td>2019-02-12</td>\n      <td>NaT</td>\n    </tr>\n    <tr>\n      <th>2943</th>\n      <td>de Quattro</td>\n      <td>Jacqueline</td>\n      <td>NaN</td>\n      <td>2019-02-12</td>\n      <td>NaT</td>\n    </tr>\n    <tr>\n      <th>2967</th>\n      <td>von Falkenstein</td>\n      <td>Patricia</td>\n      <td>NaN</td>\n      <td>2021-11-29</td>\n      <td>NaT</td>\n    </tr>\n  </tbody>\n</table>\n<p>3004 rows × 5 columns</p>\n</div>"
     },
     "execution_count": 266,
     "metadata": {},
     "output_type": "execute_result"
    }
   ],
   "source": [
    "df_rat_nationalrat_longest.sort_values(by=[\"Years\"], ascending=False)"
   ],
   "metadata": {
    "collapsed": false,
    "pycharm": {
     "name": "#%%\n"
    }
   }
  },
  {
   "cell_type": "code",
   "execution_count": 267,
   "outputs": [
    {
     "data": {
      "text/plain": "           LastName FirstName      Years S_DateJoining S_DateLeaving\n534          Muheim     Franz  75.783562    1912-03-06    1987-11-29\n535          Muheim    Gustav  74.523288    1877-04-06    1951-09-27\n537          Muheim      Karl  60.947945    1866-02-07    1927-01-05\n340      Hildebrand     Josef  47.550685    1886-07-06    1934-01-12\n374           Isler   P. Emil  42.994521    1890-01-12    1932-12-31\n..              ...       ...        ...           ...           ...\n732           Stark     Jakob        NaN    2019-02-12           NaT\n764  Thorens Goumaz     Adèle        NaN    2019-02-12           NaT\n782            Vara    Céline        NaN    2019-02-12           NaT\n834       Z'graggen     Heidi        NaN    2019-02-12           NaT\n851           Zopfi   Mathias        NaN    2019-02-12           NaT\n\n[899 rows x 5 columns]",
      "text/html": "<div>\n<style scoped>\n    .dataframe tbody tr th:only-of-type {\n        vertical-align: middle;\n    }\n\n    .dataframe tbody tr th {\n        vertical-align: top;\n    }\n\n    .dataframe thead th {\n        text-align: right;\n    }\n</style>\n<table border=\"1\" class=\"dataframe\">\n  <thead>\n    <tr style=\"text-align: right;\">\n      <th></th>\n      <th>LastName</th>\n      <th>FirstName</th>\n      <th>Years</th>\n      <th>S_DateJoining</th>\n      <th>S_DateLeaving</th>\n    </tr>\n  </thead>\n  <tbody>\n    <tr>\n      <th>534</th>\n      <td>Muheim</td>\n      <td>Franz</td>\n      <td>75.783562</td>\n      <td>1912-03-06</td>\n      <td>1987-11-29</td>\n    </tr>\n    <tr>\n      <th>535</th>\n      <td>Muheim</td>\n      <td>Gustav</td>\n      <td>74.523288</td>\n      <td>1877-04-06</td>\n      <td>1951-09-27</td>\n    </tr>\n    <tr>\n      <th>537</th>\n      <td>Muheim</td>\n      <td>Karl</td>\n      <td>60.947945</td>\n      <td>1866-02-07</td>\n      <td>1927-01-05</td>\n    </tr>\n    <tr>\n      <th>340</th>\n      <td>Hildebrand</td>\n      <td>Josef</td>\n      <td>47.550685</td>\n      <td>1886-07-06</td>\n      <td>1934-01-12</td>\n    </tr>\n    <tr>\n      <th>374</th>\n      <td>Isler</td>\n      <td>P. Emil</td>\n      <td>42.994521</td>\n      <td>1890-01-12</td>\n      <td>1932-12-31</td>\n    </tr>\n    <tr>\n      <th>...</th>\n      <td>...</td>\n      <td>...</td>\n      <td>...</td>\n      <td>...</td>\n      <td>...</td>\n    </tr>\n    <tr>\n      <th>732</th>\n      <td>Stark</td>\n      <td>Jakob</td>\n      <td>NaN</td>\n      <td>2019-02-12</td>\n      <td>NaT</td>\n    </tr>\n    <tr>\n      <th>764</th>\n      <td>Thorens Goumaz</td>\n      <td>Adèle</td>\n      <td>NaN</td>\n      <td>2019-02-12</td>\n      <td>NaT</td>\n    </tr>\n    <tr>\n      <th>782</th>\n      <td>Vara</td>\n      <td>Céline</td>\n      <td>NaN</td>\n      <td>2019-02-12</td>\n      <td>NaT</td>\n    </tr>\n    <tr>\n      <th>834</th>\n      <td>Z'graggen</td>\n      <td>Heidi</td>\n      <td>NaN</td>\n      <td>2019-02-12</td>\n      <td>NaT</td>\n    </tr>\n    <tr>\n      <th>851</th>\n      <td>Zopfi</td>\n      <td>Mathias</td>\n      <td>NaN</td>\n      <td>2019-02-12</td>\n      <td>NaT</td>\n    </tr>\n  </tbody>\n</table>\n<p>899 rows × 5 columns</p>\n</div>"
     },
     "execution_count": 267,
     "metadata": {},
     "output_type": "execute_result"
    }
   ],
   "source": [
    "df_rat_staederrat_longest.sort_values(by=[\"Years\"], ascending=False)"
   ],
   "metadata": {
    "collapsed": false,
    "pycharm": {
     "name": "#%%\n"
    }
   }
  },
  {
   "cell_type": "code",
   "execution_count": 268,
   "outputs": [
    {
     "data": {
      "text/plain": "          LastName         FirstName      Years B_DateJoining B_DateLeaving\n95          Schenk              Karl  31.619178    1863-12-12    1895-07-18\n30         Deucher       Adolf K. W.  29.194521    1883-10-04    1912-12-07\n74           Motta          Giuseppe  28.128767    1911-12-14    1940-01-23\n79            Näff  Wilhelm Matthias  27.139726    1848-11-16    1875-12-31\n37           Etter           Philipp  25.778082    1934-03-28    1959-12-31\n..             ...               ...        ...           ...           ...\n45       Friedrich            Rudolf   2.191781    1982-08-12    1984-10-20\n112          Weber               Max   2.136986    1951-12-13    1954-01-31\n84         Perrier       F. F. Louis   0.449315    1912-12-03    1913-05-16\n1           Amherd             Viola        NaN    2019-01-01           NaT\n60   Keller-Sutter             Karin        NaN    2019-01-01           NaT\n\n[119 rows x 5 columns]",
      "text/html": "<div>\n<style scoped>\n    .dataframe tbody tr th:only-of-type {\n        vertical-align: middle;\n    }\n\n    .dataframe tbody tr th {\n        vertical-align: top;\n    }\n\n    .dataframe thead th {\n        text-align: right;\n    }\n</style>\n<table border=\"1\" class=\"dataframe\">\n  <thead>\n    <tr style=\"text-align: right;\">\n      <th></th>\n      <th>LastName</th>\n      <th>FirstName</th>\n      <th>Years</th>\n      <th>B_DateJoining</th>\n      <th>B_DateLeaving</th>\n    </tr>\n  </thead>\n  <tbody>\n    <tr>\n      <th>95</th>\n      <td>Schenk</td>\n      <td>Karl</td>\n      <td>31.619178</td>\n      <td>1863-12-12</td>\n      <td>1895-07-18</td>\n    </tr>\n    <tr>\n      <th>30</th>\n      <td>Deucher</td>\n      <td>Adolf K. W.</td>\n      <td>29.194521</td>\n      <td>1883-10-04</td>\n      <td>1912-12-07</td>\n    </tr>\n    <tr>\n      <th>74</th>\n      <td>Motta</td>\n      <td>Giuseppe</td>\n      <td>28.128767</td>\n      <td>1911-12-14</td>\n      <td>1940-01-23</td>\n    </tr>\n    <tr>\n      <th>79</th>\n      <td>Näff</td>\n      <td>Wilhelm Matthias</td>\n      <td>27.139726</td>\n      <td>1848-11-16</td>\n      <td>1875-12-31</td>\n    </tr>\n    <tr>\n      <th>37</th>\n      <td>Etter</td>\n      <td>Philipp</td>\n      <td>25.778082</td>\n      <td>1934-03-28</td>\n      <td>1959-12-31</td>\n    </tr>\n    <tr>\n      <th>...</th>\n      <td>...</td>\n      <td>...</td>\n      <td>...</td>\n      <td>...</td>\n      <td>...</td>\n    </tr>\n    <tr>\n      <th>45</th>\n      <td>Friedrich</td>\n      <td>Rudolf</td>\n      <td>2.191781</td>\n      <td>1982-08-12</td>\n      <td>1984-10-20</td>\n    </tr>\n    <tr>\n      <th>112</th>\n      <td>Weber</td>\n      <td>Max</td>\n      <td>2.136986</td>\n      <td>1951-12-13</td>\n      <td>1954-01-31</td>\n    </tr>\n    <tr>\n      <th>84</th>\n      <td>Perrier</td>\n      <td>F. F. Louis</td>\n      <td>0.449315</td>\n      <td>1912-12-03</td>\n      <td>1913-05-16</td>\n    </tr>\n    <tr>\n      <th>1</th>\n      <td>Amherd</td>\n      <td>Viola</td>\n      <td>NaN</td>\n      <td>2019-01-01</td>\n      <td>NaT</td>\n    </tr>\n    <tr>\n      <th>60</th>\n      <td>Keller-Sutter</td>\n      <td>Karin</td>\n      <td>NaN</td>\n      <td>2019-01-01</td>\n      <td>NaT</td>\n    </tr>\n  </tbody>\n</table>\n<p>119 rows × 5 columns</p>\n</div>"
     },
     "execution_count": 268,
     "metadata": {},
     "output_type": "execute_result"
    }
   ],
   "source": [
    "df_rat_bundesrat_longest.sort_values(by=[\"Years\"], ascending=False)"
   ],
   "metadata": {
    "collapsed": false,
    "pycharm": {
     "name": "#%%\n"
    }
   }
  },
  {
   "cell_type": "markdown",
   "source": [
    "# Wer kam direkt in den Bundesrat?"
   ],
   "metadata": {
    "collapsed": false,
    "pycharm": {
     "name": "#%% md\n"
    }
   }
  },
  {
   "cell_type": "code",
   "execution_count": 269,
   "outputs": [
    {
     "data": {
      "text/plain": "            LastName        FirstName B_DateJoining B_DateLeaving  \\\n0               Ador          Gustave    1917-06-26    1919-12-31   \n1             Amherd            Viola    2019-01-01           NaT   \n2          Anderwert    Jos. Fridolin    1875-10-12    1880-12-25   \n3             Aubert           Pierre    1977-07-12    1987-12-31   \n4            Baumann         Johannes    1934-03-22    1940-12-31   \n...              ...              ...           ...           ...   \n3585     von Schorno             Karl           NaT           NaT   \n3586  von Schumacher           Edmund           NaT           NaT   \n3587     von Steiger      Adolf A. A.           NaT           NaT   \n3588     von Tschudi  Nikl. Friedrich           NaT           NaT   \n3589     von Ziegler             Hans           NaT           NaT   \n\n     N_DateJoining N_DateLeaving S_DateJoining S_DateLeaving  \n0       1889-03-25    1917-01-06    1878-02-12    1880-01-09  \n1       2005-05-31    2018-12-31           NaT           NaT  \n2       1863-07-12    1874-01-10           NaT           NaT  \n3              NaT           NaT    1971-11-29    1977-07-12  \n4              NaT           NaT    1911-04-12    1934-03-22  \n...            ...           ...           ...           ...  \n3585           NaT           NaT    1848-06-11    1852-01-11  \n3586           NaT           NaT    1895-02-12    1908-08-30  \n3587           NaT           NaT    1908-09-28    1918-01-06  \n3588           NaT           NaT    1877-03-12    1885-01-11  \n3589           NaT           NaT    1859-04-07    1865-01-06  \n\n[3590 rows x 8 columns]",
      "text/html": "<div>\n<style scoped>\n    .dataframe tbody tr th:only-of-type {\n        vertical-align: middle;\n    }\n\n    .dataframe tbody tr th {\n        vertical-align: top;\n    }\n\n    .dataframe thead th {\n        text-align: right;\n    }\n</style>\n<table border=\"1\" class=\"dataframe\">\n  <thead>\n    <tr style=\"text-align: right;\">\n      <th></th>\n      <th>LastName</th>\n      <th>FirstName</th>\n      <th>B_DateJoining</th>\n      <th>B_DateLeaving</th>\n      <th>N_DateJoining</th>\n      <th>N_DateLeaving</th>\n      <th>S_DateJoining</th>\n      <th>S_DateLeaving</th>\n    </tr>\n  </thead>\n  <tbody>\n    <tr>\n      <th>0</th>\n      <td>Ador</td>\n      <td>Gustave</td>\n      <td>1917-06-26</td>\n      <td>1919-12-31</td>\n      <td>1889-03-25</td>\n      <td>1917-01-06</td>\n      <td>1878-02-12</td>\n      <td>1880-01-09</td>\n    </tr>\n    <tr>\n      <th>1</th>\n      <td>Amherd</td>\n      <td>Viola</td>\n      <td>2019-01-01</td>\n      <td>NaT</td>\n      <td>2005-05-31</td>\n      <td>2018-12-31</td>\n      <td>NaT</td>\n      <td>NaT</td>\n    </tr>\n    <tr>\n      <th>2</th>\n      <td>Anderwert</td>\n      <td>Jos. Fridolin</td>\n      <td>1875-10-12</td>\n      <td>1880-12-25</td>\n      <td>1863-07-12</td>\n      <td>1874-01-10</td>\n      <td>NaT</td>\n      <td>NaT</td>\n    </tr>\n    <tr>\n      <th>3</th>\n      <td>Aubert</td>\n      <td>Pierre</td>\n      <td>1977-07-12</td>\n      <td>1987-12-31</td>\n      <td>NaT</td>\n      <td>NaT</td>\n      <td>1971-11-29</td>\n      <td>1977-07-12</td>\n    </tr>\n    <tr>\n      <th>4</th>\n      <td>Baumann</td>\n      <td>Johannes</td>\n      <td>1934-03-22</td>\n      <td>1940-12-31</td>\n      <td>NaT</td>\n      <td>NaT</td>\n      <td>1911-04-12</td>\n      <td>1934-03-22</td>\n    </tr>\n    <tr>\n      <th>...</th>\n      <td>...</td>\n      <td>...</td>\n      <td>...</td>\n      <td>...</td>\n      <td>...</td>\n      <td>...</td>\n      <td>...</td>\n      <td>...</td>\n    </tr>\n    <tr>\n      <th>3585</th>\n      <td>von Schorno</td>\n      <td>Karl</td>\n      <td>NaT</td>\n      <td>NaT</td>\n      <td>NaT</td>\n      <td>NaT</td>\n      <td>1848-06-11</td>\n      <td>1852-01-11</td>\n    </tr>\n    <tr>\n      <th>3586</th>\n      <td>von Schumacher</td>\n      <td>Edmund</td>\n      <td>NaT</td>\n      <td>NaT</td>\n      <td>NaT</td>\n      <td>NaT</td>\n      <td>1895-02-12</td>\n      <td>1908-08-30</td>\n    </tr>\n    <tr>\n      <th>3587</th>\n      <td>von Steiger</td>\n      <td>Adolf A. A.</td>\n      <td>NaT</td>\n      <td>NaT</td>\n      <td>NaT</td>\n      <td>NaT</td>\n      <td>1908-09-28</td>\n      <td>1918-01-06</td>\n    </tr>\n    <tr>\n      <th>3588</th>\n      <td>von Tschudi</td>\n      <td>Nikl. Friedrich</td>\n      <td>NaT</td>\n      <td>NaT</td>\n      <td>NaT</td>\n      <td>NaT</td>\n      <td>1877-03-12</td>\n      <td>1885-01-11</td>\n    </tr>\n    <tr>\n      <th>3589</th>\n      <td>von Ziegler</td>\n      <td>Hans</td>\n      <td>NaT</td>\n      <td>NaT</td>\n      <td>NaT</td>\n      <td>NaT</td>\n      <td>1859-04-07</td>\n      <td>1865-01-06</td>\n    </tr>\n  </tbody>\n</table>\n<p>3590 rows × 8 columns</p>\n</div>"
     },
     "execution_count": 269,
     "metadata": {},
     "output_type": "execute_result"
    }
   ],
   "source": [
    "df_rat_merge"
   ],
   "metadata": {
    "collapsed": false,
    "pycharm": {
     "name": "#%%\n"
    }
   }
  },
  {
   "cell_type": "code",
   "execution_count": 270,
   "outputs": [],
   "source": [
    "# df_rat_direct all persons where N_DateJoining, N_DateLeaving, S_DateJoining, S_DateLeaving is NaT and B_DateJoining, B_DateLeavining is not NaT\n",
    "df_rat_direct = df_rat_merge[(df_rat_merge[\"N_DateJoining\"].isnull()) & (df_rat_merge[\"N_DateLeaving\"].isnull()) & (df_rat_merge[\"S_DateJoining\"].isnull()) & (df_rat_merge[\"S_DateLeaving\"].isnull()) & (~df_rat_merge[\"B_DateJoining\"].isnull())]"
   ],
   "metadata": {
    "collapsed": false,
    "pycharm": {
     "name": "#%%\n"
    }
   }
  },
  {
   "cell_type": "code",
   "execution_count": 271,
   "outputs": [
    {
     "name": "stderr",
     "output_type": "stream",
     "text": [
      "/Users/janisfrolich/opt/anaconda3/lib/python3.9/site-packages/pandas/core/frame.py:4906: SettingWithCopyWarning: \n",
      "A value is trying to be set on a copy of a slice from a DataFrame\n",
      "\n",
      "See the caveats in the documentation: https://pandas.pydata.org/pandas-docs/stable/user_guide/indexing.html#returning-a-view-versus-a-copy\n",
      "  return super().drop(\n"
     ]
    }
   ],
   "source": [
    "df_rat_direct.drop([\"N_DateJoining\", \"N_DateLeaving\", \"S_DateJoining\", \"S_DateLeaving\"], axis=1, inplace=True)"
   ],
   "metadata": {
    "collapsed": false,
    "pycharm": {
     "name": "#%%\n"
    }
   }
  },
  {
   "cell_type": "code",
   "execution_count": 272,
   "outputs": [
    {
     "data": {
      "text/plain": "            LastName     FirstName B_DateJoining B_DateLeaving\n12           Brugger         Ernst    1969-10-12    1978-01-31\n14         Calmy-Rey     Micheline    2003-01-01    2011-12-31\n31          Dreifuss          Ruth    1993-01-04    2002-12-31\n33             Druey  Daniel-Henri    1848-11-16    1855-03-29\n50              Haab        Robert    1917-12-13    1929-12-31\n66            Lepori      Giuseppe    1954-12-16    1959-12-31\n71    Metzler-Arnold          Ruth    1999-01-04    2003-12-31\n89          Rubattel      Rodolphe    1947-11-12    1954-12-31\n94         Schaffner          Hans    1961-06-15    1970-01-31\n107          Streuli          Hans    1953-12-22    1959-12-31\n115  Widmer-Schlumpf       Eveline    2008-01-01    2015-12-31\n118      von Steiger        Eduard    1940-10-12    1951-12-31",
      "text/html": "<div>\n<style scoped>\n    .dataframe tbody tr th:only-of-type {\n        vertical-align: middle;\n    }\n\n    .dataframe tbody tr th {\n        vertical-align: top;\n    }\n\n    .dataframe thead th {\n        text-align: right;\n    }\n</style>\n<table border=\"1\" class=\"dataframe\">\n  <thead>\n    <tr style=\"text-align: right;\">\n      <th></th>\n      <th>LastName</th>\n      <th>FirstName</th>\n      <th>B_DateJoining</th>\n      <th>B_DateLeaving</th>\n    </tr>\n  </thead>\n  <tbody>\n    <tr>\n      <th>12</th>\n      <td>Brugger</td>\n      <td>Ernst</td>\n      <td>1969-10-12</td>\n      <td>1978-01-31</td>\n    </tr>\n    <tr>\n      <th>14</th>\n      <td>Calmy-Rey</td>\n      <td>Micheline</td>\n      <td>2003-01-01</td>\n      <td>2011-12-31</td>\n    </tr>\n    <tr>\n      <th>31</th>\n      <td>Dreifuss</td>\n      <td>Ruth</td>\n      <td>1993-01-04</td>\n      <td>2002-12-31</td>\n    </tr>\n    <tr>\n      <th>33</th>\n      <td>Druey</td>\n      <td>Daniel-Henri</td>\n      <td>1848-11-16</td>\n      <td>1855-03-29</td>\n    </tr>\n    <tr>\n      <th>50</th>\n      <td>Haab</td>\n      <td>Robert</td>\n      <td>1917-12-13</td>\n      <td>1929-12-31</td>\n    </tr>\n    <tr>\n      <th>66</th>\n      <td>Lepori</td>\n      <td>Giuseppe</td>\n      <td>1954-12-16</td>\n      <td>1959-12-31</td>\n    </tr>\n    <tr>\n      <th>71</th>\n      <td>Metzler-Arnold</td>\n      <td>Ruth</td>\n      <td>1999-01-04</td>\n      <td>2003-12-31</td>\n    </tr>\n    <tr>\n      <th>89</th>\n      <td>Rubattel</td>\n      <td>Rodolphe</td>\n      <td>1947-11-12</td>\n      <td>1954-12-31</td>\n    </tr>\n    <tr>\n      <th>94</th>\n      <td>Schaffner</td>\n      <td>Hans</td>\n      <td>1961-06-15</td>\n      <td>1970-01-31</td>\n    </tr>\n    <tr>\n      <th>107</th>\n      <td>Streuli</td>\n      <td>Hans</td>\n      <td>1953-12-22</td>\n      <td>1959-12-31</td>\n    </tr>\n    <tr>\n      <th>115</th>\n      <td>Widmer-Schlumpf</td>\n      <td>Eveline</td>\n      <td>2008-01-01</td>\n      <td>2015-12-31</td>\n    </tr>\n    <tr>\n      <th>118</th>\n      <td>von Steiger</td>\n      <td>Eduard</td>\n      <td>1940-10-12</td>\n      <td>1951-12-31</td>\n    </tr>\n  </tbody>\n</table>\n</div>"
     },
     "execution_count": 272,
     "metadata": {},
     "output_type": "execute_result"
    }
   ],
   "source": [
    "df_rat_direct"
   ],
   "metadata": {
    "collapsed": false,
    "pycharm": {
     "name": "#%%\n"
    }
   }
  },
  {
   "cell_type": "markdown",
   "source": [
    "# Parteistärke per 1. January per Council (Nicht fertig)"
   ],
   "metadata": {
    "collapsed": false,
    "pycharm": {
     "name": "#%% md\n"
    }
   }
  },
  {
   "cell_type": "code",
   "execution_count": 334,
   "outputs": [
    {
     "data": {
      "text/plain": "      Active      FirstName  LastName GenderAsString  CantonName  \\\n0      False       Giuseppe   a Marca              m  Graubünden   \n1      False          Alois  Ab Yberg              m      Schwyz   \n2      False          Fabio     Abate              m      Tessin   \n3      False          Fabio     Abate              m      Tessin   \n4      False          Fabio     Abate              m      Tessin   \n...      ...            ...       ...            ...         ...   \n6422   False         Walter   Zwingli              m  St. Gallen   \n6423   False           Otto   Zwygart              m        Bern   \n6425   False  Otto (senior)   Zwygart              m        Bern   \n6426   False           Otto   Zwygart              m        Bern   \n6427   False      Carl Sam.      Zyro              m        Bern   \n\n     CantonAbbreviation  CouncilName                            ParlGroupName  \\\n0                    GR    Ständerat                                    Mitte   \n1                    SZ  Nationalrat           Radikal-demokratische Fraktion   \n2                    TI  Nationalrat        Freisinnig-demokratische Fraktion   \n3                    TI  Nationalrat        Freisinnig-demokratische Fraktion   \n4                    TI    Ständerat                    FDP-Liberale Fraktion   \n...                 ...          ...                                      ...   \n6422                 SG  Nationalrat        Freisinnig-demokratische Fraktion   \n6423                 BE  Nationalrat                         LdU/EVP-Fraktion   \n6425                 BE  Nationalrat  Demokratische und Evangelische Fraktion   \n6426                 BE  Nationalrat                         LdU/EVP-Fraktion   \n6427                 BE  Nationalrat                                    Linke   \n\n     ParlGroupAbbreviation                                    PartyName  \\\n0                       MC                                 Konservative   \n1                        R  Freisinnig-Demokratische Partei der Schweiz   \n2                       RL  Freisinnig-Demokratische Partei der Schweiz   \n3                        R  Freisinnig-Demokratische Partei der Schweiz   \n4                       RL                            FDP.Die Liberalen   \n...                    ...                                          ...   \n6422                     R  Freisinnig-Demokratische Partei der Schweiz   \n6423                     U         Evangelische Volkspartei der Schweiz   \n6425                    DE         Evangelische Volkspartei der Schweiz   \n6426                     U         Evangelische Volkspartei der Schweiz   \n6427                    LG  Freisinnig-Demokratische Partei der Schweiz   \n\n     PartyAbbreviation MaritalStatusText BirthPlace_City BirthPlace_Canton  \\\n0                Kons*               NaN             NaN               NaN   \n1                  FDP               NaN             NaN               NaN   \n2                  FDP               NaN         Locarno            Tessin   \n3                  FDP               NaN         Locarno            Tessin   \n4         FDP-Liberale               NaN         Locarno            Tessin   \n...                ...               ...             ...               ...   \n6422               FDP               NaN             NaN               NaN   \n6423               EVP               NaN        Schliern              Bern   \n6425               EVP               NaN             NaN               NaN   \n6426               EVP               NaN        Schliern              Bern   \n6427               FDP               NaN             NaN               NaN   \n\n                                               Mandates DateJoining  \\\n0                                                   NaN  1849-01-12   \n1                                                   NaN  1928-03-12   \n2     incarichi esecutivi presso il comune di Locarn...  2007-03-12   \n3     incarichi esecutivi presso il comune di Locarn...  2000-09-25   \n4     incarichi esecutivi presso il comune di Locarn...  2011-05-12   \n...                                                 ...         ...   \n6422                                                NaN  1984-05-06   \n6423  Grosser Gemeinderat Bolligen von 1970 bis 1974...  1995-04-12   \n6425                                                NaN  1971-01-06   \n6426  Grosser Gemeinderat Bolligen von 1970 bis 1974...  1983-11-28   \n6427                                                NaN  1866-03-12   \n\n     DateLeaving                  Citizenship DateOfBirth DateOfDeath  \n0     1851-01-07                  Soazza (GR)  1799-07-29  1866-07-16  \n1     1935-01-12                  Schwyz (SZ)  1878-06-10  1959-10-17  \n2     2011-04-12                  Cabbio (TI)  1966-04-01         NaT  \n3     2003-11-30                  Cabbio (TI)  1966-04-01         NaT  \n4     2015-11-29                  Cabbio (TI)  1966-04-01         NaT  \n...          ...                          ...         ...         ...  \n6422  1991-11-24                 Nesslau (SG)  1925-09-28  2018-10-07  \n6423  2000-09-18  Bolligen (BE),Meikirch (BE)  1940-01-16         NaT  \n6425  1983-11-27                Meikirch (BE)  1911-05-30  1986-05-04  \n6426  1995-03-12  Bolligen (BE),Meikirch (BE)  1940-01-16         NaT  \n6427  1893-03-12                    Thun (BE)  1834-07-17  1896-08-26  \n\n[5698 rows x 20 columns]",
      "text/html": "<div>\n<style scoped>\n    .dataframe tbody tr th:only-of-type {\n        vertical-align: middle;\n    }\n\n    .dataframe tbody tr th {\n        vertical-align: top;\n    }\n\n    .dataframe thead th {\n        text-align: right;\n    }\n</style>\n<table border=\"1\" class=\"dataframe\">\n  <thead>\n    <tr style=\"text-align: right;\">\n      <th></th>\n      <th>Active</th>\n      <th>FirstName</th>\n      <th>LastName</th>\n      <th>GenderAsString</th>\n      <th>CantonName</th>\n      <th>CantonAbbreviation</th>\n      <th>CouncilName</th>\n      <th>ParlGroupName</th>\n      <th>ParlGroupAbbreviation</th>\n      <th>PartyName</th>\n      <th>PartyAbbreviation</th>\n      <th>MaritalStatusText</th>\n      <th>BirthPlace_City</th>\n      <th>BirthPlace_Canton</th>\n      <th>Mandates</th>\n      <th>DateJoining</th>\n      <th>DateLeaving</th>\n      <th>Citizenship</th>\n      <th>DateOfBirth</th>\n      <th>DateOfDeath</th>\n    </tr>\n  </thead>\n  <tbody>\n    <tr>\n      <th>0</th>\n      <td>False</td>\n      <td>Giuseppe</td>\n      <td>a Marca</td>\n      <td>m</td>\n      <td>Graubünden</td>\n      <td>GR</td>\n      <td>Ständerat</td>\n      <td>Mitte</td>\n      <td>MC</td>\n      <td>Konservative</td>\n      <td>Kons*</td>\n      <td>NaN</td>\n      <td>NaN</td>\n      <td>NaN</td>\n      <td>NaN</td>\n      <td>1849-01-12</td>\n      <td>1851-01-07</td>\n      <td>Soazza (GR)</td>\n      <td>1799-07-29</td>\n      <td>1866-07-16</td>\n    </tr>\n    <tr>\n      <th>1</th>\n      <td>False</td>\n      <td>Alois</td>\n      <td>Ab Yberg</td>\n      <td>m</td>\n      <td>Schwyz</td>\n      <td>SZ</td>\n      <td>Nationalrat</td>\n      <td>Radikal-demokratische Fraktion</td>\n      <td>R</td>\n      <td>Freisinnig-Demokratische Partei der Schweiz</td>\n      <td>FDP</td>\n      <td>NaN</td>\n      <td>NaN</td>\n      <td>NaN</td>\n      <td>NaN</td>\n      <td>1928-03-12</td>\n      <td>1935-01-12</td>\n      <td>Schwyz (SZ)</td>\n      <td>1878-06-10</td>\n      <td>1959-10-17</td>\n    </tr>\n    <tr>\n      <th>2</th>\n      <td>False</td>\n      <td>Fabio</td>\n      <td>Abate</td>\n      <td>m</td>\n      <td>Tessin</td>\n      <td>TI</td>\n      <td>Nationalrat</td>\n      <td>Freisinnig-demokratische Fraktion</td>\n      <td>RL</td>\n      <td>Freisinnig-Demokratische Partei der Schweiz</td>\n      <td>FDP</td>\n      <td>NaN</td>\n      <td>Locarno</td>\n      <td>Tessin</td>\n      <td>incarichi esecutivi presso il comune di Locarn...</td>\n      <td>2007-03-12</td>\n      <td>2011-04-12</td>\n      <td>Cabbio (TI)</td>\n      <td>1966-04-01</td>\n      <td>NaT</td>\n    </tr>\n    <tr>\n      <th>3</th>\n      <td>False</td>\n      <td>Fabio</td>\n      <td>Abate</td>\n      <td>m</td>\n      <td>Tessin</td>\n      <td>TI</td>\n      <td>Nationalrat</td>\n      <td>Freisinnig-demokratische Fraktion</td>\n      <td>R</td>\n      <td>Freisinnig-Demokratische Partei der Schweiz</td>\n      <td>FDP</td>\n      <td>NaN</td>\n      <td>Locarno</td>\n      <td>Tessin</td>\n      <td>incarichi esecutivi presso il comune di Locarn...</td>\n      <td>2000-09-25</td>\n      <td>2003-11-30</td>\n      <td>Cabbio (TI)</td>\n      <td>1966-04-01</td>\n      <td>NaT</td>\n    </tr>\n    <tr>\n      <th>4</th>\n      <td>False</td>\n      <td>Fabio</td>\n      <td>Abate</td>\n      <td>m</td>\n      <td>Tessin</td>\n      <td>TI</td>\n      <td>Ständerat</td>\n      <td>FDP-Liberale Fraktion</td>\n      <td>RL</td>\n      <td>FDP.Die Liberalen</td>\n      <td>FDP-Liberale</td>\n      <td>NaN</td>\n      <td>Locarno</td>\n      <td>Tessin</td>\n      <td>incarichi esecutivi presso il comune di Locarn...</td>\n      <td>2011-05-12</td>\n      <td>2015-11-29</td>\n      <td>Cabbio (TI)</td>\n      <td>1966-04-01</td>\n      <td>NaT</td>\n    </tr>\n    <tr>\n      <th>...</th>\n      <td>...</td>\n      <td>...</td>\n      <td>...</td>\n      <td>...</td>\n      <td>...</td>\n      <td>...</td>\n      <td>...</td>\n      <td>...</td>\n      <td>...</td>\n      <td>...</td>\n      <td>...</td>\n      <td>...</td>\n      <td>...</td>\n      <td>...</td>\n      <td>...</td>\n      <td>...</td>\n      <td>...</td>\n      <td>...</td>\n      <td>...</td>\n      <td>...</td>\n    </tr>\n    <tr>\n      <th>6422</th>\n      <td>False</td>\n      <td>Walter</td>\n      <td>Zwingli</td>\n      <td>m</td>\n      <td>St. Gallen</td>\n      <td>SG</td>\n      <td>Nationalrat</td>\n      <td>Freisinnig-demokratische Fraktion</td>\n      <td>R</td>\n      <td>Freisinnig-Demokratische Partei der Schweiz</td>\n      <td>FDP</td>\n      <td>NaN</td>\n      <td>NaN</td>\n      <td>NaN</td>\n      <td>NaN</td>\n      <td>1984-05-06</td>\n      <td>1991-11-24</td>\n      <td>Nesslau (SG)</td>\n      <td>1925-09-28</td>\n      <td>2018-10-07</td>\n    </tr>\n    <tr>\n      <th>6423</th>\n      <td>False</td>\n      <td>Otto</td>\n      <td>Zwygart</td>\n      <td>m</td>\n      <td>Bern</td>\n      <td>BE</td>\n      <td>Nationalrat</td>\n      <td>LdU/EVP-Fraktion</td>\n      <td>U</td>\n      <td>Evangelische Volkspartei der Schweiz</td>\n      <td>EVP</td>\n      <td>NaN</td>\n      <td>Schliern</td>\n      <td>Bern</td>\n      <td>Grosser Gemeinderat Bolligen von 1970 bis 1974...</td>\n      <td>1995-04-12</td>\n      <td>2000-09-18</td>\n      <td>Bolligen (BE),Meikirch (BE)</td>\n      <td>1940-01-16</td>\n      <td>NaT</td>\n    </tr>\n    <tr>\n      <th>6425</th>\n      <td>False</td>\n      <td>Otto (senior)</td>\n      <td>Zwygart</td>\n      <td>m</td>\n      <td>Bern</td>\n      <td>BE</td>\n      <td>Nationalrat</td>\n      <td>Demokratische und Evangelische Fraktion</td>\n      <td>DE</td>\n      <td>Evangelische Volkspartei der Schweiz</td>\n      <td>EVP</td>\n      <td>NaN</td>\n      <td>NaN</td>\n      <td>NaN</td>\n      <td>NaN</td>\n      <td>1971-01-06</td>\n      <td>1983-11-27</td>\n      <td>Meikirch (BE)</td>\n      <td>1911-05-30</td>\n      <td>1986-05-04</td>\n    </tr>\n    <tr>\n      <th>6426</th>\n      <td>False</td>\n      <td>Otto</td>\n      <td>Zwygart</td>\n      <td>m</td>\n      <td>Bern</td>\n      <td>BE</td>\n      <td>Nationalrat</td>\n      <td>LdU/EVP-Fraktion</td>\n      <td>U</td>\n      <td>Evangelische Volkspartei der Schweiz</td>\n      <td>EVP</td>\n      <td>NaN</td>\n      <td>Schliern</td>\n      <td>Bern</td>\n      <td>Grosser Gemeinderat Bolligen von 1970 bis 1974...</td>\n      <td>1983-11-28</td>\n      <td>1995-03-12</td>\n      <td>Bolligen (BE),Meikirch (BE)</td>\n      <td>1940-01-16</td>\n      <td>NaT</td>\n    </tr>\n    <tr>\n      <th>6427</th>\n      <td>False</td>\n      <td>Carl Sam.</td>\n      <td>Zyro</td>\n      <td>m</td>\n      <td>Bern</td>\n      <td>BE</td>\n      <td>Nationalrat</td>\n      <td>Linke</td>\n      <td>LG</td>\n      <td>Freisinnig-Demokratische Partei der Schweiz</td>\n      <td>FDP</td>\n      <td>NaN</td>\n      <td>NaN</td>\n      <td>NaN</td>\n      <td>NaN</td>\n      <td>1866-03-12</td>\n      <td>1893-03-12</td>\n      <td>Thun (BE)</td>\n      <td>1834-07-17</td>\n      <td>1896-08-26</td>\n    </tr>\n  </tbody>\n</table>\n<p>5698 rows × 20 columns</p>\n</div>"
     },
     "execution_count": 334,
     "metadata": {},
     "output_type": "execute_result"
    }
   ],
   "source": [
    "df_rat"
   ],
   "metadata": {
    "collapsed": false,
    "pycharm": {
     "name": "#%%\n"
    }
   }
  },
  {
   "cell_type": "code",
   "execution_count": 335,
   "outputs": [],
   "source": [
    "# three subset of each council\n",
    "df_rat_short = df_rat.drop(columns=[\"Active\", \"GenderAsString\", \"CantonName\", \"CantonAbbreviation\", \"ParlGroupName\", \"PartyName\", \"MaritalStatusText\", \"MaritalStatusText\", \"BirthPlace_City\", \"BirthPlace_Canton\", \"Mandates\", \"Citizenship\", \"DateOfBirth\", \"DateOfDeath\"])\n",
    "\n",
    "df_rat_bundesrat = df_rat_short[df_rat_short[\"CouncilName\"] == \"Bundesrat\"]\n",
    "df_rat_nationalrat = df_rat_short[df_rat_short[\"CouncilName\"] == \"Nationalrat\"]\n",
    "df_rat_staenderat = df_rat_short[df_rat_short[\"CouncilName\"] == \"Ständerat\"]"
   ],
   "metadata": {
    "collapsed": false,
    "pycharm": {
     "name": "#%%\n"
    }
   }
  },
  {
   "cell_type": "code",
   "execution_count": 336,
   "outputs": [
    {
     "name": "stderr",
     "output_type": "stream",
     "text": [
      "/var/folders/f0/pqy2clvx0nv38xm_npv8fklm0000gn/T/ipykernel_5045/2684306579.py:2: SettingWithCopyWarning: \n",
      "A value is trying to be set on a copy of a slice from a DataFrame.\n",
      "Try using .loc[row_indexer,col_indexer] = value instead\n",
      "\n",
      "See the caveats in the documentation: https://pandas.pydata.org/pandas-docs/stable/user_guide/indexing.html#returning-a-view-versus-a-copy\n",
      "  df_rat_bundesrat[\"DateJoining_day_month\"] = df_rat_bundesrat[\"DateJoining\"].dt.strftime(\"%d.%m.\")\n",
      "/var/folders/f0/pqy2clvx0nv38xm_npv8fklm0000gn/T/ipykernel_5045/2684306579.py:3: SettingWithCopyWarning: \n",
      "A value is trying to be set on a copy of a slice from a DataFrame.\n",
      "Try using .loc[row_indexer,col_indexer] = value instead\n",
      "\n",
      "See the caveats in the documentation: https://pandas.pydata.org/pandas-docs/stable/user_guide/indexing.html#returning-a-view-versus-a-copy\n",
      "  df_rat_bundesrat[\"DateLeaving_day_month\"] = df_rat_bundesrat[\"DateLeaving\"].dt.strftime(\"%d.%m.\")\n",
      "/var/folders/f0/pqy2clvx0nv38xm_npv8fklm0000gn/T/ipykernel_5045/2684306579.py:5: SettingWithCopyWarning: \n",
      "A value is trying to be set on a copy of a slice from a DataFrame.\n",
      "Try using .loc[row_indexer,col_indexer] = value instead\n",
      "\n",
      "See the caveats in the documentation: https://pandas.pydata.org/pandas-docs/stable/user_guide/indexing.html#returning-a-view-versus-a-copy\n",
      "  df_rat_bundesrat[\"DateJoining_year\"] = df_rat_bundesrat[\"DateJoining\"].dt.strftime(\"%Y\")\n",
      "/var/folders/f0/pqy2clvx0nv38xm_npv8fklm0000gn/T/ipykernel_5045/2684306579.py:6: SettingWithCopyWarning: \n",
      "A value is trying to be set on a copy of a slice from a DataFrame.\n",
      "Try using .loc[row_indexer,col_indexer] = value instead\n",
      "\n",
      "See the caveats in the documentation: https://pandas.pydata.org/pandas-docs/stable/user_guide/indexing.html#returning-a-view-versus-a-copy\n",
      "  df_rat_bundesrat[\"DateLeaving_year\"] = df_rat_bundesrat[\"DateLeaving\"].dt.strftime(\"%Y\")\n",
      "/Users/janisfrolich/opt/anaconda3/lib/python3.9/site-packages/pandas/util/_decorators.py:311: SettingWithCopyWarning: \n",
      "A value is trying to be set on a copy of a slice from a DataFrame\n",
      "\n",
      "See the caveats in the documentation: https://pandas.pydata.org/pandas-docs/stable/user_guide/indexing.html#returning-a-view-versus-a-copy\n",
      "  return func(*args, **kwargs)\n",
      "/var/folders/f0/pqy2clvx0nv38xm_npv8fklm0000gn/T/ipykernel_5045/2684306579.py:12: SettingWithCopyWarning: \n",
      "A value is trying to be set on a copy of a slice from a DataFrame.\n",
      "Try using .loc[row_indexer,col_indexer] = value instead\n",
      "\n",
      "See the caveats in the documentation: https://pandas.pydata.org/pandas-docs/stable/user_guide/indexing.html#returning-a-view-versus-a-copy\n",
      "  df_rat_bundesrat[\"DateJoining_year\"] = df_rat_bundesrat[\"DateJoining_year\"].astype(float)\n",
      "/var/folders/f0/pqy2clvx0nv38xm_npv8fklm0000gn/T/ipykernel_5045/2684306579.py:13: SettingWithCopyWarning: \n",
      "A value is trying to be set on a copy of a slice from a DataFrame.\n",
      "Try using .loc[row_indexer,col_indexer] = value instead\n",
      "\n",
      "See the caveats in the documentation: https://pandas.pydata.org/pandas-docs/stable/user_guide/indexing.html#returning-a-view-versus-a-copy\n",
      "  df_rat_bundesrat[\"DateLeaving_year\"] = df_rat_bundesrat[\"DateLeaving_year\"].astype(float)\n"
     ]
    }
   ],
   "source": [
    "# show only date of datejoining without the year\n",
    "df_rat_bundesrat[\"DateJoining_day_month\"] = df_rat_bundesrat[\"DateJoining\"].dt.strftime(\"%d.%m.\")\n",
    "df_rat_bundesrat[\"DateLeaving_day_month\"] = df_rat_bundesrat[\"DateLeaving\"].dt.strftime(\"%d.%m.\")\n",
    "# show only year of datejoining without the date\n",
    "df_rat_bundesrat[\"DateJoining_year\"] = df_rat_bundesrat[\"DateJoining\"].dt.strftime(\"%Y\")\n",
    "df_rat_bundesrat[\"DateLeaving_year\"] = df_rat_bundesrat[\"DateLeaving\"].dt.strftime(\"%Y\")\n",
    "\n",
    "#drop all nan rows in column DateJoining_year and DateLeaving_year\n",
    "df_rat_bundesrat.dropna(subset=[\"DateJoining_year\", \"DateLeaving_year\"], inplace=True)\n",
    "\n",
    "# change datatype of DateJoining_year and DateLeaving_year to int\n",
    "df_rat_bundesrat[\"DateJoining_year\"] = df_rat_bundesrat[\"DateJoining_year\"].astype(float)\n",
    "df_rat_bundesrat[\"DateLeaving_year\"] = df_rat_bundesrat[\"DateLeaving_year\"].astype(float)"
   ],
   "metadata": {
    "collapsed": false,
    "pycharm": {
     "name": "#%%\n"
    }
   }
  },
  {
   "cell_type": "code",
   "execution_count": 337,
   "outputs": [
    {
     "name": "stderr",
     "output_type": "stream",
     "text": [
      "/var/folders/f0/pqy2clvx0nv38xm_npv8fklm0000gn/T/ipykernel_5045/1315009235.py:4: SettingWithCopyWarning: \n",
      "A value is trying to be set on a copy of a slice from a DataFrame\n",
      "\n",
      "See the caveats in the documentation: https://pandas.pydata.org/pandas-docs/stable/user_guide/indexing.html#returning-a-view-versus-a-copy\n",
      "  df_rat_bundesrat[\"DateJoining_year\"][i] += 1\n",
      "/var/folders/f0/pqy2clvx0nv38xm_npv8fklm0000gn/T/ipykernel_5045/1315009235.py:6: SettingWithCopyWarning: \n",
      "A value is trying to be set on a copy of a slice from a DataFrame\n",
      "\n",
      "See the caveats in the documentation: https://pandas.pydata.org/pandas-docs/stable/user_guide/indexing.html#returning-a-view-versus-a-copy\n",
      "  df_rat_bundesrat[\"DateLeaving_year\"][i] += 1\n",
      "/Users/janisfrolich/opt/anaconda3/lib/python3.9/site-packages/pandas/core/frame.py:4906: SettingWithCopyWarning: \n",
      "A value is trying to be set on a copy of a slice from a DataFrame\n",
      "\n",
      "See the caveats in the documentation: https://pandas.pydata.org/pandas-docs/stable/user_guide/indexing.html#returning-a-view-versus-a-copy\n",
      "  return super().drop(\n"
     ]
    }
   ],
   "source": [
    "# new column range of years with start year and end year in a list like this [start year, end year]\n",
    "for i in df_rat_bundesrat.index:\n",
    "    if df_rat_bundesrat[\"DateJoining_day_month\"][i] != '01.01':\n",
    "        df_rat_bundesrat[\"DateJoining_year\"][i] += 1\n",
    "    if df_rat_bundesrat[\"DateLeaving_day_month\"][i] != '01.01':\n",
    "        df_rat_bundesrat[\"DateLeaving_year\"][i] += 1\n",
    "\n",
    "df_rat_bundesrat.drop(columns=[\"DateJoining_day_month\", \"DateLeaving_day_month\", \"DateJoining\", \"DateLeaving\"], inplace=True)"
   ],
   "metadata": {
    "collapsed": false,
    "pycharm": {
     "name": "#%%\n"
    }
   }
  },
  {
   "cell_type": "code",
   "execution_count": 338,
   "outputs": [
    {
     "name": "stderr",
     "output_type": "stream",
     "text": [
      "/var/folders/f0/pqy2clvx0nv38xm_npv8fklm0000gn/T/ipykernel_5045/2765569170.py:2: SettingWithCopyWarning: \n",
      "A value is trying to be set on a copy of a slice from a DataFrame.\n",
      "Try using .loc[row_indexer,col_indexer] = value instead\n",
      "\n",
      "See the caveats in the documentation: https://pandas.pydata.org/pandas-docs/stable/user_guide/indexing.html#returning-a-view-versus-a-copy\n",
      "  df_rat_nationalrat[\"DateJoining_day_month\"] = df_rat_nationalrat[\"DateJoining\"].dt.strftime(\"%d.%m.\")\n",
      "/var/folders/f0/pqy2clvx0nv38xm_npv8fklm0000gn/T/ipykernel_5045/2765569170.py:3: SettingWithCopyWarning: \n",
      "A value is trying to be set on a copy of a slice from a DataFrame.\n",
      "Try using .loc[row_indexer,col_indexer] = value instead\n",
      "\n",
      "See the caveats in the documentation: https://pandas.pydata.org/pandas-docs/stable/user_guide/indexing.html#returning-a-view-versus-a-copy\n",
      "  df_rat_nationalrat[\"DateLeaving_day_month\"] = df_rat_nationalrat[\"DateLeaving\"].dt.strftime(\"%d.%m.\")\n",
      "/var/folders/f0/pqy2clvx0nv38xm_npv8fklm0000gn/T/ipykernel_5045/2765569170.py:5: SettingWithCopyWarning: \n",
      "A value is trying to be set on a copy of a slice from a DataFrame.\n",
      "Try using .loc[row_indexer,col_indexer] = value instead\n",
      "\n",
      "See the caveats in the documentation: https://pandas.pydata.org/pandas-docs/stable/user_guide/indexing.html#returning-a-view-versus-a-copy\n",
      "  df_rat_nationalrat[\"DateJoining_year\"] = df_rat_nationalrat[\"DateJoining\"].dt.strftime(\"%Y\")\n",
      "/var/folders/f0/pqy2clvx0nv38xm_npv8fklm0000gn/T/ipykernel_5045/2765569170.py:6: SettingWithCopyWarning: \n",
      "A value is trying to be set on a copy of a slice from a DataFrame.\n",
      "Try using .loc[row_indexer,col_indexer] = value instead\n",
      "\n",
      "See the caveats in the documentation: https://pandas.pydata.org/pandas-docs/stable/user_guide/indexing.html#returning-a-view-versus-a-copy\n",
      "  df_rat_nationalrat[\"DateLeaving_year\"] = df_rat_nationalrat[\"DateLeaving\"].dt.strftime(\"%Y\")\n",
      "/Users/janisfrolich/opt/anaconda3/lib/python3.9/site-packages/pandas/util/_decorators.py:311: SettingWithCopyWarning: \n",
      "A value is trying to be set on a copy of a slice from a DataFrame\n",
      "\n",
      "See the caveats in the documentation: https://pandas.pydata.org/pandas-docs/stable/user_guide/indexing.html#returning-a-view-versus-a-copy\n",
      "  return func(*args, **kwargs)\n",
      "/var/folders/f0/pqy2clvx0nv38xm_npv8fklm0000gn/T/ipykernel_5045/2765569170.py:12: SettingWithCopyWarning: \n",
      "A value is trying to be set on a copy of a slice from a DataFrame.\n",
      "Try using .loc[row_indexer,col_indexer] = value instead\n",
      "\n",
      "See the caveats in the documentation: https://pandas.pydata.org/pandas-docs/stable/user_guide/indexing.html#returning-a-view-versus-a-copy\n",
      "  df_rat_nationalrat[\"DateJoining_year\"] = df_rat_nationalrat[\"DateJoining_year\"].astype(int)\n",
      "/var/folders/f0/pqy2clvx0nv38xm_npv8fklm0000gn/T/ipykernel_5045/2765569170.py:13: SettingWithCopyWarning: \n",
      "A value is trying to be set on a copy of a slice from a DataFrame.\n",
      "Try using .loc[row_indexer,col_indexer] = value instead\n",
      "\n",
      "See the caveats in the documentation: https://pandas.pydata.org/pandas-docs/stable/user_guide/indexing.html#returning-a-view-versus-a-copy\n",
      "  df_rat_nationalrat[\"DateLeaving_year\"] = df_rat_nationalrat[\"DateLeaving_year\"].astype(int)\n"
     ]
    }
   ],
   "source": [
    "# show only date of datejoining without the year\n",
    "df_rat_nationalrat[\"DateJoining_day_month\"] = df_rat_nationalrat[\"DateJoining\"].dt.strftime(\"%d.%m.\")\n",
    "df_rat_nationalrat[\"DateLeaving_day_month\"] = df_rat_nationalrat[\"DateLeaving\"].dt.strftime(\"%d.%m.\")\n",
    "# show only year of datejoining without the date\n",
    "df_rat_nationalrat[\"DateJoining_year\"] = df_rat_nationalrat[\"DateJoining\"].dt.strftime(\"%Y\")\n",
    "df_rat_nationalrat[\"DateLeaving_year\"] = df_rat_nationalrat[\"DateLeaving\"].dt.strftime(\"%Y\")\n",
    "\n",
    "#drop all nan rows in column DateJoining_year and DateLeaving_year\n",
    "df_rat_nationalrat.dropna(subset=[\"DateJoining_year\", \"DateLeaving_year\"], inplace=True)\n",
    "\n",
    "# change datatype of DateJoining_year and DateLeaving_year to int\n",
    "df_rat_nationalrat[\"DateJoining_year\"] = df_rat_nationalrat[\"DateJoining_year\"].astype(int)\n",
    "df_rat_nationalrat[\"DateLeaving_year\"] = df_rat_nationalrat[\"DateLeaving_year\"].astype(int)"
   ],
   "metadata": {
    "collapsed": false,
    "pycharm": {
     "name": "#%%\n"
    }
   }
  },
  {
   "cell_type": "code",
   "execution_count": 339,
   "outputs": [
    {
     "name": "stderr",
     "output_type": "stream",
     "text": [
      "/var/folders/f0/pqy2clvx0nv38xm_npv8fklm0000gn/T/ipykernel_5045/116725646.py:4: SettingWithCopyWarning: \n",
      "A value is trying to be set on a copy of a slice from a DataFrame\n",
      "\n",
      "See the caveats in the documentation: https://pandas.pydata.org/pandas-docs/stable/user_guide/indexing.html#returning-a-view-versus-a-copy\n",
      "  df_rat_nationalrat[\"DateJoining_year\"][i] += 1\n",
      "/var/folders/f0/pqy2clvx0nv38xm_npv8fklm0000gn/T/ipykernel_5045/116725646.py:6: SettingWithCopyWarning: \n",
      "A value is trying to be set on a copy of a slice from a DataFrame\n",
      "\n",
      "See the caveats in the documentation: https://pandas.pydata.org/pandas-docs/stable/user_guide/indexing.html#returning-a-view-versus-a-copy\n",
      "  df_rat_nationalrat[\"DateLeaving_year\"][i] += 1\n",
      "/Users/janisfrolich/opt/anaconda3/lib/python3.9/site-packages/pandas/core/frame.py:4906: SettingWithCopyWarning: \n",
      "A value is trying to be set on a copy of a slice from a DataFrame\n",
      "\n",
      "See the caveats in the documentation: https://pandas.pydata.org/pandas-docs/stable/user_guide/indexing.html#returning-a-view-versus-a-copy\n",
      "  return super().drop(\n"
     ]
    }
   ],
   "source": [
    "# new column range of years with start year and end year in a list like this [start year, end year]\n",
    "for i in df_rat_nationalrat.index:\n",
    "    if df_rat_nationalrat[\"DateJoining_day_month\"][i] != '01.01':\n",
    "        df_rat_nationalrat[\"DateJoining_year\"][i] += 1\n",
    "    if df_rat_nationalrat[\"DateLeaving_day_month\"][i] != '01.01':\n",
    "        df_rat_nationalrat[\"DateLeaving_year\"][i] += 1\n",
    "\n",
    "df_rat_nationalrat.drop(columns=[\"DateJoining_day_month\", \"DateLeaving_day_month\", \"DateJoining\", \"DateLeaving\"], inplace=True)"
   ],
   "metadata": {
    "collapsed": false,
    "pycharm": {
     "name": "#%%\n"
    }
   }
  },
  {
   "cell_type": "code",
   "execution_count": 340,
   "outputs": [
    {
     "name": "stderr",
     "output_type": "stream",
     "text": [
      "/var/folders/f0/pqy2clvx0nv38xm_npv8fklm0000gn/T/ipykernel_5045/1377821751.py:2: SettingWithCopyWarning: \n",
      "A value is trying to be set on a copy of a slice from a DataFrame.\n",
      "Try using .loc[row_indexer,col_indexer] = value instead\n",
      "\n",
      "See the caveats in the documentation: https://pandas.pydata.org/pandas-docs/stable/user_guide/indexing.html#returning-a-view-versus-a-copy\n",
      "  df_rat_staenderat[\"DateJoining_day_month\"] = df_rat_staenderat[\"DateJoining\"].dt.strftime(\"%d.%m.\")\n",
      "/var/folders/f0/pqy2clvx0nv38xm_npv8fklm0000gn/T/ipykernel_5045/1377821751.py:3: SettingWithCopyWarning: \n",
      "A value is trying to be set on a copy of a slice from a DataFrame.\n",
      "Try using .loc[row_indexer,col_indexer] = value instead\n",
      "\n",
      "See the caveats in the documentation: https://pandas.pydata.org/pandas-docs/stable/user_guide/indexing.html#returning-a-view-versus-a-copy\n",
      "  df_rat_staenderat[\"DateLeaving_day_month\"] = df_rat_staenderat[\"DateLeaving\"].dt.strftime(\"%d.%m.\")\n",
      "/var/folders/f0/pqy2clvx0nv38xm_npv8fklm0000gn/T/ipykernel_5045/1377821751.py:5: SettingWithCopyWarning: \n",
      "A value is trying to be set on a copy of a slice from a DataFrame.\n",
      "Try using .loc[row_indexer,col_indexer] = value instead\n",
      "\n",
      "See the caveats in the documentation: https://pandas.pydata.org/pandas-docs/stable/user_guide/indexing.html#returning-a-view-versus-a-copy\n",
      "  df_rat_staenderat[\"DateJoining_year\"] = df_rat_staenderat[\"DateJoining\"].dt.strftime(\"%Y\")\n",
      "/var/folders/f0/pqy2clvx0nv38xm_npv8fklm0000gn/T/ipykernel_5045/1377821751.py:6: SettingWithCopyWarning: \n",
      "A value is trying to be set on a copy of a slice from a DataFrame.\n",
      "Try using .loc[row_indexer,col_indexer] = value instead\n",
      "\n",
      "See the caveats in the documentation: https://pandas.pydata.org/pandas-docs/stable/user_guide/indexing.html#returning-a-view-versus-a-copy\n",
      "  df_rat_staenderat[\"DateLeaving_year\"] = df_rat_staenderat[\"DateLeaving\"].dt.strftime(\"%Y\")\n",
      "/Users/janisfrolich/opt/anaconda3/lib/python3.9/site-packages/pandas/util/_decorators.py:311: SettingWithCopyWarning: \n",
      "A value is trying to be set on a copy of a slice from a DataFrame\n",
      "\n",
      "See the caveats in the documentation: https://pandas.pydata.org/pandas-docs/stable/user_guide/indexing.html#returning-a-view-versus-a-copy\n",
      "  return func(*args, **kwargs)\n",
      "/var/folders/f0/pqy2clvx0nv38xm_npv8fklm0000gn/T/ipykernel_5045/1377821751.py:13: SettingWithCopyWarning: \n",
      "A value is trying to be set on a copy of a slice from a DataFrame.\n",
      "Try using .loc[row_indexer,col_indexer] = value instead\n",
      "\n",
      "See the caveats in the documentation: https://pandas.pydata.org/pandas-docs/stable/user_guide/indexing.html#returning-a-view-versus-a-copy\n",
      "  df_rat_staenderat[\"DateJoining_year\"] = df_rat_staenderat[\"DateJoining_year\"].astype(float)\n",
      "/var/folders/f0/pqy2clvx0nv38xm_npv8fklm0000gn/T/ipykernel_5045/1377821751.py:14: SettingWithCopyWarning: \n",
      "A value is trying to be set on a copy of a slice from a DataFrame.\n",
      "Try using .loc[row_indexer,col_indexer] = value instead\n",
      "\n",
      "See the caveats in the documentation: https://pandas.pydata.org/pandas-docs/stable/user_guide/indexing.html#returning-a-view-versus-a-copy\n",
      "  df_rat_staenderat[\"DateLeaving_year\"] = df_rat_staenderat[\"DateLeaving_year\"].astype(float)\n"
     ]
    }
   ],
   "source": [
    "# show only date of datejoining without the year\n",
    "df_rat_staenderat[\"DateJoining_day_month\"] = df_rat_staenderat[\"DateJoining\"].dt.strftime(\"%d.%m.\")\n",
    "df_rat_staenderat[\"DateLeaving_day_month\"] = df_rat_staenderat[\"DateLeaving\"].dt.strftime(\"%d.%m.\")\n",
    "# show only year of datejoining without the date\n",
    "df_rat_staenderat[\"DateJoining_year\"] = df_rat_staenderat[\"DateJoining\"].dt.strftime(\"%Y\")\n",
    "df_rat_staenderat[\"DateLeaving_year\"] = df_rat_staenderat[\"DateLeaving\"].dt.strftime(\"%Y\")\n",
    "\n",
    "#drop all nan rows in column DateJoining_year and DateLeaving_year\n",
    "df_rat_staenderat.dropna(subset=[\"DateJoining_year\", \"DateLeaving_year\"], inplace=True)\n",
    "\n",
    "\n",
    "# change datatype of DateJoining_year and DateLeaving_year to int\n",
    "df_rat_staenderat[\"DateJoining_year\"] = df_rat_staenderat[\"DateJoining_year\"].astype(float)\n",
    "df_rat_staenderat[\"DateLeaving_year\"] = df_rat_staenderat[\"DateLeaving_year\"].astype(float)"
   ],
   "metadata": {
    "collapsed": false,
    "pycharm": {
     "name": "#%%\n"
    }
   }
  },
  {
   "cell_type": "code",
   "execution_count": 341,
   "outputs": [
    {
     "name": "stderr",
     "output_type": "stream",
     "text": [
      "/var/folders/f0/pqy2clvx0nv38xm_npv8fklm0000gn/T/ipykernel_5045/2249764887.py:4: SettingWithCopyWarning: \n",
      "A value is trying to be set on a copy of a slice from a DataFrame\n",
      "\n",
      "See the caveats in the documentation: https://pandas.pydata.org/pandas-docs/stable/user_guide/indexing.html#returning-a-view-versus-a-copy\n",
      "  df_rat_staenderat[\"DateJoining_year\"][i] += 1\n",
      "/var/folders/f0/pqy2clvx0nv38xm_npv8fklm0000gn/T/ipykernel_5045/2249764887.py:6: SettingWithCopyWarning: \n",
      "A value is trying to be set on a copy of a slice from a DataFrame\n",
      "\n",
      "See the caveats in the documentation: https://pandas.pydata.org/pandas-docs/stable/user_guide/indexing.html#returning-a-view-versus-a-copy\n",
      "  df_rat_staenderat[\"DateLeaving_year\"][i] += 1\n",
      "/Users/janisfrolich/opt/anaconda3/lib/python3.9/site-packages/pandas/core/frame.py:4906: SettingWithCopyWarning: \n",
      "A value is trying to be set on a copy of a slice from a DataFrame\n",
      "\n",
      "See the caveats in the documentation: https://pandas.pydata.org/pandas-docs/stable/user_guide/indexing.html#returning-a-view-versus-a-copy\n",
      "  return super().drop(\n"
     ]
    }
   ],
   "source": [
    "# new column range of years with start year and end year in a list like this [start year, end year]\n",
    "for i in df_rat_staenderat.index:\n",
    "    if df_rat_staenderat[\"DateJoining_day_month\"][i] != '01.01':\n",
    "        df_rat_staenderat[\"DateJoining_year\"][i] += 1\n",
    "    if df_rat_staenderat[\"DateLeaving_day_month\"][i] != '01.01':\n",
    "        df_rat_staenderat[\"DateLeaving_year\"][i] += 1\n",
    "\n",
    "df_rat_staenderat.drop(columns=[\"DateJoining_day_month\", \"DateLeaving_day_month\", \"DateJoining\", \"DateLeaving\"], inplace=True)"
   ],
   "metadata": {
    "collapsed": false,
    "pycharm": {
     "name": "#%%\n"
    }
   }
  },
  {
   "cell_type": "markdown",
   "source": [
    "# Zauberformel"
   ],
   "metadata": {
    "collapsed": false,
    "pycharm": {
     "name": "#%% md\n"
    }
   }
  },
  {
   "cell_type": "code",
   "execution_count": null,
   "outputs": [],
   "source": [
    "df_rat_bundesrat"
   ],
   "metadata": {
    "collapsed": false,
    "pycharm": {
     "name": "#%%\n"
    }
   }
  },
  {
   "cell_type": "markdown",
   "source": [
    "# Frauenquote"
   ],
   "metadata": {
    "collapsed": false,
    "pycharm": {
     "name": "#%% md\n"
    }
   }
  },
  {
   "cell_type": "code",
   "execution_count": null,
   "outputs": [],
   "source": [
    "df_rat"
   ],
   "metadata": {
    "collapsed": false,
    "pycharm": {
     "name": "#%%\n"
    }
   }
  },
  {
   "cell_type": "code",
   "execution_count": null,
   "outputs": [],
   "source": [],
   "metadata": {
    "collapsed": false,
    "pycharm": {
     "name": "#%%\n"
    }
   }
  }
 ],
 "metadata": {
  "kernelspec": {
   "display_name": "Python 3",
   "language": "python",
   "name": "python3"
  },
  "language_info": {
   "codemirror_mode": {
    "name": "ipython",
    "version": 2
   },
   "file_extension": ".py",
   "mimetype": "text/x-python",
   "name": "python",
   "nbconvert_exporter": "python",
   "pygments_lexer": "ipython2",
   "version": "2.7.6"
  }
 },
 "nbformat": 4,
 "nbformat_minor": 0
}