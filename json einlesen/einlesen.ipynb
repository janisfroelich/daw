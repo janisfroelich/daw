{
 "cells": [
  {
   "cell_type": "code",
   "execution_count": 72,
   "metadata": {
    "collapsed": true
   },
   "outputs": [],
   "source": [
    "import json\n",
    "import pandas as pd"
   ]
  },
  {
   "cell_type": "code",
   "execution_count": 74,
   "outputs": [],
   "source": [
    "df = pd.read_json(\"sample2.json\", orient=\"index\")"
   ],
   "metadata": {
    "collapsed": false,
    "pycharm": {
     "name": "#%%\n"
    }
   }
  },
  {
   "cell_type": "code",
   "execution_count": 75,
   "outputs": [
    {
     "data": {
      "text/plain": "                                                              0\nfirstName                                                   Joe\nlastName                                                Jackson\ngender                                                     male\nage                                                          28\naddress       [{'streetAddress': '101', 'city': 'San Diego',...\nphoneNumbers         [{'type': 'home', 'number': '7349282382'}]",
      "text/html": "<div>\n<style scoped>\n    .dataframe tbody tr th:only-of-type {\n        vertical-align: middle;\n    }\n\n    .dataframe tbody tr th {\n        vertical-align: top;\n    }\n\n    .dataframe thead th {\n        text-align: right;\n    }\n</style>\n<table border=\"1\" class=\"dataframe\">\n  <thead>\n    <tr style=\"text-align: right;\">\n      <th></th>\n      <th>0</th>\n    </tr>\n  </thead>\n  <tbody>\n    <tr>\n      <th>firstName</th>\n      <td>Joe</td>\n    </tr>\n    <tr>\n      <th>lastName</th>\n      <td>Jackson</td>\n    </tr>\n    <tr>\n      <th>gender</th>\n      <td>male</td>\n    </tr>\n    <tr>\n      <th>age</th>\n      <td>28</td>\n    </tr>\n    <tr>\n      <th>address</th>\n      <td>[{'streetAddress': '101', 'city': 'San Diego',...</td>\n    </tr>\n    <tr>\n      <th>phoneNumbers</th>\n      <td>[{'type': 'home', 'number': '7349282382'}]</td>\n    </tr>\n  </tbody>\n</table>\n</div>"
     },
     "execution_count": 75,
     "metadata": {},
     "output_type": "execute_result"
    }
   ],
   "source": [
    "df"
   ],
   "metadata": {
    "collapsed": false,
    "pycharm": {
     "name": "#%%\n"
    }
   }
  },
  {
   "cell_type": "code",
   "execution_count": 76,
   "outputs": [],
   "source": [
    "df_pivot = df.transpose()"
   ],
   "metadata": {
    "collapsed": false,
    "pycharm": {
     "name": "#%%\n"
    }
   }
  },
  {
   "cell_type": "code",
   "execution_count": 77,
   "outputs": [
    {
     "data": {
      "text/plain": "  firstName lastName gender age  \\\n0       Joe  Jackson   male  28   \n\n                                             address  \\\n0  [{'streetAddress': '101', 'city': 'San Diego',...   \n\n                                 phoneNumbers  \n0  [{'type': 'home', 'number': '7349282382'}]  ",
      "text/html": "<div>\n<style scoped>\n    .dataframe tbody tr th:only-of-type {\n        vertical-align: middle;\n    }\n\n    .dataframe tbody tr th {\n        vertical-align: top;\n    }\n\n    .dataframe thead th {\n        text-align: right;\n    }\n</style>\n<table border=\"1\" class=\"dataframe\">\n  <thead>\n    <tr style=\"text-align: right;\">\n      <th></th>\n      <th>firstName</th>\n      <th>lastName</th>\n      <th>gender</th>\n      <th>age</th>\n      <th>address</th>\n      <th>phoneNumbers</th>\n    </tr>\n  </thead>\n  <tbody>\n    <tr>\n      <th>0</th>\n      <td>Joe</td>\n      <td>Jackson</td>\n      <td>male</td>\n      <td>28</td>\n      <td>[{'streetAddress': '101', 'city': 'San Diego',...</td>\n      <td>[{'type': 'home', 'number': '7349282382'}]</td>\n    </tr>\n  </tbody>\n</table>\n</div>"
     },
     "execution_count": 77,
     "metadata": {},
     "output_type": "execute_result"
    }
   ],
   "source": [
    "df_pivot"
   ],
   "metadata": {
    "collapsed": false,
    "pycharm": {
     "name": "#%%\n"
    }
   }
  },
  {
   "cell_type": "code",
   "execution_count": 78,
   "outputs": [
    {
     "name": "stdout",
     "output_type": "stream",
     "text": [
      "{'streetAddress': '101', 'city': 'San Diego', 'state': 'CA'}\n",
      "<class 'dict'>\n"
     ]
    }
   ],
   "source": [
    "for i in df_pivot[\"address\"]:\n",
    "    print(i[0])\n",
    "    print(type(i[0]))\n",
    "    all_keys = i[0].keys()"
   ],
   "metadata": {
    "collapsed": false,
    "pycharm": {
     "name": "#%%\n"
    }
   }
  },
  {
   "cell_type": "code",
   "execution_count": 79,
   "outputs": [
    {
     "name": "stdout",
     "output_type": "stream",
     "text": [
      "  firstName lastName gender age                                phoneNumbers  \\\n",
      "0       Joe  Jackson   male  28  [{'type': 'home', 'number': '7349282382'}]   \n",
      "\n",
      "  streetAddress       city state  \n",
      "0           101  San Diego    CA  \n"
     ]
    }
   ],
   "source": [
    "#Address in seperate columns\n",
    "item = 0\n",
    "keys = [i for i in all_keys]\n",
    "for i in range(len(keys)):\n",
    "    for i in df_pivot[\"address\"][0]:\n",
    "        df_pivot[keys[item]] = i.get(keys[item])\n",
    "        item += 1\n",
    "df_pivot=df_pivot.drop(columns=\"address\")\n",
    "print(df_pivot)"
   ],
   "metadata": {
    "collapsed": false,
    "pycharm": {
     "name": "#%%\n"
    }
   }
  },
  {
   "cell_type": "code",
   "execution_count": 80,
   "outputs": [
    {
     "name": "stdout",
     "output_type": "stream",
     "text": [
      "  firstName lastName gender age streetAddress       city state        home\n",
      "0       Joe  Jackson   male  28           101  San Diego    CA  7349282382\n"
     ]
    }
   ],
   "source": [
    "#Phone number in seperate columns\n",
    "for i in range(2):\n",
    "    for n in df_pivot[\"phoneNumbers\"][0]:\n",
    "        phone_values = n.values()\n",
    "\n",
    "values = [i for i in phone_values]\n",
    "df_pivot = df_pivot.drop(columns=\"phoneNumbers\")\n",
    "df_pivot[values[0]] = values[1]\n",
    "\n",
    "print(df_pivot)"
   ],
   "metadata": {
    "collapsed": false,
    "pycharm": {
     "name": "#%%\n"
    }
   }
  }
 ],
 "metadata": {
  "kernelspec": {
   "display_name": "Python 3",
   "language": "python",
   "name": "python3"
  },
  "language_info": {
   "codemirror_mode": {
    "name": "ipython",
    "version": 2
   },
   "file_extension": ".py",
   "mimetype": "text/x-python",
   "name": "python",
   "nbconvert_exporter": "python",
   "pygments_lexer": "ipython2",
   "version": "2.7.6"
  }
 },
 "nbformat": 4,
 "nbformat_minor": 0
}